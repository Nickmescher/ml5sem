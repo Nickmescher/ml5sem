{
  "nbformat": 4,
  "nbformat_minor": 0,
  "metadata": {
    "kernelspec": {
      "display_name": "Python 3",
      "language": "python",
      "name": "python3"
    },
    "language_info": {
      "codemirror_mode": {
        "name": "ipython",
        "version": 3
      },
      "file_extension": ".py",
      "mimetype": "text/x-python",
      "name": "python",
      "nbconvert_exporter": "python",
      "pygments_lexer": "ipython3",
      "version": "3.6.5"
    },
    "toc": {
      "base_numbering": 1,
      "nav_menu": {},
      "number_sections": true,
      "sideBar": true,
      "skip_h1_title": false,
      "title_cell": "Table of Contents",
      "title_sidebar": "Contents",
      "toc_cell": false,
      "toc_position": {},
      "toc_section_display": true,
      "toc_window_display": false
    },
    "colab": {
      "provenance": [],
      "toc_visible": true,
      "include_colab_link": true
    }
  },
  "cells": [
    {
      "cell_type": "markdown",
      "metadata": {
        "id": "view-in-github",
        "colab_type": "text"
      },
      "source": [
        "<a href=\"https://colab.research.google.com/github/Nickmescher/ml5sem/blob/main/lab_3_2.ipynb\" target=\"_parent\"><img src=\"https://colab.research.google.com/assets/colab-badge.svg\" alt=\"Open In Colab\"/></a>"
      ]
    },
    {
      "cell_type": "markdown",
      "metadata": {
        "id": "-7WO78Auf0qu"
      },
      "source": [
        "Это вторая часть задания.\n",
        "\n",
        "Первая часть задания (задания 3.1-3.4) находится в [ноутбуке про линейную регрессию](https://colab.research.google.com/drive/1eX21oBHRAzNr3PimxhMJENF3yeBC2DBe?usp=sharing)."
      ]
    },
    {
      "cell_type": "markdown",
      "metadata": {
        "id": "LYKqDli0Lqas"
      },
      "source": [
        "# Предсказание цен на недвижимость\n",
        "\n",
        "Компании по продаже недвижимости оценивают её стоимость, используя методы машинного обучения. \n",
        "Задача оценки цены на недвижимость также может быть нужна для выявления наиболее выгодных предложений, или, например, для выявления аномально низких цен на объект недвижимости."
      ]
    },
    {
      "cell_type": "markdown",
      "metadata": {
        "id": "FB3xfscxLqat"
      },
      "source": [
        "**Постановка задачи анализа данных** \n",
        "\n",
        "Целью данной задачи является прогнозирование стоимости домов в округе Кинг (штат Вашингтон, США) с помощью построения регрессионных моделей и их анализа. Набор данных состоит из цен на дома в округе Кинг, проданных в период с мая 2014 года по май 2015 года. Данные опубликованы в открытом доступе на платформе Kaggle. "
      ]
    },
    {
      "cell_type": "markdown",
      "metadata": {
        "id": "rvJWkambLqau"
      },
      "source": [
        "Данные с сайта renthub.com по стоимости квартир для аренды:"
      ]
    },
    {
      "cell_type": "markdown",
      "metadata": {
        "id": "_vD1NqACLqav"
      },
      "source": [
        "<a href=\"https://drive.google.com/uc?id=1Dr-p-o5yMi3uIS2kPcUUwT5bH0cCt1Be\n",
        "\" target=\"_blank\"><img src=\"https://drive.google.com/uc?id=1Dr-p-o5yMi3uIS2kPcUUwT5bH0cCt1Be\" \n",
        "alt=\"IMAGE ALT TEXT HERE\" width=\"360\" border=\"0\" /></a>\n"
      ]
    },
    {
      "cell_type": "markdown",
      "metadata": {
        "id": "S15gn1XfLqaw"
      },
      "source": [
        "**Обзор доступных данных**\n",
        "\n",
        "В наборе данных 21613 наблюдений и 16 признаков. \n",
        "Таким образом, про каждый из 21613 объектов недвижимости мы знаем значения 16 характеристик (число спален, оценка состояния риелтором, наличие вида на воду и т.п.)\n",
        "\n",
        "Выборка была разбита на две части для обучения и для тестирования модели. Данные на обучение и тест обычно делят случайно и равномерно: нужно чтобы и обучающая, и тестовая выборка были похожие на те данные, на которых модель будет использоваться в боевых условиях. \n",
        "\n",
        "Более сложные разбиения могут использоваться если в данных есть временная компонента - например, мы строим скоринговую модель и для теста откладываем данные за последние несколько месяцев, а всю остальную выборку используем для обучения. Такое разбиение имитирует реальную работу модели: мы можем обучаться только на данных прошлых кредитов, а работать модель уже будет на данных из будущего. \n",
        "\n",
        "Доли общей выборки для обучения и тестирования обычно 70% и 30% соотвественно. Любые разумные числа подходят, если для обучения используется достаточно много данных (обычно больше 50%), но и для тестирования что-то остается (10% и больше).\n"
      ]
    },
    {
      "cell_type": "markdown",
      "metadata": {
        "id": "iOeVms4dLqax"
      },
      "source": [
        "Данные содержат два типа переменных:\n",
        "\n",
        "* Целевая: **Целевая. Цена**\n",
        "* Остальные переменные **могут использоваться для прогноза целевой переменной.**"
      ]
    },
    {
      "cell_type": "markdown",
      "metadata": {
        "id": "OFP_i1F1Lqay"
      },
      "source": [
        "## План анализа данных (data mining):\n",
        "\n",
        "  1. Загрузить данные для обучения\n",
        "  2. Обработать данные перед обучением модели\n",
        "  3. Обучить модель на обучающей выборке\n",
        "  4. Загрузить и предобработать данные для тестирования\n",
        "  5. Провалидировать модель на тестовой выборке\n",
        "  6. Проанализировать важность признаков и не забыть про постановку задачи"
      ]
    },
    {
      "cell_type": "markdown",
      "metadata": {
        "id": "mKUYn0nHLqaz"
      },
      "source": [
        "## 1. Загрузить данные для обучения"
      ]
    },
    {
      "cell_type": "markdown",
      "metadata": {
        "id": "Bqqurd70Lqaz"
      },
      "source": [
        "**Шаг 1.1. Загружаем библиотеки** "
      ]
    },
    {
      "cell_type": "markdown",
      "metadata": {
        "id": "rY5oSQ0-Lqa0"
      },
      "source": [
        "Библиотека **warnings** отвечает за то, какие предупреждения (warnings) о работе будут выводиться пользователю. \n",
        "FutureWarning - предупреждения о том, как изменится работа библиотек в будущих версиях.\n",
        "Поэтому такие предупреждения мы будем игнорировать.\n",
        "Чтобы включить режим игнорирования мы отбираем все предупреждения из категории FutureWarning и выбираем для них действия 'ignore'.\n",
        "Это делается вызовом функции simplefilter c задание двух атрибутов: действия action и категории предупреждений category."
      ]
    },
    {
      "cell_type": "code",
      "metadata": {
        "id": "SVfM6HC8Lqa1"
      },
      "source": [
        "import warnings\n",
        "warnings.simplefilter(action='ignore', category=FutureWarning)"
      ],
      "execution_count": null,
      "outputs": []
    },
    {
      "cell_type": "markdown",
      "metadata": {
        "id": "28Bf-HdaLqa4"
      },
      "source": [
        "Для корректной работы с данными в python требуется загрузить специальную библиотеку\n",
        "**pandas**, программную библиотеку на языке python для обработки и анализа данных. "
      ]
    },
    {
      "cell_type": "code",
      "metadata": {
        "id": "DuCW163qLqa4"
      },
      "source": [
        "import pandas as pd # загружаем библиотеку и для простоты обращения в коде называем её сокращенно pd"
      ],
      "execution_count": null,
      "outputs": []
    },
    {
      "cell_type": "markdown",
      "metadata": {
        "id": "NT0TLhqxLqa7"
      },
      "source": [
        "Для корректной работы с графиками в python требуется загрузить специальную библиотеку\n",
        "**matplotlib**, программную библиотеку на языке python для визуализации данных двумерной и трехмерной графикой.\n",
        "\n",
        "Графики используются для облегчения интерпретации полученных результатов, а также в качестве иллюстраций в презентациях и отчетах. \n",
        "\n",
        "Оснвные методы для построения:\n",
        "* plot() - графики\n",
        "* semilogy() - график логарифмический\n",
        "* hist() - гистограммы"
      ]
    },
    {
      "cell_type": "code",
      "metadata": {
        "id": "gHGUZu8rLqa8"
      },
      "source": [
        "import matplotlib.pyplot as plt # загружаем библиотеку и для простоты обращения в коде называем её сокращенно plt\n",
        "# указываем, чтобы картинки отображались прямо в ноутбуке \n",
        "%matplotlib inline "
      ],
      "execution_count": null,
      "outputs": []
    },
    {
      "cell_type": "markdown",
      "metadata": {
        "id": "JVr8btg7Qk3x"
      },
      "source": [
        "**Шаг 1.2. Загрузим данные**"
      ]
    },
    {
      "cell_type": "markdown",
      "metadata": {
        "id": "5pzU4iRyQN9H"
      },
      "source": [
        "Для решения задачи мы будем использовать данные. Они состоят из двух частей: часть для обучения и часть для тестирования модели. Загружаем данные с помощие команды !wget. Для того, чтобы игнорировать сообщения в процессе загрузки используем магическую команду %%capture в первой строке."
      ]
    },
    {
      "cell_type": "code",
      "metadata": {
        "id": "g6rmRg3BOTxG"
      },
      "source": [
        "%%capture\n",
        "!wget https://www.dropbox.com/s/afwb0tnqm9izxha/predict_house_price_training_data.xlsx\n",
        "!wget https://www.dropbox.com/s/sur2avqf4n5f4az/predict_house_price_test_data.xlsx"
      ],
      "execution_count": null,
      "outputs": []
    },
    {
      "cell_type": "markdown",
      "metadata": {
        "id": "yJpKlVRBLqa-"
      },
      "source": [
        "Так как данные в формате xlsx (Excel), мы будем использовать специальную функцию\n",
        "из библиотеки pandas для загрузки таких данных **read_excel**.\n",
        "\n",
        "В функции передаем один атрибут: название таблицы с данными."
      ]
    },
    {
      "cell_type": "code",
      "metadata": {
        "id": "jaBeMSeuLqa_"
      },
      "source": [
        "training_data = pd.read_excel('predict_house_price_training_data.xlsx') # загружаем таблицу в переменную training_data"
      ],
      "execution_count": null,
      "outputs": []
    },
    {
      "cell_type": "markdown",
      "metadata": {
        "id": "jK9Xd2a5LqbB"
      },
      "source": [
        "*Что важно посмотреть после того, как мы загрузили данные?*\n",
        "- проверить, что данные действительно загрузились\n",
        "- посмотреть на данные, чтобы удостовериться, что они правильные: колонки имеют те же названия, что и в таблице и т.д.\n",
        "\n",
        "Для того чтобы это сделать, нужно вызвать от переменной *training_data* метод **head()**, который выводит первые 5 строк таблицы. \n",
        "\n",
        "Для вызова метода объекта необходимо сначала написать *имя объекта*, затем поставить *точку*, затем уже написать *название метода*. Обратите внимание, что в конце обязательно ставить скобочки, потому что метод - это функция и в ней есть аргументы, просто в данном случае мы их не передаем, поэтому оставляем поле пустым"
      ]
    },
    {
      "cell_type": "code",
      "metadata": {
        "id": "q3Me_dg-LqbC",
        "colab": {
          "base_uri": "https://localhost:8080/",
          "height": 305
        },
        "outputId": "e8e2b29c-c47c-41ea-e923-9a1c37955006"
      },
      "source": [
        "training_data.head()"
      ],
      "execution_count": null,
      "outputs": [
        {
          "output_type": "execute_result",
          "data": {
            "text/plain": [
              "   Целевая.Цена  Спальни  Ванные  Жилая площадь  Общая площадь  \\\n",
              "0        830000        5    3.50           3490          21780   \n",
              "1        385000        4    1.75           2360           7620   \n",
              "2        610000        6    2.75           2040           8560   \n",
              "3        550000        3    1.75           1940           8376   \n",
              "4       1300000        3    2.75           3450           5350   \n",
              "\n",
              "   Количество этажей  Вид на воду  Просмотрены ранее  Состояние  \\\n",
              "0                2.0            0                  0          3   \n",
              "1                1.0            0                  0          4   \n",
              "2                1.0            0                  2          4   \n",
              "3                1.0            0                  0          4   \n",
              "4                1.5            0                  3          4   \n",
              "\n",
              "   Оценка риелтора  Площадь без подвала  Площадь подвала  Год постройки  \\\n",
              "0                8                 3490                0           1996   \n",
              "1                7                 1180             1180           1955   \n",
              "2                7                 1100              940           1961   \n",
              "3                8                 1290              650           1963   \n",
              "4                9                 2590              860           1925   \n",
              "\n",
              "   Год реновации   Широта  Долгота  \n",
              "0              0  47.6707 -122.144  \n",
              "1              0  47.5278 -122.345  \n",
              "2              0  47.6160 -122.115  \n",
              "3              0  47.5586 -122.173  \n",
              "4              0  47.6389 -122.407  "
            ],
            "text/html": [
              "\n",
              "  <div id=\"df-04454a9a-a607-4c5d-947c-6faf1e50d042\">\n",
              "    <div class=\"colab-df-container\">\n",
              "      <div>\n",
              "<style scoped>\n",
              "    .dataframe tbody tr th:only-of-type {\n",
              "        vertical-align: middle;\n",
              "    }\n",
              "\n",
              "    .dataframe tbody tr th {\n",
              "        vertical-align: top;\n",
              "    }\n",
              "\n",
              "    .dataframe thead th {\n",
              "        text-align: right;\n",
              "    }\n",
              "</style>\n",
              "<table border=\"1\" class=\"dataframe\">\n",
              "  <thead>\n",
              "    <tr style=\"text-align: right;\">\n",
              "      <th></th>\n",
              "      <th>Целевая.Цена</th>\n",
              "      <th>Спальни</th>\n",
              "      <th>Ванные</th>\n",
              "      <th>Жилая площадь</th>\n",
              "      <th>Общая площадь</th>\n",
              "      <th>Количество этажей</th>\n",
              "      <th>Вид на воду</th>\n",
              "      <th>Просмотрены ранее</th>\n",
              "      <th>Состояние</th>\n",
              "      <th>Оценка риелтора</th>\n",
              "      <th>Площадь без подвала</th>\n",
              "      <th>Площадь подвала</th>\n",
              "      <th>Год постройки</th>\n",
              "      <th>Год реновации</th>\n",
              "      <th>Широта</th>\n",
              "      <th>Долгота</th>\n",
              "    </tr>\n",
              "  </thead>\n",
              "  <tbody>\n",
              "    <tr>\n",
              "      <th>0</th>\n",
              "      <td>830000</td>\n",
              "      <td>5</td>\n",
              "      <td>3.50</td>\n",
              "      <td>3490</td>\n",
              "      <td>21780</td>\n",
              "      <td>2.0</td>\n",
              "      <td>0</td>\n",
              "      <td>0</td>\n",
              "      <td>3</td>\n",
              "      <td>8</td>\n",
              "      <td>3490</td>\n",
              "      <td>0</td>\n",
              "      <td>1996</td>\n",
              "      <td>0</td>\n",
              "      <td>47.6707</td>\n",
              "      <td>-122.144</td>\n",
              "    </tr>\n",
              "    <tr>\n",
              "      <th>1</th>\n",
              "      <td>385000</td>\n",
              "      <td>4</td>\n",
              "      <td>1.75</td>\n",
              "      <td>2360</td>\n",
              "      <td>7620</td>\n",
              "      <td>1.0</td>\n",
              "      <td>0</td>\n",
              "      <td>0</td>\n",
              "      <td>4</td>\n",
              "      <td>7</td>\n",
              "      <td>1180</td>\n",
              "      <td>1180</td>\n",
              "      <td>1955</td>\n",
              "      <td>0</td>\n",
              "      <td>47.5278</td>\n",
              "      <td>-122.345</td>\n",
              "    </tr>\n",
              "    <tr>\n",
              "      <th>2</th>\n",
              "      <td>610000</td>\n",
              "      <td>6</td>\n",
              "      <td>2.75</td>\n",
              "      <td>2040</td>\n",
              "      <td>8560</td>\n",
              "      <td>1.0</td>\n",
              "      <td>0</td>\n",
              "      <td>2</td>\n",
              "      <td>4</td>\n",
              "      <td>7</td>\n",
              "      <td>1100</td>\n",
              "      <td>940</td>\n",
              "      <td>1961</td>\n",
              "      <td>0</td>\n",
              "      <td>47.6160</td>\n",
              "      <td>-122.115</td>\n",
              "    </tr>\n",
              "    <tr>\n",
              "      <th>3</th>\n",
              "      <td>550000</td>\n",
              "      <td>3</td>\n",
              "      <td>1.75</td>\n",
              "      <td>1940</td>\n",
              "      <td>8376</td>\n",
              "      <td>1.0</td>\n",
              "      <td>0</td>\n",
              "      <td>0</td>\n",
              "      <td>4</td>\n",
              "      <td>8</td>\n",
              "      <td>1290</td>\n",
              "      <td>650</td>\n",
              "      <td>1963</td>\n",
              "      <td>0</td>\n",
              "      <td>47.5586</td>\n",
              "      <td>-122.173</td>\n",
              "    </tr>\n",
              "    <tr>\n",
              "      <th>4</th>\n",
              "      <td>1300000</td>\n",
              "      <td>3</td>\n",
              "      <td>2.75</td>\n",
              "      <td>3450</td>\n",
              "      <td>5350</td>\n",
              "      <td>1.5</td>\n",
              "      <td>0</td>\n",
              "      <td>3</td>\n",
              "      <td>4</td>\n",
              "      <td>9</td>\n",
              "      <td>2590</td>\n",
              "      <td>860</td>\n",
              "      <td>1925</td>\n",
              "      <td>0</td>\n",
              "      <td>47.6389</td>\n",
              "      <td>-122.407</td>\n",
              "    </tr>\n",
              "  </tbody>\n",
              "</table>\n",
              "</div>\n",
              "      <button class=\"colab-df-convert\" onclick=\"convertToInteractive('df-04454a9a-a607-4c5d-947c-6faf1e50d042')\"\n",
              "              title=\"Convert this dataframe to an interactive table.\"\n",
              "              style=\"display:none;\">\n",
              "        \n",
              "  <svg xmlns=\"http://www.w3.org/2000/svg\" height=\"24px\"viewBox=\"0 0 24 24\"\n",
              "       width=\"24px\">\n",
              "    <path d=\"M0 0h24v24H0V0z\" fill=\"none\"/>\n",
              "    <path d=\"M18.56 5.44l.94 2.06.94-2.06 2.06-.94-2.06-.94-.94-2.06-.94 2.06-2.06.94zm-11 1L8.5 8.5l.94-2.06 2.06-.94-2.06-.94L8.5 2.5l-.94 2.06-2.06.94zm10 10l.94 2.06.94-2.06 2.06-.94-2.06-.94-.94-2.06-.94 2.06-2.06.94z\"/><path d=\"M17.41 7.96l-1.37-1.37c-.4-.4-.92-.59-1.43-.59-.52 0-1.04.2-1.43.59L10.3 9.45l-7.72 7.72c-.78.78-.78 2.05 0 2.83L4 21.41c.39.39.9.59 1.41.59.51 0 1.02-.2 1.41-.59l7.78-7.78 2.81-2.81c.8-.78.8-2.07 0-2.86zM5.41 20L4 18.59l7.72-7.72 1.47 1.35L5.41 20z\"/>\n",
              "  </svg>\n",
              "      </button>\n",
              "      \n",
              "  <style>\n",
              "    .colab-df-container {\n",
              "      display:flex;\n",
              "      flex-wrap:wrap;\n",
              "      gap: 12px;\n",
              "    }\n",
              "\n",
              "    .colab-df-convert {\n",
              "      background-color: #E8F0FE;\n",
              "      border: none;\n",
              "      border-radius: 50%;\n",
              "      cursor: pointer;\n",
              "      display: none;\n",
              "      fill: #1967D2;\n",
              "      height: 32px;\n",
              "      padding: 0 0 0 0;\n",
              "      width: 32px;\n",
              "    }\n",
              "\n",
              "    .colab-df-convert:hover {\n",
              "      background-color: #E2EBFA;\n",
              "      box-shadow: 0px 1px 2px rgba(60, 64, 67, 0.3), 0px 1px 3px 1px rgba(60, 64, 67, 0.15);\n",
              "      fill: #174EA6;\n",
              "    }\n",
              "\n",
              "    [theme=dark] .colab-df-convert {\n",
              "      background-color: #3B4455;\n",
              "      fill: #D2E3FC;\n",
              "    }\n",
              "\n",
              "    [theme=dark] .colab-df-convert:hover {\n",
              "      background-color: #434B5C;\n",
              "      box-shadow: 0px 1px 3px 1px rgba(0, 0, 0, 0.15);\n",
              "      filter: drop-shadow(0px 1px 2px rgba(0, 0, 0, 0.3));\n",
              "      fill: #FFFFFF;\n",
              "    }\n",
              "  </style>\n",
              "\n",
              "      <script>\n",
              "        const buttonEl =\n",
              "          document.querySelector('#df-04454a9a-a607-4c5d-947c-6faf1e50d042 button.colab-df-convert');\n",
              "        buttonEl.style.display =\n",
              "          google.colab.kernel.accessAllowed ? 'block' : 'none';\n",
              "\n",
              "        async function convertToInteractive(key) {\n",
              "          const element = document.querySelector('#df-04454a9a-a607-4c5d-947c-6faf1e50d042');\n",
              "          const dataTable =\n",
              "            await google.colab.kernel.invokeFunction('convertToInteractive',\n",
              "                                                     [key], {});\n",
              "          if (!dataTable) return;\n",
              "\n",
              "          const docLinkHtml = 'Like what you see? Visit the ' +\n",
              "            '<a target=\"_blank\" href=https://colab.research.google.com/notebooks/data_table.ipynb>data table notebook</a>'\n",
              "            + ' to learn more about interactive tables.';\n",
              "          element.innerHTML = '';\n",
              "          dataTable['output_type'] = 'display_data';\n",
              "          await google.colab.output.renderOutput(dataTable, element);\n",
              "          const docLink = document.createElement('div');\n",
              "          docLink.innerHTML = docLinkHtml;\n",
              "          element.appendChild(docLink);\n",
              "        }\n",
              "      </script>\n",
              "    </div>\n",
              "  </div>\n",
              "  "
            ]
          },
          "metadata": {},
          "execution_count": 6
        }
      ]
    },
    {
      "cell_type": "markdown",
      "metadata": {
        "id": "wkuIAKG4LqbF"
      },
      "source": [
        "**Шаг 1.3. Посмотрим на размеры загруженной таблицы**, у которой мы видели только первые 5 строк.\n",
        "\n",
        "Для этого вызываем поле **shape** у нашей переменной *training_data*. Поле вызывается также как метод, но в конце скобки не ставятся, так как для поля не предусмотрена передача аргументов.  "
      ]
    },
    {
      "cell_type": "code",
      "metadata": {
        "id": "8uNkaQKWLqbG",
        "colab": {
          "base_uri": "https://localhost:8080/"
        },
        "outputId": "5b9a42b6-5fd7-4a7c-bed3-62248504fa62"
      },
      "source": [
        "training_data.shape"
      ],
      "execution_count": null,
      "outputs": [
        {
          "output_type": "execute_result",
          "data": {
            "text/plain": [
              "(15129, 16)"
            ]
          },
          "metadata": {},
          "execution_count": 7
        }
      ]
    },
    {
      "cell_type": "markdown",
      "metadata": {
        "id": "8oiD7YJjLqbI"
      },
      "source": [
        "*Что означает первое и второе число?*\n",
        "\n",
        "Итак, таблица содержит 15129 строк (объектов) и 16 столбцов (признаков), включая выходной (целевой) признак.\n",
        "15129 меньше 21613, так как мы пока загрузили только часть данных, которую будем использовать для обучения модели.\n",
        "\n",
        "Таблицу проверили, теперь можно приступать к обработке данных."
      ]
    },
    {
      "cell_type": "markdown",
      "metadata": {
        "id": "Mz4rsFhALqbJ"
      },
      "source": [
        "# 2. Обработать данные перед обучением модели"
      ]
    },
    {
      "cell_type": "markdown",
      "metadata": {
        "id": "0Z2QQXxSLqbK"
      },
      "source": [
        "**Шаг 2.1. Проверяем данные на наличие пропусков и типов переменных**\n",
        "\n",
        "Начнем с проверки общей информации о данных.\n",
        "Для того чтобы это сделать, нужно обратиться вызвать у переменной *training_data* метод **info()**.\n",
        "\n",
        "Напомним, что в конце необходимо поставить скобочки."
      ]
    },
    {
      "cell_type": "code",
      "metadata": {
        "id": "yBfVVIN7LqbL",
        "colab": {
          "base_uri": "https://localhost:8080/"
        },
        "outputId": "988b238f-6e95-4c6f-d4c7-d3adbb70765e"
      },
      "source": [
        "training_data.info()"
      ],
      "execution_count": null,
      "outputs": [
        {
          "output_type": "stream",
          "name": "stdout",
          "text": [
            "<class 'pandas.core.frame.DataFrame'>\n",
            "RangeIndex: 15129 entries, 0 to 15128\n",
            "Data columns (total 16 columns):\n",
            " #   Column               Non-Null Count  Dtype  \n",
            "---  ------               --------------  -----  \n",
            " 0   Целевая.Цена         15129 non-null  int64  \n",
            " 1   Спальни              15129 non-null  int64  \n",
            " 2   Ванные               15129 non-null  float64\n",
            " 3   Жилая площадь        15129 non-null  int64  \n",
            " 4   Общая площадь        15129 non-null  int64  \n",
            " 5   Количество этажей    15129 non-null  float64\n",
            " 6   Вид на воду          15129 non-null  int64  \n",
            " 7   Просмотрены ранее    15129 non-null  int64  \n",
            " 8   Состояние            15129 non-null  int64  \n",
            " 9   Оценка риелтора      15129 non-null  int64  \n",
            " 10  Площадь без подвала  15129 non-null  int64  \n",
            " 11  Площадь подвала      15129 non-null  int64  \n",
            " 12  Год постройки        15129 non-null  int64  \n",
            " 13  Год реновации        15129 non-null  int64  \n",
            " 14  Широта               15129 non-null  float64\n",
            " 15  Долгота              15129 non-null  float64\n",
            "dtypes: float64(4), int64(12)\n",
            "memory usage: 1.8 MB\n"
          ]
        }
      ]
    },
    {
      "cell_type": "markdown",
      "metadata": {
        "id": "va78W9uuLqbN"
      },
      "source": [
        "Анализируем результата выполнения команды:\n",
        "\n",
        "* 15129 строк (entries)\n",
        "* 16 столбцов (Data columns)\n",
        "\n",
        "В данных присутствует всего два типа dtypes:\n",
        "* int64 - целое число  (12 столбцов)\n",
        "* float64 - дробное число (4 столбца)\n",
        "\n",
        "Цифры в каждой строчке обозначают количество заполненных (*non-null*) значений. Так как эти цифры в каждой строчке совпадают с числом строк (15129), то в данных нет пропусков и можно двигаться дальше. "
      ]
    },
    {
      "cell_type": "markdown",
      "metadata": {
        "id": "oPiLacxmLqbO"
      },
      "source": [
        "**Шаг 2.2. Работаем с целевой переменной**\n",
        "\n",
        "*Какая переменная целевая?*\n",
        "\n",
        "В данном случае по условию задачи мы должны прогнозировать стоимость, поэтому целевая переменная - это цена. "
      ]
    },
    {
      "cell_type": "code",
      "metadata": {
        "id": "EsyYEJd0LqbP"
      },
      "source": [
        "target_variable_name = 'Целевая.Цена'"
      ],
      "execution_count": null,
      "outputs": []
    },
    {
      "cell_type": "markdown",
      "metadata": {
        "id": "gOM9Kj8pLqbS"
      },
      "source": [
        "Нам нужно выделить в отдельную переменную *training_values* столбец из нашей таблицы, который соответствует определенной выше целевой переменной. Для этого мы у таблицы *training_data* в квадратных скобках указываем имя нужного столбца. В нашем случае это имя записано в переменной *target_variable_name*. "
      ]
    },
    {
      "cell_type": "code",
      "metadata": {
        "id": "BbEcpf4mLqbT"
      },
      "source": [
        "training_values = training_data[target_variable_name]"
      ],
      "execution_count": null,
      "outputs": []
    },
    {
      "cell_type": "markdown",
      "metadata": {
        "id": "INrEpAUkLqbV"
      },
      "source": [
        "Отделим входные переменные от выходной (целевой), чтобы можно было построить модель предсказания целевой переменной по входным. \n",
        "Для это нужно у переменной *training_data* вызвать метод **drop()**. Результат мы записываем в новую переменную *training_points*. После выполнения запроса *training_points* будет содержать исходную таблицу без целевого столбца. \n",
        "\n",
        "Обратите внимание, что в данном случае мы передаем два аргумента:\n",
        "    1. target_variable_name - название столбца цены, который мы ранее записали в эту переменную и теперь хотим удалить из training_data\n",
        "    2. axis=1 - означает, что мы удаляем столбец, а в случае axis=0 - означает, что мы удаляем строку"
      ]
    },
    {
      "cell_type": "code",
      "metadata": {
        "id": "DDXkAIHBLqbW"
      },
      "source": [
        "training_points = training_data.drop(target_variable_name, axis=1)"
      ],
      "execution_count": null,
      "outputs": []
    },
    {
      "cell_type": "markdown",
      "metadata": {
        "id": "civG1etNLqbY"
      },
      "source": [
        "Можно посмотреть результаты этих действий, вызвав метод **head()** и поле **shape**, которыми мы пользовались ранее, но сейчас нужно вызывать их от новой переменной *training_points*."
      ]
    },
    {
      "cell_type": "code",
      "metadata": {
        "id": "tiglFXjuLqbZ",
        "colab": {
          "base_uri": "https://localhost:8080/",
          "height": 305
        },
        "outputId": "afb6f3e8-14eb-44f3-f1f5-7dda0661d75f"
      },
      "source": [
        "training_points.head()"
      ],
      "execution_count": null,
      "outputs": [
        {
          "output_type": "execute_result",
          "data": {
            "text/plain": [
              "   Спальни  Ванные  Жилая площадь  Общая площадь  Количество этажей  \\\n",
              "0        5    3.50           3490          21780                2.0   \n",
              "1        4    1.75           2360           7620                1.0   \n",
              "2        6    2.75           2040           8560                1.0   \n",
              "3        3    1.75           1940           8376                1.0   \n",
              "4        3    2.75           3450           5350                1.5   \n",
              "\n",
              "   Вид на воду  Просмотрены ранее  Состояние  Оценка риелтора  \\\n",
              "0            0                  0          3                8   \n",
              "1            0                  0          4                7   \n",
              "2            0                  2          4                7   \n",
              "3            0                  0          4                8   \n",
              "4            0                  3          4                9   \n",
              "\n",
              "   Площадь без подвала  Площадь подвала  Год постройки  Год реновации  \\\n",
              "0                 3490                0           1996              0   \n",
              "1                 1180             1180           1955              0   \n",
              "2                 1100              940           1961              0   \n",
              "3                 1290              650           1963              0   \n",
              "4                 2590              860           1925              0   \n",
              "\n",
              "    Широта  Долгота  \n",
              "0  47.6707 -122.144  \n",
              "1  47.5278 -122.345  \n",
              "2  47.6160 -122.115  \n",
              "3  47.5586 -122.173  \n",
              "4  47.6389 -122.407  "
            ],
            "text/html": [
              "\n",
              "  <div id=\"df-49cd96d2-dc3a-4188-9497-4d35d626fc59\">\n",
              "    <div class=\"colab-df-container\">\n",
              "      <div>\n",
              "<style scoped>\n",
              "    .dataframe tbody tr th:only-of-type {\n",
              "        vertical-align: middle;\n",
              "    }\n",
              "\n",
              "    .dataframe tbody tr th {\n",
              "        vertical-align: top;\n",
              "    }\n",
              "\n",
              "    .dataframe thead th {\n",
              "        text-align: right;\n",
              "    }\n",
              "</style>\n",
              "<table border=\"1\" class=\"dataframe\">\n",
              "  <thead>\n",
              "    <tr style=\"text-align: right;\">\n",
              "      <th></th>\n",
              "      <th>Спальни</th>\n",
              "      <th>Ванные</th>\n",
              "      <th>Жилая площадь</th>\n",
              "      <th>Общая площадь</th>\n",
              "      <th>Количество этажей</th>\n",
              "      <th>Вид на воду</th>\n",
              "      <th>Просмотрены ранее</th>\n",
              "      <th>Состояние</th>\n",
              "      <th>Оценка риелтора</th>\n",
              "      <th>Площадь без подвала</th>\n",
              "      <th>Площадь подвала</th>\n",
              "      <th>Год постройки</th>\n",
              "      <th>Год реновации</th>\n",
              "      <th>Широта</th>\n",
              "      <th>Долгота</th>\n",
              "    </tr>\n",
              "  </thead>\n",
              "  <tbody>\n",
              "    <tr>\n",
              "      <th>0</th>\n",
              "      <td>5</td>\n",
              "      <td>3.50</td>\n",
              "      <td>3490</td>\n",
              "      <td>21780</td>\n",
              "      <td>2.0</td>\n",
              "      <td>0</td>\n",
              "      <td>0</td>\n",
              "      <td>3</td>\n",
              "      <td>8</td>\n",
              "      <td>3490</td>\n",
              "      <td>0</td>\n",
              "      <td>1996</td>\n",
              "      <td>0</td>\n",
              "      <td>47.6707</td>\n",
              "      <td>-122.144</td>\n",
              "    </tr>\n",
              "    <tr>\n",
              "      <th>1</th>\n",
              "      <td>4</td>\n",
              "      <td>1.75</td>\n",
              "      <td>2360</td>\n",
              "      <td>7620</td>\n",
              "      <td>1.0</td>\n",
              "      <td>0</td>\n",
              "      <td>0</td>\n",
              "      <td>4</td>\n",
              "      <td>7</td>\n",
              "      <td>1180</td>\n",
              "      <td>1180</td>\n",
              "      <td>1955</td>\n",
              "      <td>0</td>\n",
              "      <td>47.5278</td>\n",
              "      <td>-122.345</td>\n",
              "    </tr>\n",
              "    <tr>\n",
              "      <th>2</th>\n",
              "      <td>6</td>\n",
              "      <td>2.75</td>\n",
              "      <td>2040</td>\n",
              "      <td>8560</td>\n",
              "      <td>1.0</td>\n",
              "      <td>0</td>\n",
              "      <td>2</td>\n",
              "      <td>4</td>\n",
              "      <td>7</td>\n",
              "      <td>1100</td>\n",
              "      <td>940</td>\n",
              "      <td>1961</td>\n",
              "      <td>0</td>\n",
              "      <td>47.6160</td>\n",
              "      <td>-122.115</td>\n",
              "    </tr>\n",
              "    <tr>\n",
              "      <th>3</th>\n",
              "      <td>3</td>\n",
              "      <td>1.75</td>\n",
              "      <td>1940</td>\n",
              "      <td>8376</td>\n",
              "      <td>1.0</td>\n",
              "      <td>0</td>\n",
              "      <td>0</td>\n",
              "      <td>4</td>\n",
              "      <td>8</td>\n",
              "      <td>1290</td>\n",
              "      <td>650</td>\n",
              "      <td>1963</td>\n",
              "      <td>0</td>\n",
              "      <td>47.5586</td>\n",
              "      <td>-122.173</td>\n",
              "    </tr>\n",
              "    <tr>\n",
              "      <th>4</th>\n",
              "      <td>3</td>\n",
              "      <td>2.75</td>\n",
              "      <td>3450</td>\n",
              "      <td>5350</td>\n",
              "      <td>1.5</td>\n",
              "      <td>0</td>\n",
              "      <td>3</td>\n",
              "      <td>4</td>\n",
              "      <td>9</td>\n",
              "      <td>2590</td>\n",
              "      <td>860</td>\n",
              "      <td>1925</td>\n",
              "      <td>0</td>\n",
              "      <td>47.6389</td>\n",
              "      <td>-122.407</td>\n",
              "    </tr>\n",
              "  </tbody>\n",
              "</table>\n",
              "</div>\n",
              "      <button class=\"colab-df-convert\" onclick=\"convertToInteractive('df-49cd96d2-dc3a-4188-9497-4d35d626fc59')\"\n",
              "              title=\"Convert this dataframe to an interactive table.\"\n",
              "              style=\"display:none;\">\n",
              "        \n",
              "  <svg xmlns=\"http://www.w3.org/2000/svg\" height=\"24px\"viewBox=\"0 0 24 24\"\n",
              "       width=\"24px\">\n",
              "    <path d=\"M0 0h24v24H0V0z\" fill=\"none\"/>\n",
              "    <path d=\"M18.56 5.44l.94 2.06.94-2.06 2.06-.94-2.06-.94-.94-2.06-.94 2.06-2.06.94zm-11 1L8.5 8.5l.94-2.06 2.06-.94-2.06-.94L8.5 2.5l-.94 2.06-2.06.94zm10 10l.94 2.06.94-2.06 2.06-.94-2.06-.94-.94-2.06-.94 2.06-2.06.94z\"/><path d=\"M17.41 7.96l-1.37-1.37c-.4-.4-.92-.59-1.43-.59-.52 0-1.04.2-1.43.59L10.3 9.45l-7.72 7.72c-.78.78-.78 2.05 0 2.83L4 21.41c.39.39.9.59 1.41.59.51 0 1.02-.2 1.41-.59l7.78-7.78 2.81-2.81c.8-.78.8-2.07 0-2.86zM5.41 20L4 18.59l7.72-7.72 1.47 1.35L5.41 20z\"/>\n",
              "  </svg>\n",
              "      </button>\n",
              "      \n",
              "  <style>\n",
              "    .colab-df-container {\n",
              "      display:flex;\n",
              "      flex-wrap:wrap;\n",
              "      gap: 12px;\n",
              "    }\n",
              "\n",
              "    .colab-df-convert {\n",
              "      background-color: #E8F0FE;\n",
              "      border: none;\n",
              "      border-radius: 50%;\n",
              "      cursor: pointer;\n",
              "      display: none;\n",
              "      fill: #1967D2;\n",
              "      height: 32px;\n",
              "      padding: 0 0 0 0;\n",
              "      width: 32px;\n",
              "    }\n",
              "\n",
              "    .colab-df-convert:hover {\n",
              "      background-color: #E2EBFA;\n",
              "      box-shadow: 0px 1px 2px rgba(60, 64, 67, 0.3), 0px 1px 3px 1px rgba(60, 64, 67, 0.15);\n",
              "      fill: #174EA6;\n",
              "    }\n",
              "\n",
              "    [theme=dark] .colab-df-convert {\n",
              "      background-color: #3B4455;\n",
              "      fill: #D2E3FC;\n",
              "    }\n",
              "\n",
              "    [theme=dark] .colab-df-convert:hover {\n",
              "      background-color: #434B5C;\n",
              "      box-shadow: 0px 1px 3px 1px rgba(0, 0, 0, 0.15);\n",
              "      filter: drop-shadow(0px 1px 2px rgba(0, 0, 0, 0.3));\n",
              "      fill: #FFFFFF;\n",
              "    }\n",
              "  </style>\n",
              "\n",
              "      <script>\n",
              "        const buttonEl =\n",
              "          document.querySelector('#df-49cd96d2-dc3a-4188-9497-4d35d626fc59 button.colab-df-convert');\n",
              "        buttonEl.style.display =\n",
              "          google.colab.kernel.accessAllowed ? 'block' : 'none';\n",
              "\n",
              "        async function convertToInteractive(key) {\n",
              "          const element = document.querySelector('#df-49cd96d2-dc3a-4188-9497-4d35d626fc59');\n",
              "          const dataTable =\n",
              "            await google.colab.kernel.invokeFunction('convertToInteractive',\n",
              "                                                     [key], {});\n",
              "          if (!dataTable) return;\n",
              "\n",
              "          const docLinkHtml = 'Like what you see? Visit the ' +\n",
              "            '<a target=\"_blank\" href=https://colab.research.google.com/notebooks/data_table.ipynb>data table notebook</a>'\n",
              "            + ' to learn more about interactive tables.';\n",
              "          element.innerHTML = '';\n",
              "          dataTable['output_type'] = 'display_data';\n",
              "          await google.colab.output.renderOutput(dataTable, element);\n",
              "          const docLink = document.createElement('div');\n",
              "          docLink.innerHTML = docLinkHtml;\n",
              "          element.appendChild(docLink);\n",
              "        }\n",
              "      </script>\n",
              "    </div>\n",
              "  </div>\n",
              "  "
            ]
          },
          "metadata": {},
          "execution_count": 12
        }
      ]
    },
    {
      "cell_type": "code",
      "metadata": {
        "id": "DAfReQdsLqbb",
        "colab": {
          "base_uri": "https://localhost:8080/"
        },
        "outputId": "ccd65e77-02c5-4f3a-e4c5-a1c1d1f85791"
      },
      "source": [
        "training_points.shape"
      ],
      "execution_count": null,
      "outputs": [
        {
          "output_type": "execute_result",
          "data": {
            "text/plain": [
              "(15129, 15)"
            ]
          },
          "metadata": {},
          "execution_count": 13
        }
      ]
    },
    {
      "cell_type": "markdown",
      "metadata": {
        "id": "kx5oc0ScLqbf"
      },
      "source": [
        "Видно, что столбца действительно нет, а количество строк не изменилось. Данные в 5 первых строках такие же, как были ранее."
      ]
    },
    {
      "cell_type": "markdown",
      "metadata": {
        "id": "pJyxgxErLqbg"
      },
      "source": [
        "##   3. Обучить модель на обучающей выборке"
      ]
    },
    {
      "cell_type": "markdown",
      "metadata": {
        "id": "0FvCNInJLqbg"
      },
      "source": [
        "**Шаг 3.1. Выбираем метод, который будем использовать**\n",
        "\n",
        "Проще всего начать с простых методов. \n",
        "\n",
        "На выбор метода для построения модели влияет набор признаков, размер выборки, интуиция про то, какая связь между входными переменными и целевой. Но часто решение принимается исходя из того, какая модель сработала лучше."
      ]
    },
    {
      "cell_type": "markdown",
      "metadata": {
        "id": "m84QeANALqbi"
      },
      "source": [
        "Для корректной работы с методами построения моделей в python требуется загрузить специальную библиотеку\n",
        "**sklearn**, программную библиотеку на языке python для для машинного обучения и анализа данных.\n",
        "\n",
        "Импортируем модуль из этой библиотеки:\n",
        " * *linear_model* - тут находятся все линейные модели"
      ]
    },
    {
      "cell_type": "code",
      "metadata": {
        "id": "f1mxLNeZLqbj"
      },
      "source": [
        "from sklearn import linear_model"
      ],
      "execution_count": null,
      "outputs": []
    },
    {
      "cell_type": "markdown",
      "metadata": {
        "id": "Zm15N2pvLqbq"
      },
      "source": [
        "Чтобы создать модель линейной регресии, пишем имя модуля 'linear_model', затем точку, затем название модели."
      ]
    },
    {
      "cell_type": "code",
      "metadata": {
        "id": "aJdy5rsFLqbt"
      },
      "source": [
        "linear_regression_model = linear_model.LinearRegression() # создаем модель"
      ],
      "execution_count": null,
      "outputs": []
    },
    {
      "cell_type": "code",
      "metadata": {
        "id": "nYk4bedkLqbw",
        "colab": {
          "base_uri": "https://localhost:8080/"
        },
        "outputId": "aa11c45c-981d-412b-cb67-4e67e2c059e1"
      },
      "source": [
        "linear_regression_model # смотрим, что получилось"
      ],
      "execution_count": null,
      "outputs": [
        {
          "output_type": "execute_result",
          "data": {
            "text/plain": [
              "LinearRegression()"
            ]
          },
          "metadata": {},
          "execution_count": 16
        }
      ]
    },
    {
      "cell_type": "markdown",
      "metadata": {
        "id": "TM7UfC6uLqb2"
      },
      "source": [
        "**Шаг 3.2. Обучить модель**\n",
        "\n",
        "Теперь, когда мы создали прототип модели, можем её обучить на обучающей выборке. \n",
        "\n",
        "Для этого вызываем метод **fit()** и передаем ему на вход два аргумента: \n",
        "таблицу входных признаков и столбец значений целевой переменной - (training_points, training_values)"
      ]
    },
    {
      "cell_type": "code",
      "metadata": {
        "id": "zlMSe5KOLqb3",
        "colab": {
          "base_uri": "https://localhost:8080/"
        },
        "outputId": "81078be6-277a-4418-84fe-03fd55a8cdea"
      },
      "source": [
        "linear_regression_model.fit(training_points, training_values)"
      ],
      "execution_count": null,
      "outputs": [
        {
          "output_type": "execute_result",
          "data": {
            "text/plain": [
              "LinearRegression()"
            ]
          },
          "metadata": {},
          "execution_count": 17
        }
      ]
    },
    {
      "cell_type": "markdown",
      "metadata": {
        "id": "s_MADgOMhxKd"
      },
      "source": [
        "## Задание 3.5\n",
        "\n",
        "Реализуйте настройку параметров модели не с помощью встроенной функции, а с помощью своей реализации.\n",
        "\n",
        "Настроить параметры нужно либо с помощью **стохастического градиентного спуска** либо с помощью **mini-batch градиентного спуска**. \n",
        "Нужно использовать регуляризацию **L1, L2 или Elastic Net**. "
      ]
    },
    {
      "cell_type": "code",
      "source": [
        "from sklearn.preprocessing import StandardScaler\n",
        "import numpy as np\n",
        "\n",
        "scaler = StandardScaler()\n",
        "train_points = scaler.fit_transform(training_points)\n",
        "\n",
        "def stochastic_gd(weights, intercept, learning_rate=10e-4, n_iterations=10000, lambd=0.1):\n",
        "    n_random_samples = np.random.randint(0, train_points.shape[0] - 1, size=n_iterations)\n",
        "    \n",
        "    for n in n_random_samples:\n",
        "        prediction = np.dot(weights, train_points[n]) + intercept\n",
        "        df_weights = (prediction - training_values[n]) * train_points[n]\n",
        "        df_intercept = (prediction - training_values[n])       \n",
        "        weights = weights - learning_rate * df_weights - (learning_rate*np.sign(weights)*lambd)/n_iterations\n",
        "        intercept = intercept - learning_rate * df_intercept - (learning_rate*np.sign(intercept)*lambd)/n_iterations\n",
        "\n",
        "    return weights, intercept\n",
        "\n",
        "weights, intercept = stochastic_gd(np.random.rand(len(linear_regression_model.coef_)), np.random.rand())\n",
        "print(weights, intercept)"
      ],
      "metadata": {
        "colab": {
          "base_uri": "https://localhost:8080/"
        },
        "id": "grfrWAvahBkp",
        "outputId": "c7ca55f9-3b5a-4700-b3ab-ddab738fb900"
      },
      "execution_count": null,
      "outputs": [
        {
          "output_type": "stream",
          "name": "stdout",
          "text": [
            "[-31824.01010953  23889.34998621  82375.05203374  10501.41638998\n",
            "  -7264.24994192  52737.73075353  34936.21071736  22644.09414871\n",
            " 122265.15779664  82575.38076572  15707.47478027 -63475.37074629\n",
            "   7038.72065594  83679.09941898 -13857.21383787] 535008.659568275\n"
          ]
        }
      ]
    },
    {
      "cell_type": "markdown",
      "metadata": {
        "id": "y8BB5t5DLqb8"
      },
      "source": [
        "# 4. Загрузить и предобработать данные для тестирования"
      ]
    },
    {
      "cell_type": "markdown",
      "metadata": {
        "id": "V70UJoRnLqb9"
      },
      "source": [
        "**Шаг 4.1. Загрузим и проанализируем тестовые данные.**\n",
        "\n",
        "Так как данные в формате xlsx (Excel), мы будем использовать специальную функцию\n",
        "из библиотеки pandas для загрузки таких данных **read_excel**.\n",
        "\n",
        "В функции передаем один атрибут: название файла, в котором находится таблица с данными."
      ]
    },
    {
      "cell_type": "code",
      "metadata": {
        "id": "G2QC-fcBLqb9"
      },
      "source": [
        "test_data = pd.read_excel('predict_house_price_test_data.xlsx')"
      ],
      "execution_count": null,
      "outputs": []
    },
    {
      "cell_type": "markdown",
      "metadata": {
        "id": "D5c96FglLqcA"
      },
      "source": [
        "*Что важно посмотреть, после того, как мы загрузили данные?*\n",
        "\n",
        "- проверить, что данные действительно загрузились\n",
        "- посмотреть на данные, чтобы удостовериться, что они правильные: колонки имеют те же названия, что и в таблице и т.д.\n",
        "\n",
        "Для того чтобы это сделать, нужно вызвать от переменной *test_data* метод **head()**, который выводит первые 5 строк таблицы. \n",
        "\n",
        "Для вызова метода объекта необходимо сначала написать *имя объекта*, затем поставить *точку*, затем уже написать *название метода*. Обратите внимание, что в конце обязательно ставить скобочки, потому что метод - это функция и в ней есть аргументы, просто в данном случае мы их не передаем, поэтому оставляем поле пустым"
      ]
    },
    {
      "cell_type": "code",
      "metadata": {
        "id": "aWplqmHwLqcC",
        "colab": {
          "base_uri": "https://localhost:8080/",
          "height": 305
        },
        "outputId": "e06644fb-0d0b-4f09-94dd-ecf15f707d96"
      },
      "source": [
        "test_data.head()"
      ],
      "execution_count": null,
      "outputs": [
        {
          "output_type": "execute_result",
          "data": {
            "text/plain": [
              "   Целевая.Цена  Спальни  Ванные  Жилая площадь  Общая площадь  \\\n",
              "0        260000        3    1.00           1300          10139   \n",
              "1        734500        4    2.75           3280           6845   \n",
              "2        325000        1    1.00           1220          12426   \n",
              "3       1990000        3    2.50           2880          13500   \n",
              "4        315000        3    2.00           1300           3731   \n",
              "\n",
              "   Количество этажей  Вид на воду  Просмотрены ранее  Состояние  \\\n",
              "0                1.0            0                  0          3   \n",
              "1                2.0            0                  0          3   \n",
              "2                1.0            0                  4          4   \n",
              "3                1.0            0                  4          5   \n",
              "4                1.0            0                  0          3   \n",
              "\n",
              "   Оценка риелтора  Площадь без подвала  Площадь подвала  Год постройки  \\\n",
              "0                7                 1300                0           1962   \n",
              "1               10                 3280                0           2003   \n",
              "2                6                 1220                0           1946   \n",
              "3                8                 1520             1360           1950   \n",
              "4                7                  900              400           1993   \n",
              "\n",
              "   Год реновации   Широта  Долгота  \n",
              "0           2007  47.3427 -122.087  \n",
              "1              0  47.7042 -122.107  \n",
              "2              0  47.4047 -122.331  \n",
              "3              0  47.6281 -122.216  \n",
              "4              0  47.5374 -122.270  "
            ],
            "text/html": [
              "\n",
              "  <div id=\"df-0bf5edb0-45c1-4620-af4e-83beae621885\">\n",
              "    <div class=\"colab-df-container\">\n",
              "      <div>\n",
              "<style scoped>\n",
              "    .dataframe tbody tr th:only-of-type {\n",
              "        vertical-align: middle;\n",
              "    }\n",
              "\n",
              "    .dataframe tbody tr th {\n",
              "        vertical-align: top;\n",
              "    }\n",
              "\n",
              "    .dataframe thead th {\n",
              "        text-align: right;\n",
              "    }\n",
              "</style>\n",
              "<table border=\"1\" class=\"dataframe\">\n",
              "  <thead>\n",
              "    <tr style=\"text-align: right;\">\n",
              "      <th></th>\n",
              "      <th>Целевая.Цена</th>\n",
              "      <th>Спальни</th>\n",
              "      <th>Ванные</th>\n",
              "      <th>Жилая площадь</th>\n",
              "      <th>Общая площадь</th>\n",
              "      <th>Количество этажей</th>\n",
              "      <th>Вид на воду</th>\n",
              "      <th>Просмотрены ранее</th>\n",
              "      <th>Состояние</th>\n",
              "      <th>Оценка риелтора</th>\n",
              "      <th>Площадь без подвала</th>\n",
              "      <th>Площадь подвала</th>\n",
              "      <th>Год постройки</th>\n",
              "      <th>Год реновации</th>\n",
              "      <th>Широта</th>\n",
              "      <th>Долгота</th>\n",
              "    </tr>\n",
              "  </thead>\n",
              "  <tbody>\n",
              "    <tr>\n",
              "      <th>0</th>\n",
              "      <td>260000</td>\n",
              "      <td>3</td>\n",
              "      <td>1.00</td>\n",
              "      <td>1300</td>\n",
              "      <td>10139</td>\n",
              "      <td>1.0</td>\n",
              "      <td>0</td>\n",
              "      <td>0</td>\n",
              "      <td>3</td>\n",
              "      <td>7</td>\n",
              "      <td>1300</td>\n",
              "      <td>0</td>\n",
              "      <td>1962</td>\n",
              "      <td>2007</td>\n",
              "      <td>47.3427</td>\n",
              "      <td>-122.087</td>\n",
              "    </tr>\n",
              "    <tr>\n",
              "      <th>1</th>\n",
              "      <td>734500</td>\n",
              "      <td>4</td>\n",
              "      <td>2.75</td>\n",
              "      <td>3280</td>\n",
              "      <td>6845</td>\n",
              "      <td>2.0</td>\n",
              "      <td>0</td>\n",
              "      <td>0</td>\n",
              "      <td>3</td>\n",
              "      <td>10</td>\n",
              "      <td>3280</td>\n",
              "      <td>0</td>\n",
              "      <td>2003</td>\n",
              "      <td>0</td>\n",
              "      <td>47.7042</td>\n",
              "      <td>-122.107</td>\n",
              "    </tr>\n",
              "    <tr>\n",
              "      <th>2</th>\n",
              "      <td>325000</td>\n",
              "      <td>1</td>\n",
              "      <td>1.00</td>\n",
              "      <td>1220</td>\n",
              "      <td>12426</td>\n",
              "      <td>1.0</td>\n",
              "      <td>0</td>\n",
              "      <td>4</td>\n",
              "      <td>4</td>\n",
              "      <td>6</td>\n",
              "      <td>1220</td>\n",
              "      <td>0</td>\n",
              "      <td>1946</td>\n",
              "      <td>0</td>\n",
              "      <td>47.4047</td>\n",
              "      <td>-122.331</td>\n",
              "    </tr>\n",
              "    <tr>\n",
              "      <th>3</th>\n",
              "      <td>1990000</td>\n",
              "      <td>3</td>\n",
              "      <td>2.50</td>\n",
              "      <td>2880</td>\n",
              "      <td>13500</td>\n",
              "      <td>1.0</td>\n",
              "      <td>0</td>\n",
              "      <td>4</td>\n",
              "      <td>5</td>\n",
              "      <td>8</td>\n",
              "      <td>1520</td>\n",
              "      <td>1360</td>\n",
              "      <td>1950</td>\n",
              "      <td>0</td>\n",
              "      <td>47.6281</td>\n",
              "      <td>-122.216</td>\n",
              "    </tr>\n",
              "    <tr>\n",
              "      <th>4</th>\n",
              "      <td>315000</td>\n",
              "      <td>3</td>\n",
              "      <td>2.00</td>\n",
              "      <td>1300</td>\n",
              "      <td>3731</td>\n",
              "      <td>1.0</td>\n",
              "      <td>0</td>\n",
              "      <td>0</td>\n",
              "      <td>3</td>\n",
              "      <td>7</td>\n",
              "      <td>900</td>\n",
              "      <td>400</td>\n",
              "      <td>1993</td>\n",
              "      <td>0</td>\n",
              "      <td>47.5374</td>\n",
              "      <td>-122.270</td>\n",
              "    </tr>\n",
              "  </tbody>\n",
              "</table>\n",
              "</div>\n",
              "      <button class=\"colab-df-convert\" onclick=\"convertToInteractive('df-0bf5edb0-45c1-4620-af4e-83beae621885')\"\n",
              "              title=\"Convert this dataframe to an interactive table.\"\n",
              "              style=\"display:none;\">\n",
              "        \n",
              "  <svg xmlns=\"http://www.w3.org/2000/svg\" height=\"24px\"viewBox=\"0 0 24 24\"\n",
              "       width=\"24px\">\n",
              "    <path d=\"M0 0h24v24H0V0z\" fill=\"none\"/>\n",
              "    <path d=\"M18.56 5.44l.94 2.06.94-2.06 2.06-.94-2.06-.94-.94-2.06-.94 2.06-2.06.94zm-11 1L8.5 8.5l.94-2.06 2.06-.94-2.06-.94L8.5 2.5l-.94 2.06-2.06.94zm10 10l.94 2.06.94-2.06 2.06-.94-2.06-.94-.94-2.06-.94 2.06-2.06.94z\"/><path d=\"M17.41 7.96l-1.37-1.37c-.4-.4-.92-.59-1.43-.59-.52 0-1.04.2-1.43.59L10.3 9.45l-7.72 7.72c-.78.78-.78 2.05 0 2.83L4 21.41c.39.39.9.59 1.41.59.51 0 1.02-.2 1.41-.59l7.78-7.78 2.81-2.81c.8-.78.8-2.07 0-2.86zM5.41 20L4 18.59l7.72-7.72 1.47 1.35L5.41 20z\"/>\n",
              "  </svg>\n",
              "      </button>\n",
              "      \n",
              "  <style>\n",
              "    .colab-df-container {\n",
              "      display:flex;\n",
              "      flex-wrap:wrap;\n",
              "      gap: 12px;\n",
              "    }\n",
              "\n",
              "    .colab-df-convert {\n",
              "      background-color: #E8F0FE;\n",
              "      border: none;\n",
              "      border-radius: 50%;\n",
              "      cursor: pointer;\n",
              "      display: none;\n",
              "      fill: #1967D2;\n",
              "      height: 32px;\n",
              "      padding: 0 0 0 0;\n",
              "      width: 32px;\n",
              "    }\n",
              "\n",
              "    .colab-df-convert:hover {\n",
              "      background-color: #E2EBFA;\n",
              "      box-shadow: 0px 1px 2px rgba(60, 64, 67, 0.3), 0px 1px 3px 1px rgba(60, 64, 67, 0.15);\n",
              "      fill: #174EA6;\n",
              "    }\n",
              "\n",
              "    [theme=dark] .colab-df-convert {\n",
              "      background-color: #3B4455;\n",
              "      fill: #D2E3FC;\n",
              "    }\n",
              "\n",
              "    [theme=dark] .colab-df-convert:hover {\n",
              "      background-color: #434B5C;\n",
              "      box-shadow: 0px 1px 3px 1px rgba(0, 0, 0, 0.15);\n",
              "      filter: drop-shadow(0px 1px 2px rgba(0, 0, 0, 0.3));\n",
              "      fill: #FFFFFF;\n",
              "    }\n",
              "  </style>\n",
              "\n",
              "      <script>\n",
              "        const buttonEl =\n",
              "          document.querySelector('#df-0bf5edb0-45c1-4620-af4e-83beae621885 button.colab-df-convert');\n",
              "        buttonEl.style.display =\n",
              "          google.colab.kernel.accessAllowed ? 'block' : 'none';\n",
              "\n",
              "        async function convertToInteractive(key) {\n",
              "          const element = document.querySelector('#df-0bf5edb0-45c1-4620-af4e-83beae621885');\n",
              "          const dataTable =\n",
              "            await google.colab.kernel.invokeFunction('convertToInteractive',\n",
              "                                                     [key], {});\n",
              "          if (!dataTable) return;\n",
              "\n",
              "          const docLinkHtml = 'Like what you see? Visit the ' +\n",
              "            '<a target=\"_blank\" href=https://colab.research.google.com/notebooks/data_table.ipynb>data table notebook</a>'\n",
              "            + ' to learn more about interactive tables.';\n",
              "          element.innerHTML = '';\n",
              "          dataTable['output_type'] = 'display_data';\n",
              "          await google.colab.output.renderOutput(dataTable, element);\n",
              "          const docLink = document.createElement('div');\n",
              "          docLink.innerHTML = docLinkHtml;\n",
              "          element.appendChild(docLink);\n",
              "        }\n",
              "      </script>\n",
              "    </div>\n",
              "  </div>\n",
              "  "
            ]
          },
          "metadata": {},
          "execution_count": 28
        }
      ]
    },
    {
      "cell_type": "markdown",
      "metadata": {
        "id": "rNOKBtaVLqcF"
      },
      "source": [
        "Посмотрим на размеры загруженной таблицы, так как мы видели только 5 строк\n",
        "\n",
        "Для этого вызываем поле **shape** у нашей переменной *test_data*. Поле вызывается также как метод, но в конце скобки не ставятся (!), так как для поля не предусмотрена передача аргументов.  "
      ]
    },
    {
      "cell_type": "code",
      "metadata": {
        "id": "FHzoBYPKLqcG",
        "colab": {
          "base_uri": "https://localhost:8080/"
        },
        "outputId": "c178424c-a4df-4131-dee7-e08d3135eb1b"
      },
      "source": [
        "test_data.shape"
      ],
      "execution_count": null,
      "outputs": [
        {
          "output_type": "execute_result",
          "data": {
            "text/plain": [
              "(6484, 16)"
            ]
          },
          "metadata": {},
          "execution_count": 29
        }
      ]
    },
    {
      "cell_type": "markdown",
      "metadata": {
        "id": "Sic-zsmxLqcI"
      },
      "source": [
        "*Что означает первое и второе число?* \n",
        "Таблица содержит 6484 строк (объектов) и 16 столбцов (признаков), включая выходной (целевой) признак. Также как в учебных данных до обучения.\n",
        "\n",
        "Таблицу проверили, теперь можно приступать к обработке данных\n",
        "Действуем аналогично тому, как делали с данными для обучения"
      ]
    },
    {
      "cell_type": "markdown",
      "metadata": {
        "id": "cirwOcb7LqcJ"
      },
      "source": [
        "Проверим, есть ли в данных пропуски. Для того чтобы это сделать, нужно обратиться вызвать у переменной *test_data* метод **info()**."
      ]
    },
    {
      "cell_type": "code",
      "metadata": {
        "id": "-TMC8NvMLqcJ",
        "colab": {
          "base_uri": "https://localhost:8080/"
        },
        "outputId": "3ec39319-0eca-4c3a-be72-fb291a91e0c5"
      },
      "source": [
        "test_data.info()"
      ],
      "execution_count": null,
      "outputs": [
        {
          "output_type": "stream",
          "name": "stdout",
          "text": [
            "<class 'pandas.core.frame.DataFrame'>\n",
            "RangeIndex: 6484 entries, 0 to 6483\n",
            "Data columns (total 16 columns):\n",
            " #   Column               Non-Null Count  Dtype  \n",
            "---  ------               --------------  -----  \n",
            " 0   Целевая.Цена         6484 non-null   int64  \n",
            " 1   Спальни              6484 non-null   int64  \n",
            " 2   Ванные               6484 non-null   float64\n",
            " 3   Жилая площадь        6484 non-null   int64  \n",
            " 4   Общая площадь        6484 non-null   int64  \n",
            " 5   Количество этажей    6484 non-null   float64\n",
            " 6   Вид на воду          6484 non-null   int64  \n",
            " 7   Просмотрены ранее    6484 non-null   int64  \n",
            " 8   Состояние            6484 non-null   int64  \n",
            " 9   Оценка риелтора      6484 non-null   int64  \n",
            " 10  Площадь без подвала  6484 non-null   int64  \n",
            " 11  Площадь подвала      6484 non-null   int64  \n",
            " 12  Год постройки        6484 non-null   int64  \n",
            " 13  Год реновации        6484 non-null   int64  \n",
            " 14  Широта               6484 non-null   float64\n",
            " 15  Долгота              6484 non-null   float64\n",
            "dtypes: float64(4), int64(12)\n",
            "memory usage: 810.6 KB\n"
          ]
        }
      ]
    },
    {
      "cell_type": "markdown",
      "metadata": {
        "id": "AN3MKGbcLqcL"
      },
      "source": [
        "Цифры в каждой строчке обозначают количество заполненных (*non-null*) значений. Так как эти цифры в каждой строчке совпадают с числом строк (6484), то в данных нет пропусков."
      ]
    },
    {
      "cell_type": "markdown",
      "metadata": {
        "id": "2cUtLvm8LqcM"
      },
      "source": [
        "**Шаг 4.2. Отделяем целевую переменную**"
      ]
    },
    {
      "cell_type": "markdown",
      "metadata": {
        "id": "s2QuCPmzLqcM"
      },
      "source": [
        "Нам нужно выделить в отдельную переменную *test_values* столбец из нашей таблицы, который соответствует определенной выше целевой переменной. Для этого мы у таблицы *test_data* в квадратных скобках указываем имя нужного столбца. В нашем случае это имя записано в переменной *target_variable_name*. "
      ]
    },
    {
      "cell_type": "code",
      "metadata": {
        "id": "-mJZ2H7QLqcN"
      },
      "source": [
        "test_values = test_data[target_variable_name]"
      ],
      "execution_count": null,
      "outputs": []
    },
    {
      "cell_type": "markdown",
      "metadata": {
        "id": "65B_7B2YLqcP"
      },
      "source": [
        "Отделим входные переменные от выходной (целевой), чтобы можно было построить модель предсказания целевой переменной по входным. \n",
        "Для это нужно у переменной *test_data* вызвать метод **drop()**. Результат мы записываем в новую переменную *test_points*. После выполнения запроса *test_points* будет содержать исходную таблицу без целевого столбца. \n",
        "\n",
        "Обратите внимание, что в данном случае мы передаем два аргумента:\n",
        "    1. target_variable_name - название столбца цены, который мы ранее записали в эту переменную и теперь хотим удалить из training_data\n",
        "    2. axis=1 - означает, что мы удаляем столбец, а в случае axis=0 - означает, что мы удаляем строку"
      ]
    },
    {
      "cell_type": "code",
      "metadata": {
        "id": "-VIMWvPLLqcQ"
      },
      "source": [
        "test_points = test_data.drop(target_variable_name, axis=1)"
      ],
      "execution_count": null,
      "outputs": []
    },
    {
      "cell_type": "markdown",
      "metadata": {
        "id": "y3Cwim1CLqcV"
      },
      "source": [
        "И проверяем результат записанный в test_points"
      ]
    },
    {
      "cell_type": "code",
      "metadata": {
        "id": "s20UtLqELqcV",
        "colab": {
          "base_uri": "https://localhost:8080/",
          "height": 305
        },
        "outputId": "b5d68f80-6a13-448e-a374-37e3472a5fb1"
      },
      "source": [
        "test_points.head()"
      ],
      "execution_count": null,
      "outputs": [
        {
          "output_type": "execute_result",
          "data": {
            "text/plain": [
              "   Спальни  Ванные  Жилая площадь  Общая площадь  Количество этажей  \\\n",
              "0        3    1.00           1300          10139                1.0   \n",
              "1        4    2.75           3280           6845                2.0   \n",
              "2        1    1.00           1220          12426                1.0   \n",
              "3        3    2.50           2880          13500                1.0   \n",
              "4        3    2.00           1300           3731                1.0   \n",
              "\n",
              "   Вид на воду  Просмотрены ранее  Состояние  Оценка риелтора  \\\n",
              "0            0                  0          3                7   \n",
              "1            0                  0          3               10   \n",
              "2            0                  4          4                6   \n",
              "3            0                  4          5                8   \n",
              "4            0                  0          3                7   \n",
              "\n",
              "   Площадь без подвала  Площадь подвала  Год постройки  Год реновации  \\\n",
              "0                 1300                0           1962           2007   \n",
              "1                 3280                0           2003              0   \n",
              "2                 1220                0           1946              0   \n",
              "3                 1520             1360           1950              0   \n",
              "4                  900              400           1993              0   \n",
              "\n",
              "    Широта  Долгота  \n",
              "0  47.3427 -122.087  \n",
              "1  47.7042 -122.107  \n",
              "2  47.4047 -122.331  \n",
              "3  47.6281 -122.216  \n",
              "4  47.5374 -122.270  "
            ],
            "text/html": [
              "\n",
              "  <div id=\"df-745b0a5d-f60d-4186-847c-a9f648b0ca14\">\n",
              "    <div class=\"colab-df-container\">\n",
              "      <div>\n",
              "<style scoped>\n",
              "    .dataframe tbody tr th:only-of-type {\n",
              "        vertical-align: middle;\n",
              "    }\n",
              "\n",
              "    .dataframe tbody tr th {\n",
              "        vertical-align: top;\n",
              "    }\n",
              "\n",
              "    .dataframe thead th {\n",
              "        text-align: right;\n",
              "    }\n",
              "</style>\n",
              "<table border=\"1\" class=\"dataframe\">\n",
              "  <thead>\n",
              "    <tr style=\"text-align: right;\">\n",
              "      <th></th>\n",
              "      <th>Спальни</th>\n",
              "      <th>Ванные</th>\n",
              "      <th>Жилая площадь</th>\n",
              "      <th>Общая площадь</th>\n",
              "      <th>Количество этажей</th>\n",
              "      <th>Вид на воду</th>\n",
              "      <th>Просмотрены ранее</th>\n",
              "      <th>Состояние</th>\n",
              "      <th>Оценка риелтора</th>\n",
              "      <th>Площадь без подвала</th>\n",
              "      <th>Площадь подвала</th>\n",
              "      <th>Год постройки</th>\n",
              "      <th>Год реновации</th>\n",
              "      <th>Широта</th>\n",
              "      <th>Долгота</th>\n",
              "    </tr>\n",
              "  </thead>\n",
              "  <tbody>\n",
              "    <tr>\n",
              "      <th>0</th>\n",
              "      <td>3</td>\n",
              "      <td>1.00</td>\n",
              "      <td>1300</td>\n",
              "      <td>10139</td>\n",
              "      <td>1.0</td>\n",
              "      <td>0</td>\n",
              "      <td>0</td>\n",
              "      <td>3</td>\n",
              "      <td>7</td>\n",
              "      <td>1300</td>\n",
              "      <td>0</td>\n",
              "      <td>1962</td>\n",
              "      <td>2007</td>\n",
              "      <td>47.3427</td>\n",
              "      <td>-122.087</td>\n",
              "    </tr>\n",
              "    <tr>\n",
              "      <th>1</th>\n",
              "      <td>4</td>\n",
              "      <td>2.75</td>\n",
              "      <td>3280</td>\n",
              "      <td>6845</td>\n",
              "      <td>2.0</td>\n",
              "      <td>0</td>\n",
              "      <td>0</td>\n",
              "      <td>3</td>\n",
              "      <td>10</td>\n",
              "      <td>3280</td>\n",
              "      <td>0</td>\n",
              "      <td>2003</td>\n",
              "      <td>0</td>\n",
              "      <td>47.7042</td>\n",
              "      <td>-122.107</td>\n",
              "    </tr>\n",
              "    <tr>\n",
              "      <th>2</th>\n",
              "      <td>1</td>\n",
              "      <td>1.00</td>\n",
              "      <td>1220</td>\n",
              "      <td>12426</td>\n",
              "      <td>1.0</td>\n",
              "      <td>0</td>\n",
              "      <td>4</td>\n",
              "      <td>4</td>\n",
              "      <td>6</td>\n",
              "      <td>1220</td>\n",
              "      <td>0</td>\n",
              "      <td>1946</td>\n",
              "      <td>0</td>\n",
              "      <td>47.4047</td>\n",
              "      <td>-122.331</td>\n",
              "    </tr>\n",
              "    <tr>\n",
              "      <th>3</th>\n",
              "      <td>3</td>\n",
              "      <td>2.50</td>\n",
              "      <td>2880</td>\n",
              "      <td>13500</td>\n",
              "      <td>1.0</td>\n",
              "      <td>0</td>\n",
              "      <td>4</td>\n",
              "      <td>5</td>\n",
              "      <td>8</td>\n",
              "      <td>1520</td>\n",
              "      <td>1360</td>\n",
              "      <td>1950</td>\n",
              "      <td>0</td>\n",
              "      <td>47.6281</td>\n",
              "      <td>-122.216</td>\n",
              "    </tr>\n",
              "    <tr>\n",
              "      <th>4</th>\n",
              "      <td>3</td>\n",
              "      <td>2.00</td>\n",
              "      <td>1300</td>\n",
              "      <td>3731</td>\n",
              "      <td>1.0</td>\n",
              "      <td>0</td>\n",
              "      <td>0</td>\n",
              "      <td>3</td>\n",
              "      <td>7</td>\n",
              "      <td>900</td>\n",
              "      <td>400</td>\n",
              "      <td>1993</td>\n",
              "      <td>0</td>\n",
              "      <td>47.5374</td>\n",
              "      <td>-122.270</td>\n",
              "    </tr>\n",
              "  </tbody>\n",
              "</table>\n",
              "</div>\n",
              "      <button class=\"colab-df-convert\" onclick=\"convertToInteractive('df-745b0a5d-f60d-4186-847c-a9f648b0ca14')\"\n",
              "              title=\"Convert this dataframe to an interactive table.\"\n",
              "              style=\"display:none;\">\n",
              "        \n",
              "  <svg xmlns=\"http://www.w3.org/2000/svg\" height=\"24px\"viewBox=\"0 0 24 24\"\n",
              "       width=\"24px\">\n",
              "    <path d=\"M0 0h24v24H0V0z\" fill=\"none\"/>\n",
              "    <path d=\"M18.56 5.44l.94 2.06.94-2.06 2.06-.94-2.06-.94-.94-2.06-.94 2.06-2.06.94zm-11 1L8.5 8.5l.94-2.06 2.06-.94-2.06-.94L8.5 2.5l-.94 2.06-2.06.94zm10 10l.94 2.06.94-2.06 2.06-.94-2.06-.94-.94-2.06-.94 2.06-2.06.94z\"/><path d=\"M17.41 7.96l-1.37-1.37c-.4-.4-.92-.59-1.43-.59-.52 0-1.04.2-1.43.59L10.3 9.45l-7.72 7.72c-.78.78-.78 2.05 0 2.83L4 21.41c.39.39.9.59 1.41.59.51 0 1.02-.2 1.41-.59l7.78-7.78 2.81-2.81c.8-.78.8-2.07 0-2.86zM5.41 20L4 18.59l7.72-7.72 1.47 1.35L5.41 20z\"/>\n",
              "  </svg>\n",
              "      </button>\n",
              "      \n",
              "  <style>\n",
              "    .colab-df-container {\n",
              "      display:flex;\n",
              "      flex-wrap:wrap;\n",
              "      gap: 12px;\n",
              "    }\n",
              "\n",
              "    .colab-df-convert {\n",
              "      background-color: #E8F0FE;\n",
              "      border: none;\n",
              "      border-radius: 50%;\n",
              "      cursor: pointer;\n",
              "      display: none;\n",
              "      fill: #1967D2;\n",
              "      height: 32px;\n",
              "      padding: 0 0 0 0;\n",
              "      width: 32px;\n",
              "    }\n",
              "\n",
              "    .colab-df-convert:hover {\n",
              "      background-color: #E2EBFA;\n",
              "      box-shadow: 0px 1px 2px rgba(60, 64, 67, 0.3), 0px 1px 3px 1px rgba(60, 64, 67, 0.15);\n",
              "      fill: #174EA6;\n",
              "    }\n",
              "\n",
              "    [theme=dark] .colab-df-convert {\n",
              "      background-color: #3B4455;\n",
              "      fill: #D2E3FC;\n",
              "    }\n",
              "\n",
              "    [theme=dark] .colab-df-convert:hover {\n",
              "      background-color: #434B5C;\n",
              "      box-shadow: 0px 1px 3px 1px rgba(0, 0, 0, 0.15);\n",
              "      filter: drop-shadow(0px 1px 2px rgba(0, 0, 0, 0.3));\n",
              "      fill: #FFFFFF;\n",
              "    }\n",
              "  </style>\n",
              "\n",
              "      <script>\n",
              "        const buttonEl =\n",
              "          document.querySelector('#df-745b0a5d-f60d-4186-847c-a9f648b0ca14 button.colab-df-convert');\n",
              "        buttonEl.style.display =\n",
              "          google.colab.kernel.accessAllowed ? 'block' : 'none';\n",
              "\n",
              "        async function convertToInteractive(key) {\n",
              "          const element = document.querySelector('#df-745b0a5d-f60d-4186-847c-a9f648b0ca14');\n",
              "          const dataTable =\n",
              "            await google.colab.kernel.invokeFunction('convertToInteractive',\n",
              "                                                     [key], {});\n",
              "          if (!dataTable) return;\n",
              "\n",
              "          const docLinkHtml = 'Like what you see? Visit the ' +\n",
              "            '<a target=\"_blank\" href=https://colab.research.google.com/notebooks/data_table.ipynb>data table notebook</a>'\n",
              "            + ' to learn more about interactive tables.';\n",
              "          element.innerHTML = '';\n",
              "          dataTable['output_type'] = 'display_data';\n",
              "          await google.colab.output.renderOutput(dataTable, element);\n",
              "          const docLink = document.createElement('div');\n",
              "          docLink.innerHTML = docLinkHtml;\n",
              "          element.appendChild(docLink);\n",
              "        }\n",
              "      </script>\n",
              "    </div>\n",
              "  </div>\n",
              "  "
            ]
          },
          "metadata": {},
          "execution_count": 33
        }
      ]
    },
    {
      "cell_type": "code",
      "metadata": {
        "id": "ig4hw7enLqca",
        "colab": {
          "base_uri": "https://localhost:8080/"
        },
        "outputId": "50c25cb7-8350-4af4-bd46-bcc1e2a5844e"
      },
      "source": [
        "test_points.shape"
      ],
      "execution_count": null,
      "outputs": [
        {
          "output_type": "execute_result",
          "data": {
            "text/plain": [
              "(6484, 15)"
            ]
          },
          "metadata": {},
          "execution_count": 34
        }
      ]
    },
    {
      "cell_type": "markdown",
      "metadata": {
        "id": "xvDMV5yoLqce"
      },
      "source": [
        "Видно, что количество столбцов уменьшилось на один. Данные в 5 первых строках такие же, как были ранее."
      ]
    },
    {
      "cell_type": "markdown",
      "metadata": {
        "id": "5QFgDcQXLqcf"
      },
      "source": [
        "# 5. Провалидировать модель на тестовой выборке"
      ]
    },
    {
      "cell_type": "markdown",
      "metadata": {
        "id": "LL7Pb7IlLqcg"
      },
      "source": [
        "**Шаг 5.1. Сравнение моделей.**\n",
        "\n",
        "Теперь мы готовы сравнить качество двух моделей! 😎"
      ]
    },
    {
      "cell_type": "markdown",
      "metadata": {
        "id": "NDTfUzZdLqch"
      },
      "source": [
        "## Задание 3.6 Какая модель лучше?\n",
        "\n",
        "Получим прогнозы целевой переменной на тестовых данных для модели линейной регрессии из sklearn и для своей реализации. \n",
        "\n"
      ]
    },
    {
      "cell_type": "code",
      "metadata": {
        "id": "DK3TytoFLqch"
      },
      "source": [
        "test_predictions_linear = linear_regression_model.predict(test_points)"
      ],
      "execution_count": null,
      "outputs": []
    },
    {
      "cell_type": "code",
      "metadata": {
        "id": "WfESQh1Limzq"
      },
      "source": [
        "### введите свой код\n",
        "### код для получения предсказаний с помощью своей реализации алгоритма настройки параметров модели"
      ],
      "execution_count": null,
      "outputs": []
    },
    {
      "cell_type": "code",
      "source": [
        "test_points_scaled = scaler.fit_transform(test_points)\n",
        "predictions = test_points_scaled @ weights + intercept"
      ],
      "metadata": {
        "id": "HnhKcP-1nvgq"
      },
      "execution_count": null,
      "outputs": []
    },
    {
      "cell_type": "markdown",
      "metadata": {
        "id": "kxRo4sq1Lqcm"
      },
      "source": [
        "Качество регрессионных моделей оценим двумя способами: \n",
        "1. Сравним визуально прогнозы с настоящими ценами (тестовые с предсказанием)\n",
        "2. Сравним метрики качества MSE и MAE"
      ]
    },
    {
      "cell_type": "markdown",
      "metadata": {
        "id": "Swg445QcLqct"
      },
      "source": [
        "Для корректного подсчета метрик качества модели в python требуется загрузить их из библиотеки **sklearn**. \n",
        "\n",
        "Мы используем две метрики качества:\n",
        " * *mean_absolute_error* - средняя абсолютная ошибка $|y_i - \\hat{y}_i|$\n",
        " * *mean_squared_error* - средняя квадратичная ошибка $(y_i - \\hat{y}_i)^2$"
      ]
    },
    {
      "cell_type": "code",
      "metadata": {
        "id": "vAmGjpEzLqcu"
      },
      "source": [
        "from sklearn.metrics import mean_absolute_error, mean_squared_error"
      ],
      "execution_count": null,
      "outputs": []
    },
    {
      "cell_type": "markdown",
      "metadata": {
        "id": "gmkMZN2FLqcw"
      },
      "source": [
        "Подсчитаем ошибки для линейной модели.\n",
        "\n",
        "Для этого вызовем методы **mean_absolute_error()** и **mean_squared_error()**. На вход им передается столбец настоящих значений *test_values* и столбец значений, предсказанных моделью линейной регрессии *test_predictions_linear*."
      ]
    },
    {
      "cell_type": "code",
      "metadata": {
        "id": "k14DseleLqcw",
        "colab": {
          "base_uri": "https://localhost:8080/"
        },
        "outputId": "405d9762-ae71-4f37-89e2-f1d82efe9f60"
      },
      "source": [
        "mean_absolute_error_linear_model = mean_absolute_error(test_values, test_predictions_linear) \n",
        "mean_squared_error_linear_model = mean_squared_error(test_values, test_predictions_linear)\n",
        "print('MAE:', mean_absolute_error_linear_model)\n",
        "print('MAE:', mean_squared_error_linear_model)"
      ],
      "execution_count": null,
      "outputs": [
        {
          "output_type": "stream",
          "name": "stdout",
          "text": [
            "MAE: 126852.51255005135\n",
            "MAE: 40756843765.100815\n"
          ]
        }
      ]
    },
    {
      "cell_type": "markdown",
      "metadata": {
        "id": "R84sQt9LLqc0"
      },
      "source": [
        "Подсчитайте ошибки для своей реализации модели."
      ]
    },
    {
      "cell_type": "code",
      "source": [
        "mean_absolute_error_my = mean_absolute_error(test_values, predictions)\n",
        "mean_squared_error_my = mean_squared_error(test_values, predictions)                                \n",
        "print('MAE:', mean_absolute_error_my)\n",
        "print('MSE:', mean_squared_error_my)"
      ],
      "metadata": {
        "colab": {
          "base_uri": "https://localhost:8080/"
        },
        "id": "-OoAGUcFofqC",
        "outputId": "8aecc7b3-1f68-4ae2-fa52-0522eef4001c"
      },
      "execution_count": null,
      "outputs": [
        {
          "output_type": "stream",
          "name": "stdout",
          "text": [
            "MAE: 141059.22789729576\n",
            "MSE: 44449388032.788536\n"
          ]
        }
      ]
    },
    {
      "cell_type": "markdown",
      "metadata": {
        "id": "yvsElUo7Lqc2"
      },
      "source": [
        "Теперь напечатаем полученные ошибки. Обычно смотрят на корень из среднеквадратичной ошибки, RMSE. Чтобы извлечь корень нам понадобится библиотека **Numpy**. С помощью неё можно быстро производить вычисления сразу над массивами чисел."
      ]
    },
    {
      "cell_type": "code",
      "source": [
        "print('RMSE sklearn:', np.sqrt(mean_squared_error_linear_model))\n",
        "print('RMSE my realization:', np.sqrt(mean_squared_error_my))"
      ],
      "metadata": {
        "colab": {
          "base_uri": "https://localhost:8080/"
        },
        "id": "yZDIR6Mno4IL",
        "outputId": "505bb846-e22a-43bb-8f0e-cc5d77661ca9"
      },
      "execution_count": null,
      "outputs": [
        {
          "output_type": "stream",
          "name": "stdout",
          "text": [
            "RMSE sklearn: 201883.24290317117\n",
            "RMSE my realization: 210830.23510110815\n"
          ]
        }
      ]
    },
    {
      "cell_type": "markdown",
      "metadata": {
        "id": "RQS6gBO1Lqc5"
      },
      "source": [
        "## 6. Выявление важных признаков"
      ]
    },
    {
      "cell_type": "markdown",
      "metadata": {
        "id": "NCvDudjKLqc6"
      },
      "source": [
        "Признаки, используемые для обучения модели, оказывают большое влияние на качество результатов. Неинформативные или слабо информативные признаки могут снизить качество модели, использование избыточных признаков в модели замедляет скорость ее работы.\n",
        "\n",
        "Для того, чтобы отобрать признаки нам следует ответить на следующие вопросы: \n",
        "\n",
        "    1. Все ли признаки в наших данных заполненны разумными значениями?\n",
        "    2. Какие признаки будут больше всего влиять на значение целевой переменной?\n",
        "    3. Какие дополнительные признаки имело бы смысл добавить в список входных?"
      ]
    },
    {
      "cell_type": "markdown",
      "metadata": {
        "id": "QlM7skwULqc7"
      },
      "source": [
        "**6.1. Разглядывание значений признаков**\n",
        "\n",
        "Для того чтобы ответить на первый вопрос, нам необходимо получить некоторую нашу экспертную оценку данных. В наших данных нет пропусков, однако иногда пропуски предварительно заполняют другими значениями (0, 999 и другие) и их можно увидеть, только внимательно посмотрев на данные. \n",
        "\n",
        "Для того, чтобы это сделать, нужно вызвать у переменной *training_points* метод **head(10)**, который выводит первые 10 строк таблицы."
      ]
    },
    {
      "cell_type": "code",
      "metadata": {
        "id": "RF5s50mpLqc9",
        "colab": {
          "base_uri": "https://localhost:8080/",
          "height": 462
        },
        "outputId": "328aba48-eca3-4189-b91d-167690f9233d"
      },
      "source": [
        "training_points.head(10)"
      ],
      "execution_count": null,
      "outputs": [
        {
          "output_type": "execute_result",
          "data": {
            "text/plain": [
              "   Спальни  Ванные  Жилая площадь  Общая площадь  Количество этажей  \\\n",
              "0        5    3.50           3490          21780                2.0   \n",
              "1        4    1.75           2360           7620                1.0   \n",
              "2        6    2.75           2040           8560                1.0   \n",
              "3        3    1.75           1940           8376                1.0   \n",
              "4        3    2.75           3450           5350                1.5   \n",
              "5        3    2.25           2300           9914                2.0   \n",
              "6        3    2.50           2770           8820                1.0   \n",
              "7        2    1.75           1650           7500                1.0   \n",
              "8        1    1.00            580           1799                1.0   \n",
              "9        2    1.00            900           3400                1.0   \n",
              "\n",
              "   Вид на воду  Просмотрены ранее  Состояние  Оценка риелтора  \\\n",
              "0            0                  0          3                8   \n",
              "1            0                  0          4                7   \n",
              "2            0                  2          4                7   \n",
              "3            0                  0          4                8   \n",
              "4            0                  3          4                9   \n",
              "5            0                  0          4                8   \n",
              "6            0                  0          3                7   \n",
              "7            0                  0          4                7   \n",
              "8            0                  0          3                7   \n",
              "9            0                  0          5                6   \n",
              "\n",
              "   Площадь без подвала  Площадь подвала  Год постройки  Год реновации  \\\n",
              "0                 3490                0           1996              0   \n",
              "1                 1180             1180           1955              0   \n",
              "2                 1100              940           1961              0   \n",
              "3                 1290              650           1963              0   \n",
              "4                 2590              860           1925              0   \n",
              "5                 2300                0           1980              0   \n",
              "6                 1900              870           1980           2004   \n",
              "7                 1000              650           1959              0   \n",
              "8                  580                0           1908           2005   \n",
              "9                  900                0           1905              0   \n",
              "\n",
              "    Широта  Долгота  \n",
              "0  47.6707 -122.144  \n",
              "1  47.5278 -122.345  \n",
              "2  47.6160 -122.115  \n",
              "3  47.5586 -122.173  \n",
              "4  47.6389 -122.407  \n",
              "5  47.5677 -122.086  \n",
              "6  47.3685 -122.048  \n",
              "7  47.6871 -122.207  \n",
              "8  47.6829 -122.375  \n",
              "9  47.5269 -122.314  "
            ],
            "text/html": [
              "\n",
              "  <div id=\"df-bb796223-2810-4a6e-ad44-cd086fa665de\">\n",
              "    <div class=\"colab-df-container\">\n",
              "      <div>\n",
              "<style scoped>\n",
              "    .dataframe tbody tr th:only-of-type {\n",
              "        vertical-align: middle;\n",
              "    }\n",
              "\n",
              "    .dataframe tbody tr th {\n",
              "        vertical-align: top;\n",
              "    }\n",
              "\n",
              "    .dataframe thead th {\n",
              "        text-align: right;\n",
              "    }\n",
              "</style>\n",
              "<table border=\"1\" class=\"dataframe\">\n",
              "  <thead>\n",
              "    <tr style=\"text-align: right;\">\n",
              "      <th></th>\n",
              "      <th>Спальни</th>\n",
              "      <th>Ванные</th>\n",
              "      <th>Жилая площадь</th>\n",
              "      <th>Общая площадь</th>\n",
              "      <th>Количество этажей</th>\n",
              "      <th>Вид на воду</th>\n",
              "      <th>Просмотрены ранее</th>\n",
              "      <th>Состояние</th>\n",
              "      <th>Оценка риелтора</th>\n",
              "      <th>Площадь без подвала</th>\n",
              "      <th>Площадь подвала</th>\n",
              "      <th>Год постройки</th>\n",
              "      <th>Год реновации</th>\n",
              "      <th>Широта</th>\n",
              "      <th>Долгота</th>\n",
              "    </tr>\n",
              "  </thead>\n",
              "  <tbody>\n",
              "    <tr>\n",
              "      <th>0</th>\n",
              "      <td>5</td>\n",
              "      <td>3.50</td>\n",
              "      <td>3490</td>\n",
              "      <td>21780</td>\n",
              "      <td>2.0</td>\n",
              "      <td>0</td>\n",
              "      <td>0</td>\n",
              "      <td>3</td>\n",
              "      <td>8</td>\n",
              "      <td>3490</td>\n",
              "      <td>0</td>\n",
              "      <td>1996</td>\n",
              "      <td>0</td>\n",
              "      <td>47.6707</td>\n",
              "      <td>-122.144</td>\n",
              "    </tr>\n",
              "    <tr>\n",
              "      <th>1</th>\n",
              "      <td>4</td>\n",
              "      <td>1.75</td>\n",
              "      <td>2360</td>\n",
              "      <td>7620</td>\n",
              "      <td>1.0</td>\n",
              "      <td>0</td>\n",
              "      <td>0</td>\n",
              "      <td>4</td>\n",
              "      <td>7</td>\n",
              "      <td>1180</td>\n",
              "      <td>1180</td>\n",
              "      <td>1955</td>\n",
              "      <td>0</td>\n",
              "      <td>47.5278</td>\n",
              "      <td>-122.345</td>\n",
              "    </tr>\n",
              "    <tr>\n",
              "      <th>2</th>\n",
              "      <td>6</td>\n",
              "      <td>2.75</td>\n",
              "      <td>2040</td>\n",
              "      <td>8560</td>\n",
              "      <td>1.0</td>\n",
              "      <td>0</td>\n",
              "      <td>2</td>\n",
              "      <td>4</td>\n",
              "      <td>7</td>\n",
              "      <td>1100</td>\n",
              "      <td>940</td>\n",
              "      <td>1961</td>\n",
              "      <td>0</td>\n",
              "      <td>47.6160</td>\n",
              "      <td>-122.115</td>\n",
              "    </tr>\n",
              "    <tr>\n",
              "      <th>3</th>\n",
              "      <td>3</td>\n",
              "      <td>1.75</td>\n",
              "      <td>1940</td>\n",
              "      <td>8376</td>\n",
              "      <td>1.0</td>\n",
              "      <td>0</td>\n",
              "      <td>0</td>\n",
              "      <td>4</td>\n",
              "      <td>8</td>\n",
              "      <td>1290</td>\n",
              "      <td>650</td>\n",
              "      <td>1963</td>\n",
              "      <td>0</td>\n",
              "      <td>47.5586</td>\n",
              "      <td>-122.173</td>\n",
              "    </tr>\n",
              "    <tr>\n",
              "      <th>4</th>\n",
              "      <td>3</td>\n",
              "      <td>2.75</td>\n",
              "      <td>3450</td>\n",
              "      <td>5350</td>\n",
              "      <td>1.5</td>\n",
              "      <td>0</td>\n",
              "      <td>3</td>\n",
              "      <td>4</td>\n",
              "      <td>9</td>\n",
              "      <td>2590</td>\n",
              "      <td>860</td>\n",
              "      <td>1925</td>\n",
              "      <td>0</td>\n",
              "      <td>47.6389</td>\n",
              "      <td>-122.407</td>\n",
              "    </tr>\n",
              "    <tr>\n",
              "      <th>5</th>\n",
              "      <td>3</td>\n",
              "      <td>2.25</td>\n",
              "      <td>2300</td>\n",
              "      <td>9914</td>\n",
              "      <td>2.0</td>\n",
              "      <td>0</td>\n",
              "      <td>0</td>\n",
              "      <td>4</td>\n",
              "      <td>8</td>\n",
              "      <td>2300</td>\n",
              "      <td>0</td>\n",
              "      <td>1980</td>\n",
              "      <td>0</td>\n",
              "      <td>47.5677</td>\n",
              "      <td>-122.086</td>\n",
              "    </tr>\n",
              "    <tr>\n",
              "      <th>6</th>\n",
              "      <td>3</td>\n",
              "      <td>2.50</td>\n",
              "      <td>2770</td>\n",
              "      <td>8820</td>\n",
              "      <td>1.0</td>\n",
              "      <td>0</td>\n",
              "      <td>0</td>\n",
              "      <td>3</td>\n",
              "      <td>7</td>\n",
              "      <td>1900</td>\n",
              "      <td>870</td>\n",
              "      <td>1980</td>\n",
              "      <td>2004</td>\n",
              "      <td>47.3685</td>\n",
              "      <td>-122.048</td>\n",
              "    </tr>\n",
              "    <tr>\n",
              "      <th>7</th>\n",
              "      <td>2</td>\n",
              "      <td>1.75</td>\n",
              "      <td>1650</td>\n",
              "      <td>7500</td>\n",
              "      <td>1.0</td>\n",
              "      <td>0</td>\n",
              "      <td>0</td>\n",
              "      <td>4</td>\n",
              "      <td>7</td>\n",
              "      <td>1000</td>\n",
              "      <td>650</td>\n",
              "      <td>1959</td>\n",
              "      <td>0</td>\n",
              "      <td>47.6871</td>\n",
              "      <td>-122.207</td>\n",
              "    </tr>\n",
              "    <tr>\n",
              "      <th>8</th>\n",
              "      <td>1</td>\n",
              "      <td>1.00</td>\n",
              "      <td>580</td>\n",
              "      <td>1799</td>\n",
              "      <td>1.0</td>\n",
              "      <td>0</td>\n",
              "      <td>0</td>\n",
              "      <td>3</td>\n",
              "      <td>7</td>\n",
              "      <td>580</td>\n",
              "      <td>0</td>\n",
              "      <td>1908</td>\n",
              "      <td>2005</td>\n",
              "      <td>47.6829</td>\n",
              "      <td>-122.375</td>\n",
              "    </tr>\n",
              "    <tr>\n",
              "      <th>9</th>\n",
              "      <td>2</td>\n",
              "      <td>1.00</td>\n",
              "      <td>900</td>\n",
              "      <td>3400</td>\n",
              "      <td>1.0</td>\n",
              "      <td>0</td>\n",
              "      <td>0</td>\n",
              "      <td>5</td>\n",
              "      <td>6</td>\n",
              "      <td>900</td>\n",
              "      <td>0</td>\n",
              "      <td>1905</td>\n",
              "      <td>0</td>\n",
              "      <td>47.5269</td>\n",
              "      <td>-122.314</td>\n",
              "    </tr>\n",
              "  </tbody>\n",
              "</table>\n",
              "</div>\n",
              "      <button class=\"colab-df-convert\" onclick=\"convertToInteractive('df-bb796223-2810-4a6e-ad44-cd086fa665de')\"\n",
              "              title=\"Convert this dataframe to an interactive table.\"\n",
              "              style=\"display:none;\">\n",
              "        \n",
              "  <svg xmlns=\"http://www.w3.org/2000/svg\" height=\"24px\"viewBox=\"0 0 24 24\"\n",
              "       width=\"24px\">\n",
              "    <path d=\"M0 0h24v24H0V0z\" fill=\"none\"/>\n",
              "    <path d=\"M18.56 5.44l.94 2.06.94-2.06 2.06-.94-2.06-.94-.94-2.06-.94 2.06-2.06.94zm-11 1L8.5 8.5l.94-2.06 2.06-.94-2.06-.94L8.5 2.5l-.94 2.06-2.06.94zm10 10l.94 2.06.94-2.06 2.06-.94-2.06-.94-.94-2.06-.94 2.06-2.06.94z\"/><path d=\"M17.41 7.96l-1.37-1.37c-.4-.4-.92-.59-1.43-.59-.52 0-1.04.2-1.43.59L10.3 9.45l-7.72 7.72c-.78.78-.78 2.05 0 2.83L4 21.41c.39.39.9.59 1.41.59.51 0 1.02-.2 1.41-.59l7.78-7.78 2.81-2.81c.8-.78.8-2.07 0-2.86zM5.41 20L4 18.59l7.72-7.72 1.47 1.35L5.41 20z\"/>\n",
              "  </svg>\n",
              "      </button>\n",
              "      \n",
              "  <style>\n",
              "    .colab-df-container {\n",
              "      display:flex;\n",
              "      flex-wrap:wrap;\n",
              "      gap: 12px;\n",
              "    }\n",
              "\n",
              "    .colab-df-convert {\n",
              "      background-color: #E8F0FE;\n",
              "      border: none;\n",
              "      border-radius: 50%;\n",
              "      cursor: pointer;\n",
              "      display: none;\n",
              "      fill: #1967D2;\n",
              "      height: 32px;\n",
              "      padding: 0 0 0 0;\n",
              "      width: 32px;\n",
              "    }\n",
              "\n",
              "    .colab-df-convert:hover {\n",
              "      background-color: #E2EBFA;\n",
              "      box-shadow: 0px 1px 2px rgba(60, 64, 67, 0.3), 0px 1px 3px 1px rgba(60, 64, 67, 0.15);\n",
              "      fill: #174EA6;\n",
              "    }\n",
              "\n",
              "    [theme=dark] .colab-df-convert {\n",
              "      background-color: #3B4455;\n",
              "      fill: #D2E3FC;\n",
              "    }\n",
              "\n",
              "    [theme=dark] .colab-df-convert:hover {\n",
              "      background-color: #434B5C;\n",
              "      box-shadow: 0px 1px 3px 1px rgba(0, 0, 0, 0.15);\n",
              "      filter: drop-shadow(0px 1px 2px rgba(0, 0, 0, 0.3));\n",
              "      fill: #FFFFFF;\n",
              "    }\n",
              "  </style>\n",
              "\n",
              "      <script>\n",
              "        const buttonEl =\n",
              "          document.querySelector('#df-bb796223-2810-4a6e-ad44-cd086fa665de button.colab-df-convert');\n",
              "        buttonEl.style.display =\n",
              "          google.colab.kernel.accessAllowed ? 'block' : 'none';\n",
              "\n",
              "        async function convertToInteractive(key) {\n",
              "          const element = document.querySelector('#df-bb796223-2810-4a6e-ad44-cd086fa665de');\n",
              "          const dataTable =\n",
              "            await google.colab.kernel.invokeFunction('convertToInteractive',\n",
              "                                                     [key], {});\n",
              "          if (!dataTable) return;\n",
              "\n",
              "          const docLinkHtml = 'Like what you see? Visit the ' +\n",
              "            '<a target=\"_blank\" href=https://colab.research.google.com/notebooks/data_table.ipynb>data table notebook</a>'\n",
              "            + ' to learn more about interactive tables.';\n",
              "          element.innerHTML = '';\n",
              "          dataTable['output_type'] = 'display_data';\n",
              "          await google.colab.output.renderOutput(dataTable, element);\n",
              "          const docLink = document.createElement('div');\n",
              "          docLink.innerHTML = docLinkHtml;\n",
              "          element.appendChild(docLink);\n",
              "        }\n",
              "      </script>\n",
              "    </div>\n",
              "  </div>\n",
              "  "
            ]
          },
          "metadata": {},
          "execution_count": 42
        }
      ]
    },
    {
      "cell_type": "markdown",
      "metadata": {
        "id": "g-MGwOMxLqdG"
      },
      "source": [
        "Рассмотрим столбец \"Год реновации\". Он содержит много нулей и мало реальных данных о годах, что как раз свидетельствует о том, что в этих данных изначально были пропуски, а к нам они попали уже заполненные нулями. \n",
        "\n",
        "Мы можем посмотреть количество уникальных значений и сколько раз эти значения встречаются в этом столбце. Для этого вызываем метод **value_counts()** у нашего столбца *training_points['Год реновации']*"
      ]
    },
    {
      "cell_type": "code",
      "metadata": {
        "scrolled": true,
        "id": "vZhcfLFXLqdJ",
        "colab": {
          "base_uri": "https://localhost:8080/"
        },
        "outputId": "e1bb0b2d-2572-4b90-df93-c3a53d37f97b"
      },
      "source": [
        "training_points['Год реновации'].value_counts()"
      ],
      "execution_count": null,
      "outputs": [
        {
          "output_type": "execute_result",
          "data": {
            "text/plain": [
              "0       14490\n",
              "2014       63\n",
              "2013       31\n",
              "2000       28\n",
              "2003       24\n",
              "        ...  \n",
              "1948        1\n",
              "1950        1\n",
              "1953        1\n",
              "1934        1\n",
              "1955        1\n",
              "Name: Год реновации, Length: 67, dtype: int64"
            ]
          },
          "metadata": {},
          "execution_count": 43
        }
      ]
    },
    {
      "cell_type": "markdown",
      "metadata": {
        "id": "DnPPjFtGLqdL"
      },
      "source": [
        "Как видно, нулей существенно больше (14490), чем любых других значений (639), поэтому можем сделать вывод, что этот признак не информативен и может негативно повлиять на качество модели."
      ]
    },
    {
      "cell_type": "markdown",
      "metadata": {
        "id": "7kYhqu9ELqdM"
      },
      "source": [
        "**6.2. Какие признаки самые важные**\n",
        "\n",
        "Ручной перебор признаков невозможен, если их тысячи, кроме того, часто даже эксперты не могут сказать, использование каких признаков в модели даст прирост качества.\n",
        "Кроме ручного перебора всех признаков и их визуального анализа, можно использовать оценку значимости признаков с помощью обученных моделей. "
      ]
    },
    {
      "cell_type": "markdown",
      "metadata": {
        "id": "xMlw49Lxj1Ne"
      },
      "source": [
        "## Задание 3.7 "
      ]
    },
    {
      "cell_type": "code",
      "metadata": {
        "id": "TSzXSHgfLqdN"
      },
      "source": [
        "## введите свой код\n",
        "## напишите код, который вычисляет значимость признака (фактически это просто вес по модулю)"
      ],
      "execution_count": null,
      "outputs": []
    },
    {
      "cell_type": "code",
      "source": [
        "from sklearn.linear_model import SGDRegressor\n",
        "from sklearn.pipeline import make_pipeline\n",
        "\n",
        "sgdr_pipeline = make_pipeline(StandardScaler(), SGDRegressor(max_iter=10000, tol=1e-3))\n",
        "sgdr_pipeline.fit(training_points, training_values)\n",
        "predictions = sgdr_pipeline.predict(test_points)"
      ],
      "metadata": {
        "id": "aZ9AZA6YqJUA"
      },
      "execution_count": null,
      "outputs": []
    },
    {
      "cell_type": "markdown",
      "metadata": {
        "id": "zyK1fI42LqdT"
      },
      "source": [
        "Представьте полученные результаты в более удобном табличном виде. Создайте пустую таблицу *feature_importance* с двумя колонками \"Название признака\", \"Важность признака\". Для этого воспользуемся функцией **DataFrame()** из библиотеки pandas и передадим ей в качестве аргумента   \n",
        "*columns = [\"Название признака\", \"Важность признака\"]*"
      ]
    },
    {
      "cell_type": "code",
      "metadata": {
        "id": "H2a9uu6YLqdT"
      },
      "source": [
        "feature_importance = pd.DataFrame({'Название признака': test_points.columns,\n",
        "                                   'Важность признака': np.abs(sgdr_pipeline[1].coef_)})"
      ],
      "execution_count": null,
      "outputs": []
    },
    {
      "cell_type": "markdown",
      "metadata": {
        "id": "2L5zngrOLqdX"
      },
      "source": [
        "Заполните соответствующие колонки значениями, которые мы получили выше. "
      ]
    },
    {
      "cell_type": "code",
      "metadata": {
        "id": "gb3TXJEbLqdZ",
        "colab": {
          "base_uri": "https://localhost:8080/",
          "height": 520
        },
        "outputId": "1f7f219e-70b9-46b7-f37d-48dd6cac943c"
      },
      "source": [
        "# выведите полученную таблицу\n",
        "feature_importance"
      ],
      "execution_count": null,
      "outputs": [
        {
          "output_type": "execute_result",
          "data": {
            "text/plain": [
              "      Название признака  Важность признака\n",
              "0               Спальни       22901.577030\n",
              "1                Ванные       43475.190828\n",
              "2         Жилая площадь       94526.547451\n",
              "3         Общая площадь        3623.899812\n",
              "4     Количество этажей        4527.549877\n",
              "5           Вид на воду       52028.304672\n",
              "6     Просмотрены ранее       48309.098357\n",
              "7             Состояние       23562.078712\n",
              "8       Оценка риелтора      131303.308412\n",
              "9   Площадь без подвала       90794.018606\n",
              "10      Площадь подвала       25477.812296\n",
              "11        Год постройки       70714.198218\n",
              "12        Год реновации        5798.217339\n",
              "13               Широта       85837.932410\n",
              "14              Долгота       17717.472760"
            ],
            "text/html": [
              "\n",
              "  <div id=\"df-4db59d90-a14e-4818-9160-ecf45f1369ab\">\n",
              "    <div class=\"colab-df-container\">\n",
              "      <div>\n",
              "<style scoped>\n",
              "    .dataframe tbody tr th:only-of-type {\n",
              "        vertical-align: middle;\n",
              "    }\n",
              "\n",
              "    .dataframe tbody tr th {\n",
              "        vertical-align: top;\n",
              "    }\n",
              "\n",
              "    .dataframe thead th {\n",
              "        text-align: right;\n",
              "    }\n",
              "</style>\n",
              "<table border=\"1\" class=\"dataframe\">\n",
              "  <thead>\n",
              "    <tr style=\"text-align: right;\">\n",
              "      <th></th>\n",
              "      <th>Название признака</th>\n",
              "      <th>Важность признака</th>\n",
              "    </tr>\n",
              "  </thead>\n",
              "  <tbody>\n",
              "    <tr>\n",
              "      <th>0</th>\n",
              "      <td>Спальни</td>\n",
              "      <td>22901.577030</td>\n",
              "    </tr>\n",
              "    <tr>\n",
              "      <th>1</th>\n",
              "      <td>Ванные</td>\n",
              "      <td>43475.190828</td>\n",
              "    </tr>\n",
              "    <tr>\n",
              "      <th>2</th>\n",
              "      <td>Жилая площадь</td>\n",
              "      <td>94526.547451</td>\n",
              "    </tr>\n",
              "    <tr>\n",
              "      <th>3</th>\n",
              "      <td>Общая площадь</td>\n",
              "      <td>3623.899812</td>\n",
              "    </tr>\n",
              "    <tr>\n",
              "      <th>4</th>\n",
              "      <td>Количество этажей</td>\n",
              "      <td>4527.549877</td>\n",
              "    </tr>\n",
              "    <tr>\n",
              "      <th>5</th>\n",
              "      <td>Вид на воду</td>\n",
              "      <td>52028.304672</td>\n",
              "    </tr>\n",
              "    <tr>\n",
              "      <th>6</th>\n",
              "      <td>Просмотрены ранее</td>\n",
              "      <td>48309.098357</td>\n",
              "    </tr>\n",
              "    <tr>\n",
              "      <th>7</th>\n",
              "      <td>Состояние</td>\n",
              "      <td>23562.078712</td>\n",
              "    </tr>\n",
              "    <tr>\n",
              "      <th>8</th>\n",
              "      <td>Оценка риелтора</td>\n",
              "      <td>131303.308412</td>\n",
              "    </tr>\n",
              "    <tr>\n",
              "      <th>9</th>\n",
              "      <td>Площадь без подвала</td>\n",
              "      <td>90794.018606</td>\n",
              "    </tr>\n",
              "    <tr>\n",
              "      <th>10</th>\n",
              "      <td>Площадь подвала</td>\n",
              "      <td>25477.812296</td>\n",
              "    </tr>\n",
              "    <tr>\n",
              "      <th>11</th>\n",
              "      <td>Год постройки</td>\n",
              "      <td>70714.198218</td>\n",
              "    </tr>\n",
              "    <tr>\n",
              "      <th>12</th>\n",
              "      <td>Год реновации</td>\n",
              "      <td>5798.217339</td>\n",
              "    </tr>\n",
              "    <tr>\n",
              "      <th>13</th>\n",
              "      <td>Широта</td>\n",
              "      <td>85837.932410</td>\n",
              "    </tr>\n",
              "    <tr>\n",
              "      <th>14</th>\n",
              "      <td>Долгота</td>\n",
              "      <td>17717.472760</td>\n",
              "    </tr>\n",
              "  </tbody>\n",
              "</table>\n",
              "</div>\n",
              "      <button class=\"colab-df-convert\" onclick=\"convertToInteractive('df-4db59d90-a14e-4818-9160-ecf45f1369ab')\"\n",
              "              title=\"Convert this dataframe to an interactive table.\"\n",
              "              style=\"display:none;\">\n",
              "        \n",
              "  <svg xmlns=\"http://www.w3.org/2000/svg\" height=\"24px\"viewBox=\"0 0 24 24\"\n",
              "       width=\"24px\">\n",
              "    <path d=\"M0 0h24v24H0V0z\" fill=\"none\"/>\n",
              "    <path d=\"M18.56 5.44l.94 2.06.94-2.06 2.06-.94-2.06-.94-.94-2.06-.94 2.06-2.06.94zm-11 1L8.5 8.5l.94-2.06 2.06-.94-2.06-.94L8.5 2.5l-.94 2.06-2.06.94zm10 10l.94 2.06.94-2.06 2.06-.94-2.06-.94-.94-2.06-.94 2.06-2.06.94z\"/><path d=\"M17.41 7.96l-1.37-1.37c-.4-.4-.92-.59-1.43-.59-.52 0-1.04.2-1.43.59L10.3 9.45l-7.72 7.72c-.78.78-.78 2.05 0 2.83L4 21.41c.39.39.9.59 1.41.59.51 0 1.02-.2 1.41-.59l7.78-7.78 2.81-2.81c.8-.78.8-2.07 0-2.86zM5.41 20L4 18.59l7.72-7.72 1.47 1.35L5.41 20z\"/>\n",
              "  </svg>\n",
              "      </button>\n",
              "      \n",
              "  <style>\n",
              "    .colab-df-container {\n",
              "      display:flex;\n",
              "      flex-wrap:wrap;\n",
              "      gap: 12px;\n",
              "    }\n",
              "\n",
              "    .colab-df-convert {\n",
              "      background-color: #E8F0FE;\n",
              "      border: none;\n",
              "      border-radius: 50%;\n",
              "      cursor: pointer;\n",
              "      display: none;\n",
              "      fill: #1967D2;\n",
              "      height: 32px;\n",
              "      padding: 0 0 0 0;\n",
              "      width: 32px;\n",
              "    }\n",
              "\n",
              "    .colab-df-convert:hover {\n",
              "      background-color: #E2EBFA;\n",
              "      box-shadow: 0px 1px 2px rgba(60, 64, 67, 0.3), 0px 1px 3px 1px rgba(60, 64, 67, 0.15);\n",
              "      fill: #174EA6;\n",
              "    }\n",
              "\n",
              "    [theme=dark] .colab-df-convert {\n",
              "      background-color: #3B4455;\n",
              "      fill: #D2E3FC;\n",
              "    }\n",
              "\n",
              "    [theme=dark] .colab-df-convert:hover {\n",
              "      background-color: #434B5C;\n",
              "      box-shadow: 0px 1px 3px 1px rgba(0, 0, 0, 0.15);\n",
              "      filter: drop-shadow(0px 1px 2px rgba(0, 0, 0, 0.3));\n",
              "      fill: #FFFFFF;\n",
              "    }\n",
              "  </style>\n",
              "\n",
              "      <script>\n",
              "        const buttonEl =\n",
              "          document.querySelector('#df-4db59d90-a14e-4818-9160-ecf45f1369ab button.colab-df-convert');\n",
              "        buttonEl.style.display =\n",
              "          google.colab.kernel.accessAllowed ? 'block' : 'none';\n",
              "\n",
              "        async function convertToInteractive(key) {\n",
              "          const element = document.querySelector('#df-4db59d90-a14e-4818-9160-ecf45f1369ab');\n",
              "          const dataTable =\n",
              "            await google.colab.kernel.invokeFunction('convertToInteractive',\n",
              "                                                     [key], {});\n",
              "          if (!dataTable) return;\n",
              "\n",
              "          const docLinkHtml = 'Like what you see? Visit the ' +\n",
              "            '<a target=\"_blank\" href=https://colab.research.google.com/notebooks/data_table.ipynb>data table notebook</a>'\n",
              "            + ' to learn more about interactive tables.';\n",
              "          element.innerHTML = '';\n",
              "          dataTable['output_type'] = 'display_data';\n",
              "          await google.colab.output.renderOutput(dataTable, element);\n",
              "          const docLink = document.createElement('div');\n",
              "          docLink.innerHTML = docLinkHtml;\n",
              "          element.appendChild(docLink);\n",
              "        }\n",
              "      </script>\n",
              "    </div>\n",
              "  </div>\n",
              "  "
            ]
          },
          "metadata": {},
          "execution_count": 61
        }
      ]
    },
    {
      "cell_type": "markdown",
      "metadata": {
        "id": "HCqhWnNtLqdb"
      },
      "source": [
        "Мы можем отсортировать значения по важности, вызвав у *feature_importance* метод **sort_values()**.\n",
        "\n",
        "Обратите внимание, что в данном случае мы передаем два аргумента:\n",
        "\n",
        "1. by='Важность признака' - название столбца, по которому мы сортируем\n",
        "2. ascending=False - означает, что мы сортируем по убиыванию, а в случае ascending=True сортировка будет по возрастанию"
      ]
    },
    {
      "cell_type": "code",
      "metadata": {
        "id": "uAOXjcAxLqdb",
        "colab": {
          "base_uri": "https://localhost:8080/",
          "height": 520
        },
        "outputId": "0f03da99-5068-43fe-8416-a62a48982768"
      },
      "source": [
        "feature_importance.sort_values(by='Важность признака', ascending=False)"
      ],
      "execution_count": null,
      "outputs": [
        {
          "output_type": "execute_result",
          "data": {
            "text/plain": [
              "      Название признака  Важность признака\n",
              "8       Оценка риелтора      131303.308412\n",
              "2         Жилая площадь       94526.547451\n",
              "9   Площадь без подвала       90794.018606\n",
              "13               Широта       85837.932410\n",
              "11        Год постройки       70714.198218\n",
              "5           Вид на воду       52028.304672\n",
              "6     Просмотрены ранее       48309.098357\n",
              "1                Ванные       43475.190828\n",
              "10      Площадь подвала       25477.812296\n",
              "7             Состояние       23562.078712\n",
              "0               Спальни       22901.577030\n",
              "14              Долгота       17717.472760\n",
              "12        Год реновации        5798.217339\n",
              "4     Количество этажей        4527.549877\n",
              "3         Общая площадь        3623.899812"
            ],
            "text/html": [
              "\n",
              "  <div id=\"df-b5ff4f4c-1db7-439a-bd5d-e5123eeafe52\">\n",
              "    <div class=\"colab-df-container\">\n",
              "      <div>\n",
              "<style scoped>\n",
              "    .dataframe tbody tr th:only-of-type {\n",
              "        vertical-align: middle;\n",
              "    }\n",
              "\n",
              "    .dataframe tbody tr th {\n",
              "        vertical-align: top;\n",
              "    }\n",
              "\n",
              "    .dataframe thead th {\n",
              "        text-align: right;\n",
              "    }\n",
              "</style>\n",
              "<table border=\"1\" class=\"dataframe\">\n",
              "  <thead>\n",
              "    <tr style=\"text-align: right;\">\n",
              "      <th></th>\n",
              "      <th>Название признака</th>\n",
              "      <th>Важность признака</th>\n",
              "    </tr>\n",
              "  </thead>\n",
              "  <tbody>\n",
              "    <tr>\n",
              "      <th>8</th>\n",
              "      <td>Оценка риелтора</td>\n",
              "      <td>131303.308412</td>\n",
              "    </tr>\n",
              "    <tr>\n",
              "      <th>2</th>\n",
              "      <td>Жилая площадь</td>\n",
              "      <td>94526.547451</td>\n",
              "    </tr>\n",
              "    <tr>\n",
              "      <th>9</th>\n",
              "      <td>Площадь без подвала</td>\n",
              "      <td>90794.018606</td>\n",
              "    </tr>\n",
              "    <tr>\n",
              "      <th>13</th>\n",
              "      <td>Широта</td>\n",
              "      <td>85837.932410</td>\n",
              "    </tr>\n",
              "    <tr>\n",
              "      <th>11</th>\n",
              "      <td>Год постройки</td>\n",
              "      <td>70714.198218</td>\n",
              "    </tr>\n",
              "    <tr>\n",
              "      <th>5</th>\n",
              "      <td>Вид на воду</td>\n",
              "      <td>52028.304672</td>\n",
              "    </tr>\n",
              "    <tr>\n",
              "      <th>6</th>\n",
              "      <td>Просмотрены ранее</td>\n",
              "      <td>48309.098357</td>\n",
              "    </tr>\n",
              "    <tr>\n",
              "      <th>1</th>\n",
              "      <td>Ванные</td>\n",
              "      <td>43475.190828</td>\n",
              "    </tr>\n",
              "    <tr>\n",
              "      <th>10</th>\n",
              "      <td>Площадь подвала</td>\n",
              "      <td>25477.812296</td>\n",
              "    </tr>\n",
              "    <tr>\n",
              "      <th>7</th>\n",
              "      <td>Состояние</td>\n",
              "      <td>23562.078712</td>\n",
              "    </tr>\n",
              "    <tr>\n",
              "      <th>0</th>\n",
              "      <td>Спальни</td>\n",
              "      <td>22901.577030</td>\n",
              "    </tr>\n",
              "    <tr>\n",
              "      <th>14</th>\n",
              "      <td>Долгота</td>\n",
              "      <td>17717.472760</td>\n",
              "    </tr>\n",
              "    <tr>\n",
              "      <th>12</th>\n",
              "      <td>Год реновации</td>\n",
              "      <td>5798.217339</td>\n",
              "    </tr>\n",
              "    <tr>\n",
              "      <th>4</th>\n",
              "      <td>Количество этажей</td>\n",
              "      <td>4527.549877</td>\n",
              "    </tr>\n",
              "    <tr>\n",
              "      <th>3</th>\n",
              "      <td>Общая площадь</td>\n",
              "      <td>3623.899812</td>\n",
              "    </tr>\n",
              "  </tbody>\n",
              "</table>\n",
              "</div>\n",
              "      <button class=\"colab-df-convert\" onclick=\"convertToInteractive('df-b5ff4f4c-1db7-439a-bd5d-e5123eeafe52')\"\n",
              "              title=\"Convert this dataframe to an interactive table.\"\n",
              "              style=\"display:none;\">\n",
              "        \n",
              "  <svg xmlns=\"http://www.w3.org/2000/svg\" height=\"24px\"viewBox=\"0 0 24 24\"\n",
              "       width=\"24px\">\n",
              "    <path d=\"M0 0h24v24H0V0z\" fill=\"none\"/>\n",
              "    <path d=\"M18.56 5.44l.94 2.06.94-2.06 2.06-.94-2.06-.94-.94-2.06-.94 2.06-2.06.94zm-11 1L8.5 8.5l.94-2.06 2.06-.94-2.06-.94L8.5 2.5l-.94 2.06-2.06.94zm10 10l.94 2.06.94-2.06 2.06-.94-2.06-.94-.94-2.06-.94 2.06-2.06.94z\"/><path d=\"M17.41 7.96l-1.37-1.37c-.4-.4-.92-.59-1.43-.59-.52 0-1.04.2-1.43.59L10.3 9.45l-7.72 7.72c-.78.78-.78 2.05 0 2.83L4 21.41c.39.39.9.59 1.41.59.51 0 1.02-.2 1.41-.59l7.78-7.78 2.81-2.81c.8-.78.8-2.07 0-2.86zM5.41 20L4 18.59l7.72-7.72 1.47 1.35L5.41 20z\"/>\n",
              "  </svg>\n",
              "      </button>\n",
              "      \n",
              "  <style>\n",
              "    .colab-df-container {\n",
              "      display:flex;\n",
              "      flex-wrap:wrap;\n",
              "      gap: 12px;\n",
              "    }\n",
              "\n",
              "    .colab-df-convert {\n",
              "      background-color: #E8F0FE;\n",
              "      border: none;\n",
              "      border-radius: 50%;\n",
              "      cursor: pointer;\n",
              "      display: none;\n",
              "      fill: #1967D2;\n",
              "      height: 32px;\n",
              "      padding: 0 0 0 0;\n",
              "      width: 32px;\n",
              "    }\n",
              "\n",
              "    .colab-df-convert:hover {\n",
              "      background-color: #E2EBFA;\n",
              "      box-shadow: 0px 1px 2px rgba(60, 64, 67, 0.3), 0px 1px 3px 1px rgba(60, 64, 67, 0.15);\n",
              "      fill: #174EA6;\n",
              "    }\n",
              "\n",
              "    [theme=dark] .colab-df-convert {\n",
              "      background-color: #3B4455;\n",
              "      fill: #D2E3FC;\n",
              "    }\n",
              "\n",
              "    [theme=dark] .colab-df-convert:hover {\n",
              "      background-color: #434B5C;\n",
              "      box-shadow: 0px 1px 3px 1px rgba(0, 0, 0, 0.15);\n",
              "      filter: drop-shadow(0px 1px 2px rgba(0, 0, 0, 0.3));\n",
              "      fill: #FFFFFF;\n",
              "    }\n",
              "  </style>\n",
              "\n",
              "      <script>\n",
              "        const buttonEl =\n",
              "          document.querySelector('#df-b5ff4f4c-1db7-439a-bd5d-e5123eeafe52 button.colab-df-convert');\n",
              "        buttonEl.style.display =\n",
              "          google.colab.kernel.accessAllowed ? 'block' : 'none';\n",
              "\n",
              "        async function convertToInteractive(key) {\n",
              "          const element = document.querySelector('#df-b5ff4f4c-1db7-439a-bd5d-e5123eeafe52');\n",
              "          const dataTable =\n",
              "            await google.colab.kernel.invokeFunction('convertToInteractive',\n",
              "                                                     [key], {});\n",
              "          if (!dataTable) return;\n",
              "\n",
              "          const docLinkHtml = 'Like what you see? Visit the ' +\n",
              "            '<a target=\"_blank\" href=https://colab.research.google.com/notebooks/data_table.ipynb>data table notebook</a>'\n",
              "            + ' to learn more about interactive tables.';\n",
              "          element.innerHTML = '';\n",
              "          dataTable['output_type'] = 'display_data';\n",
              "          await google.colab.output.renderOutput(dataTable, element);\n",
              "          const docLink = document.createElement('div');\n",
              "          docLink.innerHTML = docLinkHtml;\n",
              "          element.appendChild(docLink);\n",
              "        }\n",
              "      </script>\n",
              "    </div>\n",
              "  </div>\n",
              "  "
            ]
          },
          "metadata": {},
          "execution_count": 62
        }
      ]
    },
    {
      "cell_type": "markdown",
      "metadata": {
        "id": "y1W41te9H0CG"
      },
      "source": [
        "## Задание 3.8. \n",
        "\n",
        "Напомню исходную постановку задачи. Мы говорили о том, что оценка цены на недвижимость может быть нужна для выявления аномально низких цен на объект недвижимости. Давайте попробуем найти такие в датасете."
      ]
    },
    {
      "cell_type": "code",
      "source": [
        "train_values = training_data['Целевая.Цена']\n",
        "train_points = training_data.drop('Целевая.Цена', axis=1)\n",
        "model = linear_model.LinearRegression()\n",
        "model.fit(train_points, train_values)\n",
        "\n",
        "mae = mean_absolute_error(model.predict(train_points), train_values)\n",
        "abnormal_prices = training_data[(train_values < model.predict(train_points)- 3 * mae)].sort_values(by='Целевая.Цена')\n",
        "abnormal_prices"
      ],
      "metadata": {
        "colab": {
          "base_uri": "https://localhost:8080/",
          "height": 522
        },
        "id": "xmhvfRECrUxx",
        "outputId": "149a475b-7a5d-4ac3-effb-8f2fd948561c"
      },
      "execution_count": null,
      "outputs": [
        {
          "output_type": "execute_result",
          "data": {
            "text/plain": [
              "       Целевая.Цена  Спальни  Ванные  Жилая площадь  Общая площадь  \\\n",
              "68           250000        3    1.50           2840          10182   \n",
              "891          257000        5    2.75           2930          10148   \n",
              "6490         262500        3    1.75           2259          26831   \n",
              "2909         265000        4    3.00           1940           8170   \n",
              "14060        274975        3    2.50           3030          45004   \n",
              "...             ...      ...     ...            ...            ...   \n",
              "9578        1190000        2    1.75           2080           8112   \n",
              "7090        1230000        4    2.50           5730          44947   \n",
              "13731       1300000        2    2.50           2910          19449   \n",
              "9631        1610000        4    2.75           5470          18200   \n",
              "8005        1640000        3    3.50           4660          21164   \n",
              "\n",
              "       Количество этажей  Вид на воду  Просмотрены ранее  Состояние  \\\n",
              "68                   1.0            0                  0          3   \n",
              "891                  2.0            0                  0          3   \n",
              "6490                 1.5            0                  3          5   \n",
              "2909                 1.0            0                  0          4   \n",
              "14060                2.0            0                  0          3   \n",
              "...                  ...          ...                ...        ...   \n",
              "9578                 1.0            1                  4          4   \n",
              "7090                 2.0            0                  4          3   \n",
              "13731                2.0            1                  4          5   \n",
              "9631                 2.0            1                  4          3   \n",
              "8005                 2.0            1                  4          3   \n",
              "\n",
              "       Оценка риелтора  Площадь без подвала  Площадь подвала  Год постройки  \\\n",
              "68                   8                 1510             1330           1951   \n",
              "891                  9                 2930                0           2002   \n",
              "6490                 7                 1491              768           1908   \n",
              "2909                 7                 1940                0           1948   \n",
              "14060                9                 3030                0           1987   \n",
              "...                ...                  ...              ...            ...   \n",
              "9578                 8                 1040             1040           1939   \n",
              "7090                11                 4280             1450           1991   \n",
              "13731                9                 1940              970           1985   \n",
              "9631                11                 3730             1740           1992   \n",
              "8005                12                 4660                0           1975   \n",
              "\n",
              "       Год реновации   Широта  Долгота  \n",
              "68                 0  47.5240 -122.200  \n",
              "891                0  47.4887 -122.145  \n",
              "6490               0  47.2741 -122.266  \n",
              "2909               0  47.7381 -122.302  \n",
              "14060              0  47.7721 -122.093  \n",
              "...              ...      ...      ...  \n",
              "9578            1984  47.7134 -122.277  \n",
              "7090               0  47.6052 -122.064  \n",
              "13731              0  47.7729 -122.393  \n",
              "9631               0  47.5316 -122.263  \n",
              "8005            1990  47.4418 -122.354  \n",
              "\n",
              "[188 rows x 16 columns]"
            ],
            "text/html": [
              "\n",
              "  <div id=\"df-663b279c-878b-43c9-878f-3535b83a42bd\">\n",
              "    <div class=\"colab-df-container\">\n",
              "      <div>\n",
              "<style scoped>\n",
              "    .dataframe tbody tr th:only-of-type {\n",
              "        vertical-align: middle;\n",
              "    }\n",
              "\n",
              "    .dataframe tbody tr th {\n",
              "        vertical-align: top;\n",
              "    }\n",
              "\n",
              "    .dataframe thead th {\n",
              "        text-align: right;\n",
              "    }\n",
              "</style>\n",
              "<table border=\"1\" class=\"dataframe\">\n",
              "  <thead>\n",
              "    <tr style=\"text-align: right;\">\n",
              "      <th></th>\n",
              "      <th>Целевая.Цена</th>\n",
              "      <th>Спальни</th>\n",
              "      <th>Ванные</th>\n",
              "      <th>Жилая площадь</th>\n",
              "      <th>Общая площадь</th>\n",
              "      <th>Количество этажей</th>\n",
              "      <th>Вид на воду</th>\n",
              "      <th>Просмотрены ранее</th>\n",
              "      <th>Состояние</th>\n",
              "      <th>Оценка риелтора</th>\n",
              "      <th>Площадь без подвала</th>\n",
              "      <th>Площадь подвала</th>\n",
              "      <th>Год постройки</th>\n",
              "      <th>Год реновации</th>\n",
              "      <th>Широта</th>\n",
              "      <th>Долгота</th>\n",
              "    </tr>\n",
              "  </thead>\n",
              "  <tbody>\n",
              "    <tr>\n",
              "      <th>68</th>\n",
              "      <td>250000</td>\n",
              "      <td>3</td>\n",
              "      <td>1.50</td>\n",
              "      <td>2840</td>\n",
              "      <td>10182</td>\n",
              "      <td>1.0</td>\n",
              "      <td>0</td>\n",
              "      <td>0</td>\n",
              "      <td>3</td>\n",
              "      <td>8</td>\n",
              "      <td>1510</td>\n",
              "      <td>1330</td>\n",
              "      <td>1951</td>\n",
              "      <td>0</td>\n",
              "      <td>47.5240</td>\n",
              "      <td>-122.200</td>\n",
              "    </tr>\n",
              "    <tr>\n",
              "      <th>891</th>\n",
              "      <td>257000</td>\n",
              "      <td>5</td>\n",
              "      <td>2.75</td>\n",
              "      <td>2930</td>\n",
              "      <td>10148</td>\n",
              "      <td>2.0</td>\n",
              "      <td>0</td>\n",
              "      <td>0</td>\n",
              "      <td>3</td>\n",
              "      <td>9</td>\n",
              "      <td>2930</td>\n",
              "      <td>0</td>\n",
              "      <td>2002</td>\n",
              "      <td>0</td>\n",
              "      <td>47.4887</td>\n",
              "      <td>-122.145</td>\n",
              "    </tr>\n",
              "    <tr>\n",
              "      <th>6490</th>\n",
              "      <td>262500</td>\n",
              "      <td>3</td>\n",
              "      <td>1.75</td>\n",
              "      <td>2259</td>\n",
              "      <td>26831</td>\n",
              "      <td>1.5</td>\n",
              "      <td>0</td>\n",
              "      <td>3</td>\n",
              "      <td>5</td>\n",
              "      <td>7</td>\n",
              "      <td>1491</td>\n",
              "      <td>768</td>\n",
              "      <td>1908</td>\n",
              "      <td>0</td>\n",
              "      <td>47.2741</td>\n",
              "      <td>-122.266</td>\n",
              "    </tr>\n",
              "    <tr>\n",
              "      <th>2909</th>\n",
              "      <td>265000</td>\n",
              "      <td>4</td>\n",
              "      <td>3.00</td>\n",
              "      <td>1940</td>\n",
              "      <td>8170</td>\n",
              "      <td>1.0</td>\n",
              "      <td>0</td>\n",
              "      <td>0</td>\n",
              "      <td>4</td>\n",
              "      <td>7</td>\n",
              "      <td>1940</td>\n",
              "      <td>0</td>\n",
              "      <td>1948</td>\n",
              "      <td>0</td>\n",
              "      <td>47.7381</td>\n",
              "      <td>-122.302</td>\n",
              "    </tr>\n",
              "    <tr>\n",
              "      <th>14060</th>\n",
              "      <td>274975</td>\n",
              "      <td>3</td>\n",
              "      <td>2.50</td>\n",
              "      <td>3030</td>\n",
              "      <td>45004</td>\n",
              "      <td>2.0</td>\n",
              "      <td>0</td>\n",
              "      <td>0</td>\n",
              "      <td>3</td>\n",
              "      <td>9</td>\n",
              "      <td>3030</td>\n",
              "      <td>0</td>\n",
              "      <td>1987</td>\n",
              "      <td>0</td>\n",
              "      <td>47.7721</td>\n",
              "      <td>-122.093</td>\n",
              "    </tr>\n",
              "    <tr>\n",
              "      <th>...</th>\n",
              "      <td>...</td>\n",
              "      <td>...</td>\n",
              "      <td>...</td>\n",
              "      <td>...</td>\n",
              "      <td>...</td>\n",
              "      <td>...</td>\n",
              "      <td>...</td>\n",
              "      <td>...</td>\n",
              "      <td>...</td>\n",
              "      <td>...</td>\n",
              "      <td>...</td>\n",
              "      <td>...</td>\n",
              "      <td>...</td>\n",
              "      <td>...</td>\n",
              "      <td>...</td>\n",
              "      <td>...</td>\n",
              "    </tr>\n",
              "    <tr>\n",
              "      <th>9578</th>\n",
              "      <td>1190000</td>\n",
              "      <td>2</td>\n",
              "      <td>1.75</td>\n",
              "      <td>2080</td>\n",
              "      <td>8112</td>\n",
              "      <td>1.0</td>\n",
              "      <td>1</td>\n",
              "      <td>4</td>\n",
              "      <td>4</td>\n",
              "      <td>8</td>\n",
              "      <td>1040</td>\n",
              "      <td>1040</td>\n",
              "      <td>1939</td>\n",
              "      <td>1984</td>\n",
              "      <td>47.7134</td>\n",
              "      <td>-122.277</td>\n",
              "    </tr>\n",
              "    <tr>\n",
              "      <th>7090</th>\n",
              "      <td>1230000</td>\n",
              "      <td>4</td>\n",
              "      <td>2.50</td>\n",
              "      <td>5730</td>\n",
              "      <td>44947</td>\n",
              "      <td>2.0</td>\n",
              "      <td>0</td>\n",
              "      <td>4</td>\n",
              "      <td>3</td>\n",
              "      <td>11</td>\n",
              "      <td>4280</td>\n",
              "      <td>1450</td>\n",
              "      <td>1991</td>\n",
              "      <td>0</td>\n",
              "      <td>47.6052</td>\n",
              "      <td>-122.064</td>\n",
              "    </tr>\n",
              "    <tr>\n",
              "      <th>13731</th>\n",
              "      <td>1300000</td>\n",
              "      <td>2</td>\n",
              "      <td>2.50</td>\n",
              "      <td>2910</td>\n",
              "      <td>19449</td>\n",
              "      <td>2.0</td>\n",
              "      <td>1</td>\n",
              "      <td>4</td>\n",
              "      <td>5</td>\n",
              "      <td>9</td>\n",
              "      <td>1940</td>\n",
              "      <td>970</td>\n",
              "      <td>1985</td>\n",
              "      <td>0</td>\n",
              "      <td>47.7729</td>\n",
              "      <td>-122.393</td>\n",
              "    </tr>\n",
              "    <tr>\n",
              "      <th>9631</th>\n",
              "      <td>1610000</td>\n",
              "      <td>4</td>\n",
              "      <td>2.75</td>\n",
              "      <td>5470</td>\n",
              "      <td>18200</td>\n",
              "      <td>2.0</td>\n",
              "      <td>1</td>\n",
              "      <td>4</td>\n",
              "      <td>3</td>\n",
              "      <td>11</td>\n",
              "      <td>3730</td>\n",
              "      <td>1740</td>\n",
              "      <td>1992</td>\n",
              "      <td>0</td>\n",
              "      <td>47.5316</td>\n",
              "      <td>-122.263</td>\n",
              "    </tr>\n",
              "    <tr>\n",
              "      <th>8005</th>\n",
              "      <td>1640000</td>\n",
              "      <td>3</td>\n",
              "      <td>3.50</td>\n",
              "      <td>4660</td>\n",
              "      <td>21164</td>\n",
              "      <td>2.0</td>\n",
              "      <td>1</td>\n",
              "      <td>4</td>\n",
              "      <td>3</td>\n",
              "      <td>12</td>\n",
              "      <td>4660</td>\n",
              "      <td>0</td>\n",
              "      <td>1975</td>\n",
              "      <td>1990</td>\n",
              "      <td>47.4418</td>\n",
              "      <td>-122.354</td>\n",
              "    </tr>\n",
              "  </tbody>\n",
              "</table>\n",
              "<p>188 rows × 16 columns</p>\n",
              "</div>\n",
              "      <button class=\"colab-df-convert\" onclick=\"convertToInteractive('df-663b279c-878b-43c9-878f-3535b83a42bd')\"\n",
              "              title=\"Convert this dataframe to an interactive table.\"\n",
              "              style=\"display:none;\">\n",
              "        \n",
              "  <svg xmlns=\"http://www.w3.org/2000/svg\" height=\"24px\"viewBox=\"0 0 24 24\"\n",
              "       width=\"24px\">\n",
              "    <path d=\"M0 0h24v24H0V0z\" fill=\"none\"/>\n",
              "    <path d=\"M18.56 5.44l.94 2.06.94-2.06 2.06-.94-2.06-.94-.94-2.06-.94 2.06-2.06.94zm-11 1L8.5 8.5l.94-2.06 2.06-.94-2.06-.94L8.5 2.5l-.94 2.06-2.06.94zm10 10l.94 2.06.94-2.06 2.06-.94-2.06-.94-.94-2.06-.94 2.06-2.06.94z\"/><path d=\"M17.41 7.96l-1.37-1.37c-.4-.4-.92-.59-1.43-.59-.52 0-1.04.2-1.43.59L10.3 9.45l-7.72 7.72c-.78.78-.78 2.05 0 2.83L4 21.41c.39.39.9.59 1.41.59.51 0 1.02-.2 1.41-.59l7.78-7.78 2.81-2.81c.8-.78.8-2.07 0-2.86zM5.41 20L4 18.59l7.72-7.72 1.47 1.35L5.41 20z\"/>\n",
              "  </svg>\n",
              "      </button>\n",
              "      \n",
              "  <style>\n",
              "    .colab-df-container {\n",
              "      display:flex;\n",
              "      flex-wrap:wrap;\n",
              "      gap: 12px;\n",
              "    }\n",
              "\n",
              "    .colab-df-convert {\n",
              "      background-color: #E8F0FE;\n",
              "      border: none;\n",
              "      border-radius: 50%;\n",
              "      cursor: pointer;\n",
              "      display: none;\n",
              "      fill: #1967D2;\n",
              "      height: 32px;\n",
              "      padding: 0 0 0 0;\n",
              "      width: 32px;\n",
              "    }\n",
              "\n",
              "    .colab-df-convert:hover {\n",
              "      background-color: #E2EBFA;\n",
              "      box-shadow: 0px 1px 2px rgba(60, 64, 67, 0.3), 0px 1px 3px 1px rgba(60, 64, 67, 0.15);\n",
              "      fill: #174EA6;\n",
              "    }\n",
              "\n",
              "    [theme=dark] .colab-df-convert {\n",
              "      background-color: #3B4455;\n",
              "      fill: #D2E3FC;\n",
              "    }\n",
              "\n",
              "    [theme=dark] .colab-df-convert:hover {\n",
              "      background-color: #434B5C;\n",
              "      box-shadow: 0px 1px 3px 1px rgba(0, 0, 0, 0.15);\n",
              "      filter: drop-shadow(0px 1px 2px rgba(0, 0, 0, 0.3));\n",
              "      fill: #FFFFFF;\n",
              "    }\n",
              "  </style>\n",
              "\n",
              "      <script>\n",
              "        const buttonEl =\n",
              "          document.querySelector('#df-663b279c-878b-43c9-878f-3535b83a42bd button.colab-df-convert');\n",
              "        buttonEl.style.display =\n",
              "          google.colab.kernel.accessAllowed ? 'block' : 'none';\n",
              "\n",
              "        async function convertToInteractive(key) {\n",
              "          const element = document.querySelector('#df-663b279c-878b-43c9-878f-3535b83a42bd');\n",
              "          const dataTable =\n",
              "            await google.colab.kernel.invokeFunction('convertToInteractive',\n",
              "                                                     [key], {});\n",
              "          if (!dataTable) return;\n",
              "\n",
              "          const docLinkHtml = 'Like what you see? Visit the ' +\n",
              "            '<a target=\"_blank\" href=https://colab.research.google.com/notebooks/data_table.ipynb>data table notebook</a>'\n",
              "            + ' to learn more about interactive tables.';\n",
              "          element.innerHTML = '';\n",
              "          dataTable['output_type'] = 'display_data';\n",
              "          await google.colab.output.renderOutput(dataTable, element);\n",
              "          const docLink = document.createElement('div');\n",
              "          docLink.innerHTML = docLinkHtml;\n",
              "          element.appendChild(docLink);\n",
              "        }\n",
              "      </script>\n",
              "    </div>\n",
              "  </div>\n",
              "  "
            ]
          },
          "metadata": {},
          "execution_count": 87
        }
      ]
    }
  ]
}
