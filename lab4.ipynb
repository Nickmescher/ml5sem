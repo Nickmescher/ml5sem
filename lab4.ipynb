{
  "nbformat": 4,
  "nbformat_minor": 0,
  "metadata": {
    "colab": {
      "provenance": [],
      "toc_visible": true,
      "include_colab_link": true
    },
    "kernelspec": {
      "name": "python3",
      "display_name": "Python 3"
    }
  },
  "cells": [
    {
      "cell_type": "markdown",
      "metadata": {
        "id": "view-in-github",
        "colab_type": "text"
      },
      "source": [
        "<a href=\"https://colab.research.google.com/github/Nickmescher/ml5sem/blob/main/lab4.ipynb\" target=\"_parent\"><img src=\"https://colab.research.google.com/assets/colab-badge.svg\" alt=\"Open In Colab\"/></a>"
      ]
    },
    {
      "cell_type": "markdown",
      "metadata": {
        "id": "hGClrhQA9SAk"
      },
      "source": [
        "# Деревья решений"
      ]
    },
    {
      "cell_type": "markdown",
      "metadata": {
        "id": "veekMy8WRjBi"
      },
      "source": [
        "## Построение дерева"
      ]
    },
    {
      "cell_type": "markdown",
      "metadata": {
        "id": "SYkVwAFiUHXj"
      },
      "source": [
        "Опишем жадный алгоритм построения бинарного дерева решений:\n",
        "1. Начинаем со всей обучающей выборки $X$, которую помещаем в корень $R_1$. \n",
        "2. Задаём функционал качества $Q(X, j, t)$ и критерий остановки. \n",
        "3. Запускаем построение из корня: $SplitNode(1, R_1)$\n",
        "\n",
        "Функция $SplitNode(m, R_m)$\n",
        "1. Если выполнен критерий остановки, то выход.\n",
        "2. Находим наилучший с точки зрения $Q$ предикат: $j, t$: $[x_j<t]$\n",
        "3. Помещаем предикат в вкршину и получаем с его помощью разбиение $X$ на две части: $R_{left} = \\lbrace x|x_j<t \\rbrace$ и $R_{right} = \\lbrace x|x_j \\geqslant t \\rbrace$\n",
        "4. Поместим $R_{left}$ и $R_{right}$ соответсвенно в левое и правое поддерево.\n",
        "5. Рекурсивно повторяем $SplitNode(left, R_{left})$ и $SplitNode(right, R_{right})$.\n",
        "\n",
        "В конце поставим в соответствие каждому листу ответ. Для задачи классификации - это самый частый среди объектов класс или вектор с долями классов (можно интерпретировать как вероятности):\n",
        "$$ c_v = \\arg \\max_{k\\in Y} \\sum_{(x_i,y_i) \\in R_v} [y_i=k]  $$"
      ]
    },
    {
      "cell_type": "markdown",
      "metadata": {
        "id": "9P6FsdBog4Ai"
      },
      "source": [
        "## Функционал качества для деревьев решений\n"
      ]
    },
    {
      "cell_type": "markdown",
      "metadata": {
        "id": "9VAKO0aykGBD"
      },
      "source": [
        "Энтропия Шеннона для системы с N возможными состояниями определяется по формуле:\n",
        "$$H = - \\sum_{i=0}^{N} p_i\\log_2p_i $$"
      ]
    },
    {
      "cell_type": "markdown",
      "metadata": {
        "id": "5582B-1Fn2bw"
      },
      "source": [
        "где $p_i$ – вероятности нахождения системы в $i$-ом состоянии. \n",
        "\n",
        "Это очень важное понятие теории информации, которое позволяет оценить количество информации (степень хаоса в системе). Чем выше энтропия, тем менее упорядочена система и наоборот. С помощью энтропии мы формализуем функционал качества для разделение выборки (для задачи классификации)."
      ]
    },
    {
      "cell_type": "code",
      "metadata": {
        "id": "PbcMUd7bvk05"
      },
      "source": [
        "import numpy as np\n",
        "import pandas as pd\n",
        "\n",
        "import matplotlib.pyplot as plt\n",
        "\n",
        "import random\n",
        "from pprint import pprint"
      ],
      "execution_count": null,
      "outputs": []
    },
    {
      "cell_type": "markdown",
      "metadata": {
        "id": "4AdLxP9CowTm"
      },
      "source": [
        "Код для расчёта энтропии:"
      ]
    },
    {
      "cell_type": "code",
      "metadata": {
        "id": "2mT8Jq8Av2sM"
      },
      "source": [
        "def entropy(y):\n",
        "    \n",
        "    _, counts = np.unique(y, return_counts=True)\n",
        "\n",
        "    probabilities = counts / counts.sum()\n",
        "    entropy = sum(probabilities * -np.log2(probabilities))\n",
        "     \n",
        "    return entropy"
      ],
      "execution_count": null,
      "outputs": []
    },
    {
      "cell_type": "markdown",
      "metadata": {
        "id": "Xk9etb2vo7fK"
      },
      "source": [
        "Здесь $y$ - это массив значений целевой переменной"
      ]
    },
    {
      "cell_type": "markdown",
      "metadata": {
        "id": "07TCw0USzLus"
      },
      "source": [
        "Энтропия – по сути степень хаоса (или неопределенности) в системе. Уменьшение энтропии называют приростом информации (information gain, IG).\n",
        "\n",
        "Обочначим $R_v$ - объекты, которые нужно разделить в помощью предиката в вершине $v$. Запишем формулу для расчёта информационного прироста:\n",
        "$$ Q = IG = H(R_v) - (H(R_{left})+H(R_{right}))$$\n",
        "\n",
        "На каждом шаге нам нужно максимизировать этот функционал качества. Как это делать? Например, так можно перебрать $t$ для выбранного $j$."
      ]
    },
    {
      "cell_type": "markdown",
      "metadata": {
        "id": "trEWHDoXg_p9"
      },
      "source": [
        "Предыдущая версия формулы прироста информации слишком упрощена. В работе необходимо использовать более устойчивую формулу, которая учитывает не только энтропию подмножеств, но и их размер. \n",
        "\n",
        "$$ Q = IG = H(R_v) - \\Big (\\frac{|R_{left}|} {|R_{v}|} H(R_{left})+ \\frac{|R_{right}|} {|R_{v}|} H(R_{right})\\Big)$$\n",
        "\n",
        "где, $|R_{v}|$, $|R_{left}|$ и $|R_{right}|$ - количество элементов в соответствующих множествах."
      ]
    },
    {
      "cell_type": "markdown",
      "metadata": {
        "id": "9xmN6V_N1xBr"
      },
      "source": [
        "\n",
        "### Задание 4.1"
      ]
    },
    {
      "cell_type": "markdown",
      "metadata": {
        "id": "nWFHZScF2CBF"
      },
      "source": [
        "Реализуйте алгоритм построения дерева. Должны быть отдельные функции (методы) для расчёта энтропии (уже есть), для разделения дерева (используйте `pandas`), для подсчёта функционала качества $IG$, для выбора наилучшего разделения (с учетом признакоd и порогов), для проверки критерия остановки.\n",
        "\n",
        "Для набора данных `iris` реализуйте алгоритм и минимум три из разными критерия остановки из перечисленных ниже:\n",
        "* максимальной глубины дерева = 5\n",
        "* минимального числа объектов в листе = 5\n",
        "* максимальное количество листьев в дереве = 5\n",
        "* purity (остановка, если все объекты в листе относятся к одному классу)\n",
        "\n",
        "Реализуйте функцию `predict` (на вход функции подаётся датафрейм с объектами)\n",
        "\n",
        "Оцените точность каждой модели с помощью метрики доля правильных ответов (`from sklearn.metrics import accuracy_score` или реализовать свою)."
      ]
    },
    {
      "cell_type": "code",
      "source": [
        "from sklearn import datasets\n",
        "iris = datasets.load_iris()\n",
        "\n",
        "from sklearn.model_selection import train_test_split\n",
        "X_train, X_test, y_train, y_test = train_test_split(iris.data, iris.target, test_size=0.33, random_state=42)"
      ],
      "metadata": {
        "id": "SIJXbc3e2D6M"
      },
      "execution_count": null,
      "outputs": []
    },
    {
      "cell_type": "code",
      "source": [
        "class Node():\n",
        "    \n",
        "    def __init__(self, feature=0, threshold=0, labels=None, left=None, right=None):\n",
        "        self.feature = feature\n",
        "        self.threshold = threshold\n",
        "        self.labels = labels\n",
        "        self.left = left\n",
        "        self.right = right"
      ],
      "metadata": {
        "id": "6k03H2MQ06XA"
      },
      "execution_count": null,
      "outputs": []
    },
    {
      "cell_type": "code",
      "source": [
        "class DecisionTree():\n",
        "\n",
        "    def __init__(self, stop_parameter, parameter_value):\n",
        "        self.stop_parameter = stop_parameter\n",
        "        self.parameter_value = parameter_value\n",
        "\n",
        "    def information_gain(self, node, left, right):\n",
        "        n_node = node.shape[0]\n",
        "        try:\n",
        "            return entropy(node) - left.shape[0] / n_node * entropy(left) - right.shape[0] / n_node * entropy(right)\n",
        "        except ZeroDivisionError:\n",
        "            return 0\n",
        "    \n",
        "    def best_split(self, X, y):\n",
        "        best_feature = None\n",
        "        best_threshold = None\n",
        "        highest_q_value = 0\n",
        "        for feature in range(X.shape[1]):\n",
        "            thresholds = np.linspace(X[:, feature].min(), X[:, feature].max(), 10)\n",
        "            q_values = np.array([self.information_gain(y, y[X[:, feature] < threshold], y[X[:, feature] >= threshold])\n",
        "                                 for threshold in thresholds])\n",
        "            max_q_value = q_values.max()\n",
        "            if highest_q_value < max_q_value:\n",
        "                best_feature = feature\n",
        "                best_threshold = thresholds[q_values.argmax()]\n",
        "                highest_q_value = max_q_value\n",
        "        return best_feature, best_threshold\n",
        "            \n",
        "    \n",
        "    def split(self, X, y, feature, threshold):\n",
        "        mask = X[:, feature] < threshold\n",
        "        return X[mask, :], y[mask], X[~mask, :], y[~mask]\n",
        "        \n",
        "\n",
        "    def build_tree(self, X, y, parameter_value):\n",
        "        # max_depth\n",
        "        if self.stop_parameter == 'max_depth' and parameter_value:\n",
        "            best_feature, best_threshold = self.best_split(X, y)\n",
        "            if best_feature is not None:\n",
        "                X_left, y_left, X_right, y_right = self.split(X, y, best_feature, best_threshold)\n",
        "                return Node(feature=best_feature, threshold=best_threshold,\n",
        "                            left=self.build_tree(X_left, y_left, parameter_value=parameter_value-1),\n",
        "                            right=self.build_tree(X_right, y_right, parameter_value=parameter_value-1))\n",
        "            else:\n",
        "                return Node(labels=y)\n",
        "        # purity\n",
        "        elif self.stop_parameter == 'purity':\n",
        "            best_feature, best_threshold = self.best_split(X, y)\n",
        "            if best_feature is not None:\n",
        "                X_left, y_left, X_right, y_right = self.split(X, y, best_feature, best_threshold)\n",
        "                return Node(feature=best_feature, threshold=best_threshold,\n",
        "                            left=self.build_tree(X_left, y_left, parameter_value),\n",
        "                            right=self.build_tree(X_right, y_right, parameter_value))\n",
        "            else:\n",
        "                return Node(labels=y)\n",
        "        # min_samples_leaf\n",
        "        elif self.stop_parameter == 'min_samples_leaf' and parameter_value:\n",
        "            best_feature, best_threshold = self.best_split(X, y)\n",
        "            if best_feature:\n",
        "                X_left, y_left, X_right, y_right = self.split(X, y, best_feature, best_threshold)\n",
        "                if X_left.shape[0] >= parameter_value and X_right.shape[0] >= parameter_value:\n",
        "                    return Node(feature=best_feature, threshold=best_threshold,\n",
        "                         left=self.build_tree(X_left, y_left, parameter_value),\n",
        "                         right=self.build_tree(X_right, y_right, parameter_value))\n",
        "                else:\n",
        "                    return Node(labels=y)\n",
        "            else:\n",
        "                return Node(labels=y)\n",
        "        else:\n",
        "            return Node(labels=y)\n",
        "\n",
        "    def fit(self, X, y):\n",
        "        self.root = self.build_tree(X, y, self.parameter_value)\n",
        "        return self\n",
        "    \n",
        "    def predict(self, X):\n",
        "        predictions = []\n",
        "        labels_lens = []\n",
        "        for x in X:\n",
        "            node = self.root\n",
        "            while node.labels is None: # while is not a leaf\n",
        "                if x[node.feature] < node.threshold:\n",
        "                    node = node.left\n",
        "                else:\n",
        "                    node = node.right\n",
        "            predictions.append(np.bincount(node.labels).argmax())\n",
        "        return np.array(predictions)"
      ],
      "metadata": {
        "id": "X1Qh2Jpk07Z-"
      },
      "execution_count": null,
      "outputs": []
    },
    {
      "cell_type": "code",
      "source": [
        "from sklearn.metrics import accuracy_score\n",
        "dt = DecisionTree(stop_parameter='min_samples_leaf', parameter_value=5).fit(X_train, y_train)\n",
        "print('min_samples_leaf = 5; accuracy_score = ', accuracy_score(y_test, dt.predict(X_test)))\n",
        "dt = DecisionTree(stop_parameter='purity', parameter_value=True).fit(X_train, y_train)\n",
        "print('purity; accuracy_score = ', accuracy_score(y_test, dt.predict(X_test)))\n",
        "dt = DecisionTree(stop_parameter='max_depth', parameter_value=5).fit(X_train, y_train)\n",
        "print('max_depth = 5; accuracy_score = ', accuracy_score(y_test, dt.predict(X_test)))"
      ],
      "metadata": {
        "colab": {
          "base_uri": "https://localhost:8080/"
        },
        "id": "idfsRiG60-jt",
        "outputId": "77e53989-295d-45b4-b3bd-10280478bc29"
      },
      "execution_count": null,
      "outputs": [
        {
          "output_type": "stream",
          "name": "stdout",
          "text": [
            "min_samples_leaf = 5; accuracy_score =  0.98\n",
            "purity; accuracy_score =  0.98\n",
            "max_depth = 5; accuracy_score =  0.96\n"
          ]
        }
      ]
    },
    {
      "cell_type": "code",
      "source": [
        "from sklearn.tree import DecisionTreeClassifier\n",
        "skReal = DecisionTreeClassifier(min_samples_leaf = 5, max_depth = 5, max_leaf_nodes = 5, criterion='entropy').fit(X_train, y_train)\n",
        "print('Sklearn ',accuracy_score(y_test, skReal.predict(X_test)))"
      ],
      "metadata": {
        "colab": {
          "base_uri": "https://localhost:8080/"
        },
        "id": "fo1inol3JwAo",
        "outputId": "745829d4-3d13-4e26-cbbe-cd6dcb2e4088"
      },
      "execution_count": null,
      "outputs": [
        {
          "output_type": "stream",
          "name": "stdout",
          "text": [
            "Sklearn  1.0\n"
          ]
        }
      ]
    },
    {
      "cell_type": "code",
      "source": [
        "y_test1 = y_test\n",
        "y_test1_predict = dt.predict(X_test)"
      ],
      "metadata": {
        "id": "6bJPI-jjZiLe"
      },
      "execution_count": null,
      "outputs": []
    },
    {
      "cell_type": "code",
      "source": [
        "#Sklearn реализация показывает результат примерно на 0.2 лучше"
      ],
      "metadata": {
        "id": "H0rkm0APLZj4"
      },
      "execution_count": null,
      "outputs": []
    },
    {
      "cell_type": "code",
      "source": [
        "# Из данных выше можем сделать вывод, что большая точность достигается при использовании\n",
        "# критериев остановки: минимальное количество листьев в дереве и purity, а наименьшая из представленных\n",
        "# при использовании критерия максимальная глубина дерева"
      ],
      "metadata": {
        "id": "1RTTsknalXMG"
      },
      "execution_count": null,
      "outputs": []
    },
    {
      "cell_type": "markdown",
      "metadata": {
        "id": "BkyCjLcy_CTM"
      },
      "source": [
        "##  Случайный лес"
      ]
    },
    {
      "cell_type": "markdown",
      "metadata": {
        "id": "7fKZe1FyRgCa"
      },
      "source": [
        "Опишем алгоритм случайный лес (*random forest*) и попутно разберём основные идеи:\n",
        "\n",
        "1. Зададим $N$ - число деревьев в лесу.\n",
        "2. Для каждого $n$ из $N$ сгенерируем свою выборку $X_n$. Пусть $m$ - это количество объектов в $X$. При генерации каждой $X_n$ мы будем брать объекты $m$ раз с возвращением. То есть один и тот же объект может попасть в выборку несколько раз, а какие-то объекты не попадут. (Этот способ назвается бутстрап).\n",
        "3. По каждой $X_n$ построим решающее дерево $b_n$. Обычно стараются делать глубокие деревья. В качестве критериев остановки можно использовать `max_depth` или `min_samples_leaf` (например, пока в каждом листе не окажется по одному объекту). При каждом разбиении сначала выбирается $k$ (эвристика $k = \\sqrt d$, где $d$ - это число признаков объектов из выборки $X$) случайных признаков из исходных, и оптимальное разделение выборки ищется только среди них. Обратите внимание, что мы не выбрасываем оставшиеся признаки!\n",
        "4. Итоговый алгоритм будет представлять собой результат голосования (для классификации) и среднее арифметическое (для регрессии). Модификация алгоритма предполагает учёт весов каждого отдельного слабого алгоритма в ансамбле, но в этом особо нет смысла.\n"
      ]
    },
    {
      "cell_type": "markdown",
      "metadata": {
        "id": "YJBQ8lc0WyrN"
      },
      "source": [
        "### Задание 4.2"
      ]
    },
    {
      "cell_type": "markdown",
      "metadata": {
        "id": "y594Jn04ZTCm"
      },
      "source": [
        "В качестве набора данных используйте: https://www.kaggle.com/mathchi/churn-for-bank-customers\n",
        "\n",
        "Там есть описание и примеры работы с этими данными. Если кратко, речь идёт про задачу прогнозирования оттока клиентов. Есть данные о 10 тысячах клиентов банка, часть из которых больше не являются клиентами."
      ]
    },
    {
      "cell_type": "markdown",
      "metadata": {
        "id": "be_mLbdVW2oG"
      },
      "source": [
        "Используя либо свою реализацию, либо  `DecisionTreeClassifier` с разными настройками из `sklearn.tree` реализйте алгоритм \"случайный лес\". \n",
        "\n",
        "Найдите наилучшие гиперпараметры этого алгоритма: количество деревьев, критерий остановки, функционал качества, минимальное количество объектов в листьях и другие.\n",
        "\n",
        "Нельзя использовать готовую реализацию случайного леса из `sklearn`.\n",
        "\n",
        "В подобных задачах очень важна интерпретируемость алгоритма. Попытайтесь оценить информативность признаков, т.е. ответить а вопрос, значения каких признаков являются самыми важными индикаторами того, что банк потеряет клиента."
      ]
    },
    {
      "cell_type": "code",
      "source": [
        "from sklearn.model_selection import GridSearchCV"
      ],
      "metadata": {
        "id": "22Jrn_Ye4Vu8"
      },
      "execution_count": null,
      "outputs": []
    },
    {
      "cell_type": "code",
      "source": [
        "from google.colab import drive\n",
        "drive.mount('/content/drive')"
      ],
      "metadata": {
        "colab": {
          "base_uri": "https://localhost:8080/"
        },
        "id": "UrhRLqlP3aNu",
        "outputId": "d2d0dadb-06f5-47da-baaa-1273ccc581f2"
      },
      "execution_count": null,
      "outputs": [
        {
          "output_type": "stream",
          "name": "stdout",
          "text": [
            "Mounted at /content/drive\n"
          ]
        }
      ]
    },
    {
      "cell_type": "code",
      "source": [
        "df = pd.read_csv('/content/drive/MyDrive/Colab Notebooks/churn.csv', index_col=0)\n",
        "df"
      ],
      "metadata": {
        "colab": {
          "base_uri": "https://localhost:8080/",
          "height": 519
        },
        "id": "Ne-3Usfk3dmd",
        "outputId": "1248d57f-8221-465d-ca09-738f8705053c"
      },
      "execution_count": null,
      "outputs": [
        {
          "output_type": "execute_result",
          "data": {
            "text/plain": [
              "           CustomerId    Surname  CreditScore Geography  Gender  Age  Tenure  \\\n",
              "RowNumber                                                                      \n",
              "1            15634602   Hargrave          619    France  Female   42       2   \n",
              "2            15647311       Hill          608     Spain  Female   41       1   \n",
              "3            15619304       Onio          502    France  Female   42       8   \n",
              "4            15701354       Boni          699    France  Female   39       1   \n",
              "5            15737888   Mitchell          850     Spain  Female   43       2   \n",
              "...               ...        ...          ...       ...     ...  ...     ...   \n",
              "9996         15606229   Obijiaku          771    France    Male   39       5   \n",
              "9997         15569892  Johnstone          516    France    Male   35      10   \n",
              "9998         15584532        Liu          709    France  Female   36       7   \n",
              "9999         15682355  Sabbatini          772   Germany    Male   42       3   \n",
              "10000        15628319     Walker          792    France  Female   28       4   \n",
              "\n",
              "             Balance  NumOfProducts  HasCrCard  IsActiveMember  \\\n",
              "RowNumber                                                        \n",
              "1               0.00              1          1               1   \n",
              "2           83807.86              1          0               1   \n",
              "3          159660.80              3          1               0   \n",
              "4               0.00              2          0               0   \n",
              "5          125510.82              1          1               1   \n",
              "...              ...            ...        ...             ...   \n",
              "9996            0.00              2          1               0   \n",
              "9997        57369.61              1          1               1   \n",
              "9998            0.00              1          0               1   \n",
              "9999        75075.31              2          1               0   \n",
              "10000      130142.79              1          1               0   \n",
              "\n",
              "           EstimatedSalary  Exited  \n",
              "RowNumber                           \n",
              "1                101348.88       1  \n",
              "2                112542.58       0  \n",
              "3                113931.57       1  \n",
              "4                 93826.63       0  \n",
              "5                 79084.10       0  \n",
              "...                    ...     ...  \n",
              "9996              96270.64       0  \n",
              "9997             101699.77       0  \n",
              "9998              42085.58       1  \n",
              "9999              92888.52       1  \n",
              "10000             38190.78       0  \n",
              "\n",
              "[10000 rows x 13 columns]"
            ],
            "text/html": [
              "\n",
              "  <div id=\"df-11b52b41-c81f-44a2-8814-7549124deb6d\">\n",
              "    <div class=\"colab-df-container\">\n",
              "      <div>\n",
              "<style scoped>\n",
              "    .dataframe tbody tr th:only-of-type {\n",
              "        vertical-align: middle;\n",
              "    }\n",
              "\n",
              "    .dataframe tbody tr th {\n",
              "        vertical-align: top;\n",
              "    }\n",
              "\n",
              "    .dataframe thead th {\n",
              "        text-align: right;\n",
              "    }\n",
              "</style>\n",
              "<table border=\"1\" class=\"dataframe\">\n",
              "  <thead>\n",
              "    <tr style=\"text-align: right;\">\n",
              "      <th></th>\n",
              "      <th>CustomerId</th>\n",
              "      <th>Surname</th>\n",
              "      <th>CreditScore</th>\n",
              "      <th>Geography</th>\n",
              "      <th>Gender</th>\n",
              "      <th>Age</th>\n",
              "      <th>Tenure</th>\n",
              "      <th>Balance</th>\n",
              "      <th>NumOfProducts</th>\n",
              "      <th>HasCrCard</th>\n",
              "      <th>IsActiveMember</th>\n",
              "      <th>EstimatedSalary</th>\n",
              "      <th>Exited</th>\n",
              "    </tr>\n",
              "    <tr>\n",
              "      <th>RowNumber</th>\n",
              "      <th></th>\n",
              "      <th></th>\n",
              "      <th></th>\n",
              "      <th></th>\n",
              "      <th></th>\n",
              "      <th></th>\n",
              "      <th></th>\n",
              "      <th></th>\n",
              "      <th></th>\n",
              "      <th></th>\n",
              "      <th></th>\n",
              "      <th></th>\n",
              "      <th></th>\n",
              "    </tr>\n",
              "  </thead>\n",
              "  <tbody>\n",
              "    <tr>\n",
              "      <th>1</th>\n",
              "      <td>15634602</td>\n",
              "      <td>Hargrave</td>\n",
              "      <td>619</td>\n",
              "      <td>France</td>\n",
              "      <td>Female</td>\n",
              "      <td>42</td>\n",
              "      <td>2</td>\n",
              "      <td>0.00</td>\n",
              "      <td>1</td>\n",
              "      <td>1</td>\n",
              "      <td>1</td>\n",
              "      <td>101348.88</td>\n",
              "      <td>1</td>\n",
              "    </tr>\n",
              "    <tr>\n",
              "      <th>2</th>\n",
              "      <td>15647311</td>\n",
              "      <td>Hill</td>\n",
              "      <td>608</td>\n",
              "      <td>Spain</td>\n",
              "      <td>Female</td>\n",
              "      <td>41</td>\n",
              "      <td>1</td>\n",
              "      <td>83807.86</td>\n",
              "      <td>1</td>\n",
              "      <td>0</td>\n",
              "      <td>1</td>\n",
              "      <td>112542.58</td>\n",
              "      <td>0</td>\n",
              "    </tr>\n",
              "    <tr>\n",
              "      <th>3</th>\n",
              "      <td>15619304</td>\n",
              "      <td>Onio</td>\n",
              "      <td>502</td>\n",
              "      <td>France</td>\n",
              "      <td>Female</td>\n",
              "      <td>42</td>\n",
              "      <td>8</td>\n",
              "      <td>159660.80</td>\n",
              "      <td>3</td>\n",
              "      <td>1</td>\n",
              "      <td>0</td>\n",
              "      <td>113931.57</td>\n",
              "      <td>1</td>\n",
              "    </tr>\n",
              "    <tr>\n",
              "      <th>4</th>\n",
              "      <td>15701354</td>\n",
              "      <td>Boni</td>\n",
              "      <td>699</td>\n",
              "      <td>France</td>\n",
              "      <td>Female</td>\n",
              "      <td>39</td>\n",
              "      <td>1</td>\n",
              "      <td>0.00</td>\n",
              "      <td>2</td>\n",
              "      <td>0</td>\n",
              "      <td>0</td>\n",
              "      <td>93826.63</td>\n",
              "      <td>0</td>\n",
              "    </tr>\n",
              "    <tr>\n",
              "      <th>5</th>\n",
              "      <td>15737888</td>\n",
              "      <td>Mitchell</td>\n",
              "      <td>850</td>\n",
              "      <td>Spain</td>\n",
              "      <td>Female</td>\n",
              "      <td>43</td>\n",
              "      <td>2</td>\n",
              "      <td>125510.82</td>\n",
              "      <td>1</td>\n",
              "      <td>1</td>\n",
              "      <td>1</td>\n",
              "      <td>79084.10</td>\n",
              "      <td>0</td>\n",
              "    </tr>\n",
              "    <tr>\n",
              "      <th>...</th>\n",
              "      <td>...</td>\n",
              "      <td>...</td>\n",
              "      <td>...</td>\n",
              "      <td>...</td>\n",
              "      <td>...</td>\n",
              "      <td>...</td>\n",
              "      <td>...</td>\n",
              "      <td>...</td>\n",
              "      <td>...</td>\n",
              "      <td>...</td>\n",
              "      <td>...</td>\n",
              "      <td>...</td>\n",
              "      <td>...</td>\n",
              "    </tr>\n",
              "    <tr>\n",
              "      <th>9996</th>\n",
              "      <td>15606229</td>\n",
              "      <td>Obijiaku</td>\n",
              "      <td>771</td>\n",
              "      <td>France</td>\n",
              "      <td>Male</td>\n",
              "      <td>39</td>\n",
              "      <td>5</td>\n",
              "      <td>0.00</td>\n",
              "      <td>2</td>\n",
              "      <td>1</td>\n",
              "      <td>0</td>\n",
              "      <td>96270.64</td>\n",
              "      <td>0</td>\n",
              "    </tr>\n",
              "    <tr>\n",
              "      <th>9997</th>\n",
              "      <td>15569892</td>\n",
              "      <td>Johnstone</td>\n",
              "      <td>516</td>\n",
              "      <td>France</td>\n",
              "      <td>Male</td>\n",
              "      <td>35</td>\n",
              "      <td>10</td>\n",
              "      <td>57369.61</td>\n",
              "      <td>1</td>\n",
              "      <td>1</td>\n",
              "      <td>1</td>\n",
              "      <td>101699.77</td>\n",
              "      <td>0</td>\n",
              "    </tr>\n",
              "    <tr>\n",
              "      <th>9998</th>\n",
              "      <td>15584532</td>\n",
              "      <td>Liu</td>\n",
              "      <td>709</td>\n",
              "      <td>France</td>\n",
              "      <td>Female</td>\n",
              "      <td>36</td>\n",
              "      <td>7</td>\n",
              "      <td>0.00</td>\n",
              "      <td>1</td>\n",
              "      <td>0</td>\n",
              "      <td>1</td>\n",
              "      <td>42085.58</td>\n",
              "      <td>1</td>\n",
              "    </tr>\n",
              "    <tr>\n",
              "      <th>9999</th>\n",
              "      <td>15682355</td>\n",
              "      <td>Sabbatini</td>\n",
              "      <td>772</td>\n",
              "      <td>Germany</td>\n",
              "      <td>Male</td>\n",
              "      <td>42</td>\n",
              "      <td>3</td>\n",
              "      <td>75075.31</td>\n",
              "      <td>2</td>\n",
              "      <td>1</td>\n",
              "      <td>0</td>\n",
              "      <td>92888.52</td>\n",
              "      <td>1</td>\n",
              "    </tr>\n",
              "    <tr>\n",
              "      <th>10000</th>\n",
              "      <td>15628319</td>\n",
              "      <td>Walker</td>\n",
              "      <td>792</td>\n",
              "      <td>France</td>\n",
              "      <td>Female</td>\n",
              "      <td>28</td>\n",
              "      <td>4</td>\n",
              "      <td>130142.79</td>\n",
              "      <td>1</td>\n",
              "      <td>1</td>\n",
              "      <td>0</td>\n",
              "      <td>38190.78</td>\n",
              "      <td>0</td>\n",
              "    </tr>\n",
              "  </tbody>\n",
              "</table>\n",
              "<p>10000 rows × 13 columns</p>\n",
              "</div>\n",
              "      <button class=\"colab-df-convert\" onclick=\"convertToInteractive('df-11b52b41-c81f-44a2-8814-7549124deb6d')\"\n",
              "              title=\"Convert this dataframe to an interactive table.\"\n",
              "              style=\"display:none;\">\n",
              "        \n",
              "  <svg xmlns=\"http://www.w3.org/2000/svg\" height=\"24px\"viewBox=\"0 0 24 24\"\n",
              "       width=\"24px\">\n",
              "    <path d=\"M0 0h24v24H0V0z\" fill=\"none\"/>\n",
              "    <path d=\"M18.56 5.44l.94 2.06.94-2.06 2.06-.94-2.06-.94-.94-2.06-.94 2.06-2.06.94zm-11 1L8.5 8.5l.94-2.06 2.06-.94-2.06-.94L8.5 2.5l-.94 2.06-2.06.94zm10 10l.94 2.06.94-2.06 2.06-.94-2.06-.94-.94-2.06-.94 2.06-2.06.94z\"/><path d=\"M17.41 7.96l-1.37-1.37c-.4-.4-.92-.59-1.43-.59-.52 0-1.04.2-1.43.59L10.3 9.45l-7.72 7.72c-.78.78-.78 2.05 0 2.83L4 21.41c.39.39.9.59 1.41.59.51 0 1.02-.2 1.41-.59l7.78-7.78 2.81-2.81c.8-.78.8-2.07 0-2.86zM5.41 20L4 18.59l7.72-7.72 1.47 1.35L5.41 20z\"/>\n",
              "  </svg>\n",
              "      </button>\n",
              "      \n",
              "  <style>\n",
              "    .colab-df-container {\n",
              "      display:flex;\n",
              "      flex-wrap:wrap;\n",
              "      gap: 12px;\n",
              "    }\n",
              "\n",
              "    .colab-df-convert {\n",
              "      background-color: #E8F0FE;\n",
              "      border: none;\n",
              "      border-radius: 50%;\n",
              "      cursor: pointer;\n",
              "      display: none;\n",
              "      fill: #1967D2;\n",
              "      height: 32px;\n",
              "      padding: 0 0 0 0;\n",
              "      width: 32px;\n",
              "    }\n",
              "\n",
              "    .colab-df-convert:hover {\n",
              "      background-color: #E2EBFA;\n",
              "      box-shadow: 0px 1px 2px rgba(60, 64, 67, 0.3), 0px 1px 3px 1px rgba(60, 64, 67, 0.15);\n",
              "      fill: #174EA6;\n",
              "    }\n",
              "\n",
              "    [theme=dark] .colab-df-convert {\n",
              "      background-color: #3B4455;\n",
              "      fill: #D2E3FC;\n",
              "    }\n",
              "\n",
              "    [theme=dark] .colab-df-convert:hover {\n",
              "      background-color: #434B5C;\n",
              "      box-shadow: 0px 1px 3px 1px rgba(0, 0, 0, 0.15);\n",
              "      filter: drop-shadow(0px 1px 2px rgba(0, 0, 0, 0.3));\n",
              "      fill: #FFFFFF;\n",
              "    }\n",
              "  </style>\n",
              "\n",
              "      <script>\n",
              "        const buttonEl =\n",
              "          document.querySelector('#df-11b52b41-c81f-44a2-8814-7549124deb6d button.colab-df-convert');\n",
              "        buttonEl.style.display =\n",
              "          google.colab.kernel.accessAllowed ? 'block' : 'none';\n",
              "\n",
              "        async function convertToInteractive(key) {\n",
              "          const element = document.querySelector('#df-11b52b41-c81f-44a2-8814-7549124deb6d');\n",
              "          const dataTable =\n",
              "            await google.colab.kernel.invokeFunction('convertToInteractive',\n",
              "                                                     [key], {});\n",
              "          if (!dataTable) return;\n",
              "\n",
              "          const docLinkHtml = 'Like what you see? Visit the ' +\n",
              "            '<a target=\"_blank\" href=https://colab.research.google.com/notebooks/data_table.ipynb>data table notebook</a>'\n",
              "            + ' to learn more about interactive tables.';\n",
              "          element.innerHTML = '';\n",
              "          dataTable['output_type'] = 'display_data';\n",
              "          await google.colab.output.renderOutput(dataTable, element);\n",
              "          const docLink = document.createElement('div');\n",
              "          docLink.innerHTML = docLinkHtml;\n",
              "          element.appendChild(docLink);\n",
              "        }\n",
              "      </script>\n",
              "    </div>\n",
              "  </div>\n",
              "  "
            ]
          },
          "metadata": {},
          "execution_count": 97
        }
      ]
    },
    {
      "cell_type": "code",
      "source": [
        "# проверка на отстутсвующие значения\n",
        "df.isnull().values.any()"
      ],
      "metadata": {
        "colab": {
          "base_uri": "https://localhost:8080/"
        },
        "id": "8lA-suYv3x5T",
        "outputId": "1c0ad91c-5ca3-4ab5-c5eb-0f7e1dcc1188"
      },
      "execution_count": null,
      "outputs": [
        {
          "output_type": "execute_result",
          "data": {
            "text/plain": [
              "False"
            ]
          },
          "metadata": {},
          "execution_count": 13
        }
      ]
    },
    {
      "cell_type": "code",
      "source": [
        "# проверка на дубликаты\n",
        "df.duplicated().any()"
      ],
      "metadata": {
        "colab": {
          "base_uri": "https://localhost:8080/"
        },
        "id": "Lm1U-BO23y13",
        "outputId": "55e93267-832f-4ecb-8965-afff5d2cf846"
      },
      "execution_count": null,
      "outputs": [
        {
          "output_type": "execute_result",
          "data": {
            "text/plain": [
              "False"
            ]
          },
          "metadata": {},
          "execution_count": 14
        }
      ]
    },
    {
      "cell_type": "code",
      "source": [
        "df.drop(['CustomerId', 'Surname'], axis=1, inplace=True)"
      ],
      "metadata": {
        "id": "WpIUJSFx4AMc"
      },
      "execution_count": null,
      "outputs": []
    },
    {
      "cell_type": "code",
      "source": [
        "from sklearn.preprocessing import LabelEncoder\n",
        "df[['Geography', 'Gender']] = df[['Geography', 'Gender']].apply(LabelEncoder().fit_transform)\n",
        "df.head()"
      ],
      "metadata": {
        "colab": {
          "base_uri": "https://localhost:8080/",
          "height": 282
        },
        "id": "8nrIvmdG4A8f",
        "outputId": "79b85760-cee0-4a4d-82ec-da411686263e"
      },
      "execution_count": null,
      "outputs": [
        {
          "output_type": "execute_result",
          "data": {
            "text/plain": [
              "           CreditScore  Geography  Gender  Age  Tenure    Balance  \\\n",
              "RowNumber                                                           \n",
              "1                  619          0       0   42       2       0.00   \n",
              "2                  608          2       0   41       1   83807.86   \n",
              "3                  502          0       0   42       8  159660.80   \n",
              "4                  699          0       0   39       1       0.00   \n",
              "5                  850          2       0   43       2  125510.82   \n",
              "\n",
              "           NumOfProducts  HasCrCard  IsActiveMember  EstimatedSalary  Exited  \n",
              "RowNumber                                                                     \n",
              "1                      1          1               1        101348.88       1  \n",
              "2                      1          0               1        112542.58       0  \n",
              "3                      3          1               0        113931.57       1  \n",
              "4                      2          0               0         93826.63       0  \n",
              "5                      1          1               1         79084.10       0  "
            ],
            "text/html": [
              "\n",
              "  <div id=\"df-68f0fe76-2fa9-4fbd-9aa5-b4681ee315ab\">\n",
              "    <div class=\"colab-df-container\">\n",
              "      <div>\n",
              "<style scoped>\n",
              "    .dataframe tbody tr th:only-of-type {\n",
              "        vertical-align: middle;\n",
              "    }\n",
              "\n",
              "    .dataframe tbody tr th {\n",
              "        vertical-align: top;\n",
              "    }\n",
              "\n",
              "    .dataframe thead th {\n",
              "        text-align: right;\n",
              "    }\n",
              "</style>\n",
              "<table border=\"1\" class=\"dataframe\">\n",
              "  <thead>\n",
              "    <tr style=\"text-align: right;\">\n",
              "      <th></th>\n",
              "      <th>CreditScore</th>\n",
              "      <th>Geography</th>\n",
              "      <th>Gender</th>\n",
              "      <th>Age</th>\n",
              "      <th>Tenure</th>\n",
              "      <th>Balance</th>\n",
              "      <th>NumOfProducts</th>\n",
              "      <th>HasCrCard</th>\n",
              "      <th>IsActiveMember</th>\n",
              "      <th>EstimatedSalary</th>\n",
              "      <th>Exited</th>\n",
              "    </tr>\n",
              "    <tr>\n",
              "      <th>RowNumber</th>\n",
              "      <th></th>\n",
              "      <th></th>\n",
              "      <th></th>\n",
              "      <th></th>\n",
              "      <th></th>\n",
              "      <th></th>\n",
              "      <th></th>\n",
              "      <th></th>\n",
              "      <th></th>\n",
              "      <th></th>\n",
              "      <th></th>\n",
              "    </tr>\n",
              "  </thead>\n",
              "  <tbody>\n",
              "    <tr>\n",
              "      <th>1</th>\n",
              "      <td>619</td>\n",
              "      <td>0</td>\n",
              "      <td>0</td>\n",
              "      <td>42</td>\n",
              "      <td>2</td>\n",
              "      <td>0.00</td>\n",
              "      <td>1</td>\n",
              "      <td>1</td>\n",
              "      <td>1</td>\n",
              "      <td>101348.88</td>\n",
              "      <td>1</td>\n",
              "    </tr>\n",
              "    <tr>\n",
              "      <th>2</th>\n",
              "      <td>608</td>\n",
              "      <td>2</td>\n",
              "      <td>0</td>\n",
              "      <td>41</td>\n",
              "      <td>1</td>\n",
              "      <td>83807.86</td>\n",
              "      <td>1</td>\n",
              "      <td>0</td>\n",
              "      <td>1</td>\n",
              "      <td>112542.58</td>\n",
              "      <td>0</td>\n",
              "    </tr>\n",
              "    <tr>\n",
              "      <th>3</th>\n",
              "      <td>502</td>\n",
              "      <td>0</td>\n",
              "      <td>0</td>\n",
              "      <td>42</td>\n",
              "      <td>8</td>\n",
              "      <td>159660.80</td>\n",
              "      <td>3</td>\n",
              "      <td>1</td>\n",
              "      <td>0</td>\n",
              "      <td>113931.57</td>\n",
              "      <td>1</td>\n",
              "    </tr>\n",
              "    <tr>\n",
              "      <th>4</th>\n",
              "      <td>699</td>\n",
              "      <td>0</td>\n",
              "      <td>0</td>\n",
              "      <td>39</td>\n",
              "      <td>1</td>\n",
              "      <td>0.00</td>\n",
              "      <td>2</td>\n",
              "      <td>0</td>\n",
              "      <td>0</td>\n",
              "      <td>93826.63</td>\n",
              "      <td>0</td>\n",
              "    </tr>\n",
              "    <tr>\n",
              "      <th>5</th>\n",
              "      <td>850</td>\n",
              "      <td>2</td>\n",
              "      <td>0</td>\n",
              "      <td>43</td>\n",
              "      <td>2</td>\n",
              "      <td>125510.82</td>\n",
              "      <td>1</td>\n",
              "      <td>1</td>\n",
              "      <td>1</td>\n",
              "      <td>79084.10</td>\n",
              "      <td>0</td>\n",
              "    </tr>\n",
              "  </tbody>\n",
              "</table>\n",
              "</div>\n",
              "      <button class=\"colab-df-convert\" onclick=\"convertToInteractive('df-68f0fe76-2fa9-4fbd-9aa5-b4681ee315ab')\"\n",
              "              title=\"Convert this dataframe to an interactive table.\"\n",
              "              style=\"display:none;\">\n",
              "        \n",
              "  <svg xmlns=\"http://www.w3.org/2000/svg\" height=\"24px\"viewBox=\"0 0 24 24\"\n",
              "       width=\"24px\">\n",
              "    <path d=\"M0 0h24v24H0V0z\" fill=\"none\"/>\n",
              "    <path d=\"M18.56 5.44l.94 2.06.94-2.06 2.06-.94-2.06-.94-.94-2.06-.94 2.06-2.06.94zm-11 1L8.5 8.5l.94-2.06 2.06-.94-2.06-.94L8.5 2.5l-.94 2.06-2.06.94zm10 10l.94 2.06.94-2.06 2.06-.94-2.06-.94-.94-2.06-.94 2.06-2.06.94z\"/><path d=\"M17.41 7.96l-1.37-1.37c-.4-.4-.92-.59-1.43-.59-.52 0-1.04.2-1.43.59L10.3 9.45l-7.72 7.72c-.78.78-.78 2.05 0 2.83L4 21.41c.39.39.9.59 1.41.59.51 0 1.02-.2 1.41-.59l7.78-7.78 2.81-2.81c.8-.78.8-2.07 0-2.86zM5.41 20L4 18.59l7.72-7.72 1.47 1.35L5.41 20z\"/>\n",
              "  </svg>\n",
              "      </button>\n",
              "      \n",
              "  <style>\n",
              "    .colab-df-container {\n",
              "      display:flex;\n",
              "      flex-wrap:wrap;\n",
              "      gap: 12px;\n",
              "    }\n",
              "\n",
              "    .colab-df-convert {\n",
              "      background-color: #E8F0FE;\n",
              "      border: none;\n",
              "      border-radius: 50%;\n",
              "      cursor: pointer;\n",
              "      display: none;\n",
              "      fill: #1967D2;\n",
              "      height: 32px;\n",
              "      padding: 0 0 0 0;\n",
              "      width: 32px;\n",
              "    }\n",
              "\n",
              "    .colab-df-convert:hover {\n",
              "      background-color: #E2EBFA;\n",
              "      box-shadow: 0px 1px 2px rgba(60, 64, 67, 0.3), 0px 1px 3px 1px rgba(60, 64, 67, 0.15);\n",
              "      fill: #174EA6;\n",
              "    }\n",
              "\n",
              "    [theme=dark] .colab-df-convert {\n",
              "      background-color: #3B4455;\n",
              "      fill: #D2E3FC;\n",
              "    }\n",
              "\n",
              "    [theme=dark] .colab-df-convert:hover {\n",
              "      background-color: #434B5C;\n",
              "      box-shadow: 0px 1px 3px 1px rgba(0, 0, 0, 0.15);\n",
              "      filter: drop-shadow(0px 1px 2px rgba(0, 0, 0, 0.3));\n",
              "      fill: #FFFFFF;\n",
              "    }\n",
              "  </style>\n",
              "\n",
              "      <script>\n",
              "        const buttonEl =\n",
              "          document.querySelector('#df-68f0fe76-2fa9-4fbd-9aa5-b4681ee315ab button.colab-df-convert');\n",
              "        buttonEl.style.display =\n",
              "          google.colab.kernel.accessAllowed ? 'block' : 'none';\n",
              "\n",
              "        async function convertToInteractive(key) {\n",
              "          const element = document.querySelector('#df-68f0fe76-2fa9-4fbd-9aa5-b4681ee315ab');\n",
              "          const dataTable =\n",
              "            await google.colab.kernel.invokeFunction('convertToInteractive',\n",
              "                                                     [key], {});\n",
              "          if (!dataTable) return;\n",
              "\n",
              "          const docLinkHtml = 'Like what you see? Visit the ' +\n",
              "            '<a target=\"_blank\" href=https://colab.research.google.com/notebooks/data_table.ipynb>data table notebook</a>'\n",
              "            + ' to learn more about interactive tables.';\n",
              "          element.innerHTML = '';\n",
              "          dataTable['output_type'] = 'display_data';\n",
              "          await google.colab.output.renderOutput(dataTable, element);\n",
              "          const docLink = document.createElement('div');\n",
              "          docLink.innerHTML = docLinkHtml;\n",
              "          element.appendChild(docLink);\n",
              "        }\n",
              "      </script>\n",
              "    </div>\n",
              "  </div>\n",
              "  "
            ]
          },
          "metadata": {},
          "execution_count": 99
        }
      ]
    },
    {
      "cell_type": "code",
      "source": [
        "X_train, X_test, y_train, y_test = train_test_split(df.drop(['Exited'], axis=1),\n",
        "                                                    df['Exited'],\n",
        "                                                    test_size=0.33,\n",
        "                                                    random_state=42)"
      ],
      "metadata": {
        "id": "hy74o7GF4DkM"
      },
      "execution_count": null,
      "outputs": []
    },
    {
      "cell_type": "code",
      "source": [
        "from sklearn.base import BaseEstimator\n",
        "class RandomForest(BaseEstimator):\n",
        "    def __init__(self, n_estimators=5, max_depth=5, criterion='entropy', min_samples_leaf=5, random_state=17):\n",
        "        self.n_estimators = n_estimators\n",
        "        self.max_depth = max_depth\n",
        "        self.random_state = random_state\n",
        "        self.criterion = criterion\n",
        "        self.min_samples_leaf = min_samples_leaf\n",
        "        self.trees = []\n",
        "        self.features_ids = []\n",
        "        \n",
        "    def fit(self, X, y):\n",
        "        n_features = X.shape[1] // 2\n",
        "        for n_estimator in range(self.n_estimators):\n",
        "            np.random.seed(self.random_state + n_estimator)\n",
        "            dt = DecisionTreeClassifier(max_depth=self.max_depth,\n",
        "                                        max_features=n_features,\n",
        "                                        random_state=self.random_state,\n",
        "                                        min_samples_leaf=self.min_samples_leaf,\n",
        "                                        criterion=self.criterion)\n",
        "            rows_ids = np.random.choice(range(X.shape[0]), X.shape[0])\n",
        "            columns_ids = np.random.choice(range(X.shape[1]), n_features, replace=False)\n",
        "            X = pd.DataFrame(X)\n",
        "            y = pd.DataFrame(y)\n",
        "            dt.fit(X.iloc[rows_ids, columns_ids], y.iloc[rows_ids])\n",
        "            self.trees.append(dt)\n",
        "            self.features_ids.append(columns_ids)\n",
        "        return self\n",
        "    \n",
        "    def predict(self, X):\n",
        "        X = pd.DataFrame(X)\n",
        "        predictions = []\n",
        "        for x_id in range(X.shape[0]):\n",
        "            single_predictions = [self.trees[n_tree].predict([X.iloc[x_id, self.features_ids[n_tree]]])[0]\n",
        "                                  for n_tree in range(len(self.trees))]\n",
        "            predictions.append(np.bincount(single_predictions).argmax())\n",
        "        return predictions"
      ],
      "metadata": {
        "id": "oKccebDf4F4c"
      },
      "execution_count": null,
      "outputs": []
    },
    {
      "cell_type": "code",
      "source": [
        "from sklearn.preprocessing import StandardScaler\n",
        "scaler = StandardScaler()\n",
        "\n",
        "X_train = scaler.fit_transform(X_train)\n",
        "X_test = scaler.transform(X_test)"
      ],
      "metadata": {
        "id": "nEeASffj4cDs"
      },
      "execution_count": null,
      "outputs": []
    },
    {
      "cell_type": "code",
      "source": [
        "rf = RandomForest(5, 5, 'entropy', 5).fit(X_train, y_train)\n",
        "print('Random parameters accuracy_score = ', accuracy_score(y_test, rf.predict(X_test)))"
      ],
      "metadata": {
        "colab": {
          "base_uri": "https://localhost:8080/"
        },
        "id": "8V7sGzst4cvD",
        "outputId": "8834ac22-f83b-43aa-ca9c-1477d2dce7ee"
      },
      "execution_count": null,
      "outputs": [
        {
          "output_type": "stream",
          "name": "stdout",
          "text": [
            "Random parameters accuracy_score =  0.8133333333333334\n"
          ]
        }
      ]
    },
    {
      "cell_type": "code",
      "source": [
        "rf_params = {'n_estimators': list(range(5, 25)),\n",
        "             'max_depth': list(range(5, 15)),\n",
        "             'criterion': ['gini', 'entropy'],\n",
        "             'min_samples_leaf': list(range(3, 16))}\n",
        "rf_gridsearch = GridSearchCV(RandomForest(), rf_params, cv=5, scoring='accuracy', n_jobs=-1, verbose=True)\n",
        "rf_gridsearch.fit(X_train, y_train)\n",
        "rf_gridsearch.best_params_"
      ],
      "metadata": {
        "colab": {
          "base_uri": "https://localhost:8080/"
        },
        "id": "bCIz-uFX4eyn",
        "outputId": "b9402ddc-c408-44b1-e703-2c951257d62a"
      },
      "execution_count": null,
      "outputs": [
        {
          "output_type": "stream",
          "name": "stdout",
          "text": [
            "Fitting 5 folds for each of 2 candidates, totalling 10 fits\n"
          ]
        },
        {
          "output_type": "execute_result",
          "data": {
            "text/plain": [
              "{'criterion': 'entropy',\n",
              " 'max_depth': 8,\n",
              " 'min_samples_leaf': 15,\n",
              " 'n_estimators': 20}"
            ]
          },
          "metadata": {},
          "execution_count": 41
        }
      ]
    },
    {
      "cell_type": "code",
      "source": [
        "# наилучшие гиперпараметры этого алгоритма"
      ],
      "metadata": {
        "id": "9J2AMdY4nRhU"
      },
      "execution_count": null,
      "outputs": []
    },
    {
      "cell_type": "code",
      "source": [
        "rf = RandomForest(20, 8, 'entropy', 15).fit(X_train, y_train)\n",
        "print('Tuned parameters accuracy_score = ', accuracy_score(y_test, rf.predict(X_test)))"
      ],
      "metadata": {
        "id": "iCB0bH2F4wZj",
        "colab": {
          "base_uri": "https://localhost:8080/"
        },
        "outputId": "3d5b5bcd-b838-4c36-ed6d-ce4042690843"
      },
      "execution_count": null,
      "outputs": [
        {
          "output_type": "stream",
          "name": "stdout",
          "text": [
            "Tuned parameters accuracy_score =  0.8333333333333334\n"
          ]
        }
      ]
    },
    {
      "cell_type": "code",
      "source": [
        "# значимость признаков для каждого дерева\n",
        "for n in range(len(rf.trees)):\n",
        "    feature_importances = rf.trees[n].feature_importances_\n",
        "    indices = np.argsort(feature_importances)[::-1]\n",
        "    feature_importances = np.sort(feature_importances)[::-1]\n",
        "    features = [rf.features_ids[n][index] for index in indices]\n",
        "    plt.title('Feature Importances')\n",
        "    plt.barh(range(len(indices)), feature_importances, color='b', align='center')\n",
        "    plt.yticks(range(len(indices)), df.columns[features])\n",
        "    plt.xlabel('Relative Importance')\n",
        "    plt.show()"
      ],
      "metadata": {
        "id": "4SOJzHWD4ztN",
        "colab": {
          "base_uri": "https://localhost:8080/",
          "height": 1000
        },
        "outputId": "4533978c-c8e3-4dfb-e2c2-23bb4282fc5b"
      },
      "execution_count": null,
      "outputs": [
        {
          "output_type": "display_data",
          "data": {
            "text/plain": [
              "<Figure size 432x288 with 1 Axes>"
            ],
            "image/png": "[encoded data removed]"
          },
          "metadata": {
            "needs_background": "light"
          }
        },
        {
          "output_type": "display_data",
          "data": {
            "text/plain": [
              "<Figure size 432x288 with 1 Axes>"
            ],
            "image/png": "[encoded data removed]"
          },
          "metadata": {
            "needs_background": "light"
          }
        },
        {
          "output_type": "display_data",
          "data": {
            "text/plain": [
              "<Figure size 432x288 with 1 Axes>"
            ],
            "image/png": "[encoded data removed]"
          },
          "metadata": {
            "needs_background": "light"
          }
        },
        {
          "output_type": "display_data",
          "data": {
            "text/plain": [
              "<Figure size 432x288 with 1 Axes>"
            ],
            "image/png": "[encoded data removed]"
          },
          "metadata": {
            "needs_background": "light"
          }
        },
        {
          "output_type": "display_data",
          "data": {
            "text/plain": [
              "<Figure size 432x288 with 1 Axes>"
            ],
            "image/png": "[encoded data removed]"
          },
          "metadata": {
            "needs_background": "light"
          }
        },
        {
          "output_type": "display_data",
          "data": {
            "text/plain": [
              "<Figure size 432x288 with 1 Axes>"
            ],
            "image/png": "[encoded data removed]"
          },
          "metadata": {
            "needs_background": "light"
          }
        },
        {
          "output_type": "display_data",
          "data": {
            "text/plain": [
              "<Figure size 432x288 with 1 Axes>"
            ],
            "image/png": "[encoded data removed]"
          },
          "metadata": {
            "needs_background": "light"
          }
        },
        {
          "output_type": "display_data",
          "data": {
            "text/plain": [
              "<Figure size 432x288 with 1 Axes>"
            ],
            "image/png": "[encoded data removed]"
          },
          "metadata": {
            "needs_background": "light"
          }
        },
        {
          "output_type": "display_data",
          "data": {
            "text/plain": [
              "<Figure size 432x288 with 1 Axes>"
            ],
            "image/png": "[encoded data removed]"
          },
          "metadata": {
            "needs_background": "light"
          }
        }
      ]
    },
    {
      "cell_type": "code",
      "source": [
        "# Проанализировав значимость признаков по каждому дереву леса, можем сделать вывод, что наиболее важными призаками являются \n",
        "# NumofProducts, Age, следующими по важности идут IsActiveMember, Balance. Наименьшую важность имеют признаки: Tenure, HasCrCard."
      ],
      "metadata": {
        "id": "m1SSV7eyOTDd"
      },
      "execution_count": null,
      "outputs": []
    },
    {
      "cell_type": "code",
      "source": [
        "from sklearn.ensemble import RandomForestClassifier\n",
        "skForest = RandomForestClassifier(n_estimators=20, criterion='entropy', max_depth=8, min_samples_leaf=15)\n",
        "skForest.fit(X_train, y_train)\n",
        "\n",
        "y_pred = skForest.predict(X_test)\n",
        "accuracy_score(y_test, y_pred)  "
      ],
      "metadata": {
        "colab": {
          "base_uri": "https://localhost:8080/"
        },
        "id": "Uuw4eE8TOICv",
        "outputId": "d8ba1241-2e4f-4431-bac5-0f77febeab02"
      },
      "execution_count": null,
      "outputs": [
        {
          "output_type": "execute_result",
          "data": {
            "text/plain": [
              "0.8693939393939394"
            ]
          },
          "metadata": {},
          "execution_count": 104
        }
      ]
    },
    {
      "cell_type": "code",
      "source": [
        "#Sklearn реализация работает примерно на 0.03 лучше чем моя"
      ],
      "metadata": {
        "id": "NG_Ux1r9OPZ2"
      },
      "execution_count": null,
      "outputs": []
    },
    {
      "cell_type": "code",
      "source": [
        "# Матрица неточностей для задания выше 4.2"
      ],
      "metadata": {
        "id": "8Yb0gtJgqgFv"
      },
      "execution_count": null,
      "outputs": []
    },
    {
      "cell_type": "code",
      "source": [
        "from sklearn.metrics import confusion_matrix"
      ],
      "metadata": {
        "id": "LNweSDAbT7D-"
      },
      "execution_count": null,
      "outputs": []
    },
    {
      "cell_type": "code",
      "source": [
        "y_test_predict = rf.predict(X_test)"
      ],
      "metadata": {
        "id": "7lIPknFMV7Cg"
      },
      "execution_count": null,
      "outputs": []
    },
    {
      "cell_type": "code",
      "source": [
        "print(\"Sklearn confusion matrix tree : \\n\", confusion_matrix(y_test, y_test_predict),\"\\n\")"
      ],
      "metadata": {
        "colab": {
          "base_uri": "https://localhost:8080/"
        },
        "id": "cwxYth-IWNg2",
        "outputId": "6f135cc6-f234-434a-e731-8971302eac3a"
      },
      "execution_count": null,
      "outputs": [
        {
          "output_type": "stream",
          "name": "stdout",
          "text": [
            "Sklearn confusion matrix tree : \n",
            " [[2570   87]\n",
            " [ 618   25]] \n",
            "\n"
          ]
        }
      ]
    },
    {
      "cell_type": "code",
      "source": [
        "def my_confusion_matrix(y_test, y_test_predict):\n",
        "    tp = 0\n",
        "    for yt, yp in zip(y_test, y_test_predict):\n",
        "        if yt == 1 and yp == 1:\n",
        "            tp +=1\n",
        "    tn = 0\n",
        "    for yt, yp in zip(y_test, y_test_predict):\n",
        "        if yt == 0 and yp == 0:\n",
        "            tn +=1\n",
        "\n",
        "    fp = 0\n",
        "    for yt, yp in zip(y_test, y_test_predict):\n",
        "        if yt == 0 and yp == 1:\n",
        "            fp +=1\n",
        "\n",
        "    fn = 0\n",
        "    for yt, yp in zip(y_test, y_test_predict):\n",
        "        if yt == 1 and yp == 0:\n",
        "            fn +=1\n",
        "    return([[tn, fp], [fn, tp]])\n"
      ],
      "metadata": {
        "id": "sjbYOC9lUr4f"
      },
      "execution_count": null,
      "outputs": []
    },
    {
      "cell_type": "code",
      "source": [
        "print(\"My confusion matrix tree : \\n\", my_confusion_matrix(y_test, y_test_predict))"
      ],
      "metadata": {
        "colab": {
          "base_uri": "https://localhost:8080/"
        },
        "id": "z80_5CiIR8wZ",
        "outputId": "6333225b-9d66-4acb-8b27-754574f20008"
      },
      "execution_count": null,
      "outputs": [
        {
          "output_type": "stream",
          "name": "stdout",
          "text": [
            "My confusion matrix tree : \n",
            " [[2570, 87], [618, 25]]\n"
          ]
        }
      ]
    },
    {
      "cell_type": "code",
      "source": [
        "# Сравнив мою реализацию матрицы неточностей с матрицей от sklearn можем убедиться в её правильности"
      ],
      "metadata": {
        "id": "bYDLqIi_XyVo"
      },
      "execution_count": null,
      "outputs": []
    },
    {
      "cell_type": "code",
      "source": [
        "# Матрица неточностей для задания 4.1"
      ],
      "metadata": {
        "id": "atPdyvMKqaFo"
      },
      "execution_count": null,
      "outputs": []
    },
    {
      "cell_type": "code",
      "source": [
        "print(\"Sklearn confusion matrix tree : \\n\", confusion_matrix(y_test1, y_test1_predict, labels=[0, 1, 2]),\"\\n\")"
      ],
      "metadata": {
        "colab": {
          "base_uri": "https://localhost:8080/"
        },
        "id": "ERySCl8RlzHX",
        "outputId": "7dee9394-08c4-4efd-e674-b943e5434d70"
      },
      "execution_count": null,
      "outputs": [
        {
          "output_type": "stream",
          "name": "stdout",
          "text": [
            "Sklearn confusion matrix tree : \n",
            " [[19  0  0]\n",
            " [ 0 15  0]\n",
            " [ 0  2 14]] \n",
            "\n"
          ]
        }
      ]
    },
    {
      "cell_type": "code",
      "source": [
        "def my_confusion_matrix1(y_test, y_test_predict):\n",
        "    l0l0 = 0\n",
        "    for yt, yp in zip(y_test, y_test_predict):\n",
        "        if yt == 0 and yp == 0:\n",
        "            l0l0 +=1\n",
        "    l0l1 = 0\n",
        "    for yt, yp in zip(y_test, y_test_predict):\n",
        "        if yt == 0 and yp == 1:\n",
        "            l0l1 +=1\n",
        "\n",
        "    l0l2 = 0\n",
        "    for yt, yp in zip(y_test, y_test_predict):\n",
        "        if yt == 0 and yp == 2:\n",
        "            l0l2 +=1\n",
        "\n",
        "    l1l0 = 0\n",
        "    for yt, yp in zip(y_test, y_test_predict):\n",
        "        if yt == 1 and yp == 0:\n",
        "            l1l0 +=1\n",
        "    \n",
        "    l1l1 = 0\n",
        "    for yt, yp in zip(y_test, y_test_predict):\n",
        "        if yt == 1 and yp == 1:\n",
        "            l1l1 +=1\n",
        "\n",
        "    l1l2 = 0\n",
        "    for yt, yp in zip(y_test, y_test_predict):\n",
        "        if yt == 1 and yp == 2:\n",
        "            l1l2 +=1\n",
        "\n",
        "    l2l0 = 0\n",
        "    for yt, yp in zip(y_test, y_test_predict):\n",
        "        if yt == 2 and yp == 0:\n",
        "            l2l0 +=1\n",
        "\n",
        "    l2l1 = 0\n",
        "    for yt, yp in zip(y_test, y_test_predict):\n",
        "        if yt == 2 and yp == 1:\n",
        "            l2l1 +=1\n",
        "\n",
        "    l2l2 = 0\n",
        "    for yt, yp in zip(y_test, y_test_predict):\n",
        "        if yt == 2 and yp == 2:\n",
        "            l2l2 +=1\n",
        "    return([[l0l0, l0l1, l0l2], [l1l0, l1l1, l1l2], [l2l0, l2l1, l2l2]])"
      ],
      "metadata": {
        "id": "TtHsP9wFoo2z"
      },
      "execution_count": null,
      "outputs": []
    },
    {
      "cell_type": "code",
      "source": [
        "print(\"My confusion matrix tree : \\n\", my_confusion_matrix1(y_test1, y_test1_predict))"
      ],
      "metadata": {
        "colab": {
          "base_uri": "https://localhost:8080/"
        },
        "id": "Eh0cIUskqk32",
        "outputId": "922a13f1-f0bf-4d9d-8a05-937ac7439c86"
      },
      "execution_count": null,
      "outputs": [
        {
          "output_type": "stream",
          "name": "stdout",
          "text": [
            "My confusion matrix tree : \n",
            " [[19, 0, 0], [0, 15, 0], [0, 2, 14]]\n"
          ]
        }
      ]
    },
    {
      "cell_type": "code",
      "source": [
        "# Результат моей матрицы неточностей совпадает с результатом от sklearn, что позволяет говорить о её правильности"
      ],
      "metadata": {
        "id": "XkcM4lreqyT1"
      },
      "execution_count": null,
      "outputs": []
    },
    {
      "cell_type": "code",
      "source": [
        "# В первом задании ложно положительных и ложно отрицательных элементов у нас очень мало, \n",
        "# поэтому точность очень близка к единице, а во втором их уже намного больше, поэтому точность падает до порядка 0.8\n",
        "# Так как при расчёте accuracy мы пользуемся формулой (tp + tn) / (tp + tn + fp + fn)\n",
        "# Соответственно при большем количестве ложных элементов уменьшается точность"
      ],
      "metadata": {
        "id": "bLrT0UIzQk4F"
      },
      "execution_count": null,
      "outputs": []
    }
  ]
}