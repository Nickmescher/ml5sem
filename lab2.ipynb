{
  "nbformat": 4,
  "nbformat_minor": 0,
  "metadata": {
    "hide_input": false,
    "kernelspec": {
      "display_name": "Python 3",
      "language": "python",
      "name": "python3"
    },
    "language_info": {
      "codemirror_mode": {
        "name": "ipython",
        "version": 3
      },
      "file_extension": ".py",
      "mimetype": "text/x-python",
      "name": "python",
      "nbconvert_exporter": "python",
      "pygments_lexer": "ipython3",
      "version": "3.7.1"
    },
    "toc": {
      "base_numbering": 1,
      "nav_menu": {},
      "number_sections": true,
      "sideBar": true,
      "skip_h1_title": false,
      "title_cell": "Table of Contents",
      "title_sidebar": "Contents",
      "toc_cell": true,
      "toc_position": {},
      "toc_section_display": true,
      "toc_window_display": false
    },
    "varInspector": {
      "cols": {
        "lenName": 16,
        "lenType": 16,
        "lenVar": 40
      },
      "kernels_config": {
        "python": {
          "delete_cmd_postfix": "",
          "delete_cmd_prefix": "del ",
          "library": "var_list.py",
          "varRefreshCmd": "print(var_dic_list())"
        },
        "r": {
          "delete_cmd_postfix": ") ",
          "delete_cmd_prefix": "rm(",
          "library": "var_list.r",
          "varRefreshCmd": "cat(var_dic_list()) "
        }
      },
      "types_to_exclude": [
        "module",
        "function",
        "builtin_function_or_method",
        "instance",
        "_Feature"
      ],
      "window_display": false
    },
    "colab": {
      "provenance": [],
      "include_colab_link": true
    }
  },
  "cells": [
    {
      "cell_type": "markdown",
      "metadata": {
        "id": "view-in-github",
        "colab_type": "text"
      },
      "source": [
        "<a href=\"https://colab.research.google.com/github/Nickmescher/ml5sem/blob/main/lab2.ipynb\" target=\"_parent\"><img src=\"https://colab.research.google.com/assets/colab-badge.svg\" alt=\"Open In Colab\"/></a>"
      ]
    },
    {
      "cell_type": "code",
      "metadata": {
        "ExecuteTime": {
          "end_time": "2020-04-23T10:16:05.965275Z",
          "start_time": "2020-04-23T10:16:05.312704Z"
        },
        "id": "bZ7J0si68JdT"
      },
      "source": [
        "import pandas as pd\n",
        "import numpy as np"
      ],
      "execution_count": null,
      "outputs": []
    },
    {
      "cell_type": "markdown",
      "metadata": {
        "id": "xjvL0IIG8Jd0"
      },
      "source": [
        "## Задание 0\n"
      ]
    },
    {
      "cell_type": "markdown",
      "metadata": {
        "id": "yaSxXHvxO0qo"
      },
      "source": [
        "Для всех  заданий будем использовать обезличенные транзакционные банковские данные. Для этого считайте в переменные **tr_mcc_codes, tr_types, transactions и gender_train** из одноимённых таблиц из папки [data](https://drive.google.com/drive/folders/1YAMe7MiTxA-RSSd8Ex2p-L0Dspe6Gs4L). \n",
        "\n",
        "Для таблицы transactions используйте только первые n=1000000 строк. При чтении файлов обратите внимание на разделители внутри каждого из файлов - они могут различаться!"
      ]
    },
    {
      "cell_type": "markdown",
      "metadata": {
        "id": "oP3lX9xC8Jd8"
      },
      "source": [
        "###  Описание данных\n",
        "#### Таблица ```transactions.csv```\n",
        "##### Описание\n",
        "Таблица содержит историю транзакций клиентов банка за один год и три месяца.\n",
        "\n",
        "##### Формат данных\n",
        "\n",
        "```\n",
        "customer_id,tr_datetime,mcc_code,tr_type,amount,term_id\n",
        "111111,15 01:40:52,1111,1000,-5224,111111\n",
        "111112,15 15:18:32,3333,2000,-100,11122233\n",
        "...\n",
        "```\n",
        "##### Описание полей\n",
        "\n",
        " - ```customer_id``` — идентификатор клиента;\n",
        " - ```tr_datetime``` — день и время совершения транзакции (дни нумеруются с начала данных);\n",
        " - ```mcc_code``` — mcc-код транзакции;\n",
        " - ```tr_type``` — тип транзакции;\n",
        " - ```amount``` — сумма транзакции в условных единицах со знаком; ```+``` — начисление средств клиенту (приходная транзакция), ```-``` — списание средств (расходная транзакция);\n",
        " - ```term_id``` — идентификатор терминала;\n",
        "\n",
        "\n",
        "#### Таблица ```gender_train.csv```\n",
        "\n",
        "##### Описание\n",
        "Данная таблица содержит информацию по полу для части клиентов, для которых он известен. Для остальных клиентов пол неизвестен.\n",
        "\n",
        "##### Формат данных\n",
        "```\n",
        "customer_id,gender\n",
        "111111,0\n",
        "111112,1\n",
        "...\n",
        "```\n",
        "\n",
        "##### Описание полей\n",
        " - ```customer_id``` — идентификатор клиента;\n",
        " - ```gender``` — пол клиента;\n",
        "\n",
        "### Таблица ```tr_mcc_codes.csv```\n",
        "\n",
        "##### Описание\n",
        "Данная таблица содержит описание mcc-кодов транзакций.\n",
        "\n",
        "##### Формат данных\n",
        "```\n",
        "mcc_code;mcc_description\n",
        "1000;словесное описание mcc-кода 1000\n",
        "2000;словесное описание mcc-кода 2000\n",
        "...\n",
        "```\n",
        "\n",
        "##### Описание полей\n",
        " - ```mcc_code``` – mcc-код транзакции;\n",
        " - ```mcc_description``` — описание mcc-кода транзакции.\n",
        "\n",
        "#### Таблица ```tr_types.csv```\n",
        "\n",
        "##### Описание\n",
        "Данная таблица содержит описание типов транзакций.\n",
        "\n",
        "##### Формат данных\n",
        "```\n",
        "tr_type;tr_description\n",
        "1000;словесное описание типа транзакции 1000\n",
        "2000;словесное описание типа транзакции 2000\n",
        "...\n",
        "```\n",
        "\n",
        "##### Описание полей\n",
        " - ```tr_type``` – тип транзакции;\n",
        " - ```tr_description``` — описание типа транзакции;"
      ]
    },
    {
      "cell_type": "code",
      "source": [
        "from google.colab import drive\n",
        "drive.mount('/content/drive')"
      ],
      "metadata": {
        "colab": {
          "base_uri": "https://localhost:8080/"
        },
        "id": "kHICi9m90urF",
        "outputId": "e4b11734-015e-48f5-a30d-6553056f6d2a"
      },
      "execution_count": null,
      "outputs": [
        {
          "output_type": "stream",
          "name": "stdout",
          "text": [
            "Mounted at /content/drive\n"
          ]
        }
      ]
    },
    {
      "cell_type": "code",
      "source": [
        "transactions = pd.read_csv(\"/content/drive/MyDrive/Colab Notebooks/transactions.csv\", nrows=1000000)\n",
        "print(transactions)\n",
        "tr_mcc_codes = pd.read_csv(\"/content/drive/MyDrive/Colab Notebooks/tr_mcc_codes.csv\", sep=\";\")\n",
        "print(tr_mcc_codes)\n",
        "tr_types = pd.read_csv(\"/content/drive/MyDrive/Colab Notebooks/tr_types.csv\", sep=\";\")\n",
        "print(tr_types)\n",
        "gender_train = pd.read_csv(\"/content/drive/MyDrive/Colab Notebooks/gender_train.csv\", sep=\",\")\n",
        "print(gender_train)"
      ],
      "metadata": {
        "colab": {
          "base_uri": "https://localhost:8080/"
        },
        "id": "ncePXqusOCw6",
        "outputId": "3091bf4c-a7b6-4a48-f940-a5154c6af87a"
      },
      "execution_count": null,
      "outputs": [
        {
          "output_type": "stream",
          "name": "stdout",
          "text": [
            "        customer_id   tr_datetime  mcc_code  tr_type    amount   term_id\n",
            "0          39026145    0 10:23:26      4814     1030  -2245.92       NaN\n",
            "1          39026145    1 10:19:29      6011     7010  56147.89       NaN\n",
            "2          39026145    1 10:20:56      4829     2330 -56147.89       NaN\n",
            "3          39026145    1 10:39:54      5499     1010  -1392.47       NaN\n",
            "4          39026145    2 15:33:42      5499     1010   -920.83       NaN\n",
            "...             ...           ...       ...      ...       ...       ...\n",
            "999995     98801178  269 10:29:06      5921     1010 -23016.59    127873\n",
            "999996     98801178  270 10:26:45      5211     1010 -61380.88  10114209\n",
            "999997     98801178  270 15:18:53      5921     1010 -11800.27  10105341\n",
            "999998     98801178  271 12:47:13      5211     1010 -16170.59  10114209\n",
            "999999     98801178  271 14:51:56      5921     1010 -10025.77    123991\n",
            "\n",
            "[1000000 rows x 6 columns]\n",
            "     mcc_code                                    mcc_description\n",
            "0         742                                Ветеринарные услуги\n",
            "1        1711  Генеральные подрядчики по вентиляции, теплосна...\n",
            "2        1731                        Подрядчики по электричеству\n",
            "3        1799  Подрядчики, специализированная торговля — нигд...\n",
            "4        2741           Разнообразные издательства/печатное дело\n",
            "..        ...                                                ...\n",
            "179      9211  Судовые выплаты, включая алименты и детскую по...\n",
            "180      9222                                             Штрафы\n",
            "181      9311                                  Налоговые платежи\n",
            "182      9399  Правительственные услуги, нигде ранее не класс...\n",
            "183      9402             Почтовые услуги — только правительство\n",
            "\n",
            "[184 rows x 2 columns]\n",
            "     tr_type                                     tr_description\n",
            "0       3200  Плата за предоставление услуг посредством моби...\n",
            "1       3210  Плата за предоставление отчета по счету карты ...\n",
            "2       3800  Плата за обслуживание банковской карты (за пер...\n",
            "3       4000            Плата за получение наличных в Сбербанке\n",
            "4       4001  Плата за получение наличных в Сбербанке (в дру...\n",
            "..       ...                                                ...\n",
            "150     2990                             Списание по требованию\n",
            "151     2992  Списание средств для погашения задолженности п...\n",
            "152     3001            Комиссия за обслуживание ссудного счета\n",
            "153     3030  Плата за обслуживание банковской карты (за пос...\n",
            "154     3120                Плата за досрочный перевыпуск карты\n",
            "\n",
            "[155 rows x 2 columns]\n",
            "      customer_id  gender\n",
            "0        10928546       1\n",
            "1        69348468       1\n",
            "2        61009479       0\n",
            "3        74045822       0\n",
            "4        27979606       1\n",
            "...           ...     ...\n",
            "8395     90417572       0\n",
            "8396     66837341       0\n",
            "8397     10758984       1\n",
            "8398     11376556       0\n",
            "8399     29190649       0\n",
            "\n",
            "[8400 rows x 2 columns]\n"
          ]
        }
      ]
    },
    {
      "cell_type": "markdown",
      "metadata": {
        "id": "04CYsBKz8JeB"
      },
      "source": [
        "\n",
        "Задания 1-4 делаются без использования merge!\n",
        "\n",
        "## Задание 1\n",
        "\n"
      ]
    },
    {
      "cell_type": "markdown",
      "metadata": {
        "id": "1hcrfwsYN_Yz"
      },
      "source": [
        "1. Для столбца tr_type датафрейма transactions выберите произвольные 1000 строк с помощью метода sample\n",
        "2. В полученной на предыдущем этапе подвыборке найдите долю транзакций (стобец tr_description в датасете tr_types), в которой содержится подстрока 'POS' или 'ATM'\n"
      ]
    },
    {
      "cell_type": "code",
      "source": [
        "tr_type_SAMPLE = transactions.tr_type.sample(n=1000)\n",
        "\n",
        "tr_sample = (tr_types['tr_description'].str.contains('АТМ') | tr_types['tr_description'].str.contains('POS'))\n",
        "tr_sample = pd.DataFrame(tr_sample)\n",
        "tr_sample['tr_type'] = tr_types['tr_type']\n",
        "tr_sample = tr_sample.loc[tr_sample['tr_description'] == True]\n",
        "\n",
        "quan = tr_type_SAMPLE.isin(tr_sample['tr_type']).value_counts()[True]\n",
        "\n",
        "print(\"Доля транзакций\", quan/1000)"
      ],
      "metadata": {
        "colab": {
          "base_uri": "https://localhost:8080/"
        },
        "id": "DF_rUYf7Rft7",
        "outputId": "557273de-a99a-45b7-ae44-e55c96668ee2"
      },
      "execution_count": null,
      "outputs": [
        {
          "output_type": "stream",
          "name": "stdout",
          "text": [
            "Доля транзакций 0.635\n"
          ]
        }
      ]
    },
    {
      "cell_type": "markdown",
      "metadata": {
        "id": "fiZBDIZt8JeS"
      },
      "source": [
        "## Задание 2 \n"
      ]
    },
    {
      "cell_type": "markdown",
      "metadata": {
        "id": "FFKeBUThOCrz"
      },
      "source": [
        "1. Для столбца tr_type датафрейма transactions посчитайте частоту встречаемости всех типов транзакций tr_type в transactions.\n",
        "2. Выведите топ-10 транзакций по частоте встречаемости (вывести для них tr_description тоже)."
      ]
    },
    {
      "cell_type": "code",
      "source": [
        "freq = transactions['tr_type'].value_counts()\n",
        "freq10 = freq.head(10)\n",
        "freq1 = pd.DataFrame({'tr_type': tr_types[tr_types['tr_type'].isin(freq10.index.values)].tr_type, 'tr_description': tr_types[tr_types['tr_type'].isin(freq10.index.values)].tr_description, 'value_counts': freq10.values},)\n",
        "print(freq1)"
      ],
      "metadata": {
        "colab": {
          "base_uri": "https://localhost:8080/"
        },
        "id": "jgl5oMdJjVoe",
        "outputId": "822780a7-6430-467a-ed53-7acbd5d9956c"
      },
      "execution_count": null,
      "outputs": [
        {
          "output_type": "stream",
          "name": "stdout",
          "text": [
            "     tr_type                                     tr_description  value_counts\n",
            "39      7010       Взнос наличных через АТМ (в своем тер.банке)        231117\n",
            "47      7030  Перевод на карту (с карты) через АТМ (в предел...        151166\n",
            "59      7070  Перевод на карту (с карты) через Мобильный бан...        149006\n",
            "60      7071  Перевод на карту (с карты) через Мобильный бан...        137658\n",
            "98      1010                              Покупка. POS ТУ СБ РФ        118975\n",
            "99      1030                     Оплата услуги. Банкоматы СБ РФ         49830\n",
            "100     1100                                Покупка. ТУ  Россия         28972\n",
            "101     1110                             Покупка. POS ТУ Россия         26078\n",
            "106     2010              Выдача наличных в АТМ Сбербанк России         15781\n",
            "129     2370  Списание с карты на карту по операции <перевод...         15476\n"
          ]
        }
      ]
    },
    {
      "cell_type": "markdown",
      "metadata": {
        "id": "mktm_JeA8JeX"
      },
      "source": [
        "## Задание 3\n",
        "1. В датафрейме transactions найдите клиента с максимальной суммой приходов на карту\n",
        "2. В датафрейме transactions найдите клиента с максимальной суммой расходов по карте\n",
        "3. Найдите модуль разницы для этих клиентов между суммой расходов и суммой приходов"
      ]
    },
    {
      "cell_type": "code",
      "source": [
        "cust_amoun = transactions[['customer_id', 'amount']]\n",
        "\n",
        "cust_amoun_pos = cust_amoun.loc[cust_amoun['amount'] > 0].groupby('customer_id').amount.sum()\n",
        "\n",
        "cust_amoun_neg = cust_amoun.loc[cust_amoun['amount'] < 0].groupby('customer_id').amount.sum()\n",
        "\n",
        "idmax = cust_amoun_pos.idxmax()\n",
        "idmin = cust_amoun_neg.idxmin()\n",
        "print(idmax, idmin)\n",
        "\n",
        "diff = abs(cust_amoun_pos.max() + cust_amoun_neg.min())\n",
        "print(diff)\n",
        "\n",
        "# data = {'customer_id': [],\n",
        "#         'amount_sum':[]}\n",
        "\n",
        "# amount_table = pd.DataFrame(data)\n",
        "\n",
        "# for key, group in cust_amoun_gr:\n",
        "#     amount_pos = 0\n",
        "#     amount_neg = 0\n",
        "#     for x in group.amount.values:\n",
        "#         if x > 0:\n",
        "#             amount_pos += x\n",
        "#         else:\n",
        "#             amount_neg += x\n",
        "#     new_row1 = {'customer_id': key, 'amount_sum': amount_pos}\n",
        "#     new_row2 = {'customer_id': key, 'amount_sum': amount_neg}\n",
        "#     amount_table = amount_table.append(new_row1, ignore_index=True)\n",
        "#     amount_table = amount_table.append(new_row2, ignore_index=True)\n",
        "\n",
        "# print(amount_table)\n",
        "# max_amount = amount_table['amount_sum'].max()\n",
        "# max_amount_id = amount_table['amount_sum'].idxmax()\n",
        "# max_amount_id = int(amount_table.iloc[max_amount_id].customer_id)\n",
        "# print(max_amount_id)\n",
        "\n",
        "# min_amount = amount_table['amount_sum'].min()\n",
        "# min_amount_id = amount_table['amount_sum'].idxmin()\n",
        "# min_amount_id = int(amount_table.iloc[min_amount_id].customer_id)\n",
        "# print(min_amount_id)\n",
        "\n",
        "# print(abs(max_amount + min_amount))"
      ],
      "metadata": {
        "colab": {
          "base_uri": "https://localhost:8080/"
        },
        "id": "vXqH8SORtXHa",
        "outputId": "561aad58-beaf-4f54-930d-2817e387725c"
      },
      "execution_count": null,
      "outputs": [
        {
          "output_type": "stream",
          "name": "stdout",
          "text": [
            "70780820 70780820\n",
            "1837317.980000019\n"
          ]
        }
      ]
    },
    {
      "cell_type": "markdown",
      "metadata": {
        "id": "BYrJ5b_E8Jee"
      },
      "source": [
        "## Задание 4\n",
        "1. Найдите среднее арифметическое и медиану по amount по всем типам транзакций из топ 10 из задания 2\n",
        "1. Найдите среднее арифметическое и медиану по amount по всем типам транзакций для клиентов из задания 3"
      ]
    },
    {
      "cell_type": "code",
      "source": [
        "top_10 = transactions[['tr_type', 'amount']]\n",
        "mean1 = top_10[top_10['tr_type'].isin(freq10.index.values)].groupby('tr_type').amount.mean()\n",
        "median = top_10[top_10['tr_type'].isin(freq10.index.values)].groupby('tr_type').amount.median()\n",
        "\n",
        "print(mean1, median)\n",
        "\n",
        "# data = {'tr_types': [],\n",
        "#         'mean': [],\n",
        "#         'meadian': []}\n",
        "\n",
        "# mean_median = pd.DataFrame(data)\n",
        "\n",
        "# for key, group in top_10:\n",
        "#     med = np.array(group.amount.values)\n",
        "#     new_row = {'tr_types': key, 'mean': group.amount.values.mean(), 'meadian': np.median(med)}\n",
        "#     mean_median = mean_median.append(new_row, ignore_index=True)\n",
        "# print(mean_median)"
      ],
      "metadata": {
        "colab": {
          "base_uri": "https://localhost:8080/"
        },
        "id": "6nYBTKkZ9aXO",
        "outputId": "fd2a943b-0381-4b70-9b6b-b2cabdc243c8"
      },
      "execution_count": null,
      "outputs": [
        {
          "output_type": "stream",
          "name": "stdout",
          "text": [
            "tr_type\n",
            "1010    -19784.748640\n",
            "1030     -5320.980222\n",
            "1100    -44061.827262\n",
            "1110    -32119.330371\n",
            "2010   -136077.629325\n",
            "2370   -205418.249032\n",
            "7010    276391.789596\n",
            "7030     86104.332909\n",
            "7070     65569.831700\n",
            "7071     66806.826623\n",
            "Name: amount, dtype: float64 tr_type\n",
            "1010     -7411.52\n",
            "1030     -2245.92\n",
            "1100    -10188.26\n",
            "1110    -11207.57\n",
            "2010    -44918.32\n",
            "2370    -44918.32\n",
            "7010    112295.79\n",
            "7030     13951.52\n",
            "7070     11319.42\n",
            "7071      3593.47\n",
            "Name: amount, dtype: float64\n"
          ]
        }
      ]
    },
    {
      "cell_type": "code",
      "source": [
        "# all_types = transactions.loc[transactions['customer_id'] == max_amount_id]\n",
        "# all_types_gr = all_types.groupby('tr_type')\n",
        "\n",
        "# data = {'tr_types': [],\n",
        "#         'mean': [],\n",
        "#         'meadian': []}\n",
        "\n",
        "# mean_median = pd.DataFrame(data)\n",
        "\n",
        "# for key, group in all_types_gr:\n",
        "#     med = np.array(group.amount.values)\n",
        "#     new_row = {'tr_types': key, 'mean': group.amount.values.mean(), 'meadian': np.median(med)}\n",
        "#     mean_median = mean_median.append(new_row, ignore_index=True)\n",
        "# print(mean_median)"
      ],
      "metadata": {
        "colab": {
          "base_uri": "https://localhost:8080/"
        },
        "id": "6sXyL_h_Hqde",
        "outputId": "df4cab0e-660f-49b1-9f4f-e54ed1248234"
      },
      "execution_count": null,
      "outputs": [
        {
          "output_type": "stream",
          "name": "stdout",
          "text": [
            "    tr_types          mean      meadian\n",
            "0     2010.0 -2.941056e+06 -3368873.660\n",
            "1     2330.0 -2.382398e+06 -2245915.770\n",
            "2     2370.0 -2.218505e+06 -2245915.770\n",
            "3     6110.0  1.756293e+04    10028.010\n",
            "4     7020.0  1.465129e+04    10319.985\n",
            "5     7021.0  2.850067e+04    28500.670\n",
            "6     7030.0  1.406196e+04     8848.910\n",
            "7     7031.0  1.921036e+04    12992.620\n",
            "8     7034.0  1.430648e+04    14306.480\n",
            "9     7040.0  2.153833e+04    14396.320\n",
            "10    7070.0  1.384821e+04     8714.150\n",
            "11    7071.0  1.860057e+04    12543.440\n",
            "12    7074.0  2.281159e+04     9387.930\n"
          ]
        }
      ]
    },
    {
      "cell_type": "markdown",
      "metadata": {
        "id": "BYXwM4l3QDBu"
      },
      "source": [
        "## Подготовка для заданий 5-8"
      ]
    },
    {
      "cell_type": "markdown",
      "metadata": {
        "id": "XWQzFeKcQHRe"
      },
      "source": [
        "*Из заданий 5-8 нужно выполнить минимум два любых*\n",
        "\n",
        "Соедините transactions с всеми остальными таблицами (tr_mcc_codes, tr_types, gender_train). Причём с gender_train необходимо смёрджиться с помощью left join, а с оставшимися датафреймами - через inner.\n",
        "После получения результата таблицы gender_train, tr_types, tr_mcc_codes можно удалить. В результате соединения датафреймов должно получиться 999584 строки."
      ]
    },
    {
      "cell_type": "code",
      "metadata": {
        "id": "sndJxjJ7QQf5",
        "colab": {
          "base_uri": "https://localhost:8080/"
        },
        "outputId": "d9521c23-610f-4e50-be69-789df8cd3eda"
      },
      "source": [
        "transactions = pd.merge(transactions, gender_train, how='left')\n",
        "transactions = pd.merge(transactions, tr_mcc_codes, how='inner')\n",
        "transactions = pd.merge(transactions, tr_types, how='inner')\n",
        "transactions.shape"
      ],
      "execution_count": null,
      "outputs": [
        {
          "output_type": "execute_result",
          "data": {
            "text/plain": [
              "(999584, 9)"
            ]
          },
          "metadata": {},
          "execution_count": 56
        }
      ]
    },
    {
      "cell_type": "markdown",
      "metadata": {
        "id": "8vrFauJ8QgmT"
      },
      "source": [
        "## Задание 5"
      ]
    },
    {
      "cell_type": "markdown",
      "metadata": {
        "id": "rOjEQ5xyQfE_"
      },
      "source": [
        "1. Определите модуль разницы между средними тратами женщин и мужчин (трата - отрицательное значение amount).\n",
        "2. Определите модуль разницы между средними поступлениями у мужчин и женщин\n",
        "\n",
        "Обратите внимание, что для вычисления модуля разности точных знаний о том, \n",
        "какой класc относится к мужчинам, а какой - к женщинам, не требуется."
      ]
    },
    {
      "cell_type": "code",
      "source": [
        "neg_transactions = transactions.loc[transactions['amount'] < 0]\n",
        "neg_transactions_gr = neg_transactions.groupby('gender')\n",
        "\n",
        "pos_transactions = transactions.loc[transactions['amount'] > 0]\n",
        "pos_transactions_gr = pos_transactions.groupby('gender')\n",
        "\n",
        "print(abs(neg_transactions_gr.amount.mean()[0] - neg_transactions_gr.amount.mean()[1]))\n",
        "print(abs(pos_transactions_gr.amount.mean()[0] - pos_transactions_gr.amount.mean()[1]))"
      ],
      "metadata": {
        "colab": {
          "base_uri": "https://localhost:8080/"
        },
        "id": "HcqDs_VLMDZp",
        "outputId": "811438f3-1a69-4ee8-ee85-a3a9fbc998ca"
      },
      "execution_count": null,
      "outputs": [
        {
          "output_type": "stream",
          "name": "stdout",
          "text": [
            "32718.054920224655\n",
            "63366.57104801464\n"
          ]
        }
      ]
    },
    {
      "cell_type": "markdown",
      "metadata": {
        "id": "DSHFLbepQ7G1"
      },
      "source": [
        "## Задание 6"
      ]
    },
    {
      "cell_type": "markdown",
      "metadata": {
        "id": "2EF1490bQ-17"
      },
      "source": [
        "1. По всем типам транзакций рассчитайте максимальную сумму прихода на карту (из строго положительных сумм по столбцу amount) отдельно для мужчин и женщин (назовите ее \"max_income\"). Оставьте по 10 типов транзакций для мужчин и для женщин, наименьших среди всех типов транзакций по полученным значениям \"max_income\". \n",
        "2. Выделите среди них те типы транзакций, которые встречаются одновременно и у мужчин, и у женщин"
      ]
    },
    {
      "cell_type": "code",
      "source": [
        "pos_transactions_male = transactions.loc[(transactions['amount'] > 0) & (transactions['gender'] == 0)]\n",
        "pos_transactions_male_gr = pos_transactions_male.groupby('tr_type')\n",
        "max_income = pos_transactions_male_gr.amount.mean().sort_values()\n",
        "max_income_male = max_income.head(10)\n",
        "print(max_income_male)\n",
        "\n",
        "pos_transactions_female = transactions.loc[(transactions['amount'] > 0) & (transactions['gender'] == 1)]\n",
        "pos_transactions_female_gr = pos_transactions_female.groupby('tr_type')\n",
        "max_income = pos_transactions_female_gr.amount.sum().sort_values()\n",
        "max_income_female = max_income.head(10)\n",
        "print(max_income_female)\n",
        "\n",
        "common_f = pd.DataFrame({'tr_type': max_income_female.index, 'amount': max_income_female.values})\n",
        "common_m = pd.DataFrame({'tr_type': max_income_male.index, 'amount': max_income_male.values})\n",
        "\n",
        "common = pd.merge(common_m, common_f, how=\"inner\", left_on='tr_type', right_on='tr_type')\n",
        "print(common)\n",
        "# for a, b in zip(max_income_male.index.values, max_income_female.index.values):\n",
        "#   if a == b:\n",
        "#     print(a)"
      ],
      "metadata": {
        "colab": {
          "base_uri": "https://localhost:8080/"
        },
        "id": "yNyAxh1VOMwg",
        "outputId": "365ef0e6-3c52-4a61-80e9-e76d5b6d8d42"
      },
      "execution_count": null,
      "outputs": [
        {
          "output_type": "stream",
          "name": "stdout",
          "text": [
            "tr_type\n",
            "4051     1122.960000\n",
            "4210     2245.920000\n",
            "4110     2245.920000\n",
            "2370     2335.750000\n",
            "4100     5041.860000\n",
            "7075     6737.750000\n",
            "1010    15766.330000\n",
            "2110    22459.160000\n",
            "6200    27212.886321\n",
            "2010    33688.740000\n",
            "Name: amount, dtype: float64\n",
            "tr_type\n",
            "2020      2245.92\n",
            "4110      4491.84\n",
            "1010     35317.03\n",
            "8100     64682.37\n",
            "6000     79280.83\n",
            "7041     87590.72\n",
            "2370    113194.15\n",
            "7015    121279.45\n",
            "2110    179673.26\n",
            "2010    224591.59\n",
            "Name: amount, dtype: float64\n",
            "   tr_type  amount_x   amount_y\n",
            "0     4110   2245.92    4491.84\n",
            "1     2370   2335.75  113194.15\n",
            "2     1010  15766.33   35317.03\n",
            "3     2110  22459.16  179673.26\n",
            "4     2010  33688.74  224591.59\n"
          ]
        }
      ]
    },
    {
      "cell_type": "code",
      "source": [
        "day = transactions['tr_datetime'].str.split(' ', expand=True)\n",
        "day.columns = ['tr_day', 'tr_time']\n",
        "day = pd.merge(day, transactions,  how=\"inner\", left_on=day.index, right_on=transactions.index)\n",
        "day['tr_day'] = day['tr_day'].astype(int)\n",
        "day = day.loc[day['amount']>0]\n",
        "day = pd.merge(day, common, how=\"inner\")\n",
        "day = day.loc[day['tr_day'] > 449]\n",
        "days = day.sort_values(by='tr_day').groupby(['tr_day', 'tr_type']).amount.mean()\n",
        "days = pd.DataFrame(days)\n",
        "# days.columns = ['tr_day', 'tr_type', 'amount']\n",
        "import matplotlib.pyplot as plt\n",
        "# daysplt = np.array([days.index[0][0], days.index[1][0], days.index[2][0]])\n",
        "# typesplt = np.array([days.index[0][1], days.index[1][1], days.index[2][1]])\n",
        "# plot1 = plt.plot(daysplt, days.amount.values)\n",
        "print(days)\n",
        "# print(daysplt)\n"
      ],
      "metadata": {
        "colab": {
          "base_uri": "https://localhost:8080/"
        },
        "id": "ucIxqACeJBiN",
        "outputId": "815dab30-2588-44af-aacf-babb984d93e5"
      },
      "execution_count": null,
      "outputs": [
        {
          "output_type": "stream",
          "name": "stdout",
          "text": [
            "                 amount\n",
            "tr_day tr_type         \n",
            "456    1010     6513.16\n"
          ]
        }
      ]
    },
    {
      "cell_type": "markdown",
      "metadata": {
        "id": "W-LaVwRdR3UB"
      },
      "source": [
        "## Задание 7"
      ]
    },
    {
      "cell_type": "markdown",
      "metadata": {
        "id": "rhI4NOciR7e0"
      },
      "source": [
        "1. Найдите суммы затрат по каждой категории (mcc) для мужчин и для женщин. \n",
        "2. Найдите топ 10 категорий с самыми большими относительными модулями разности в тратах для разных полов (в ответе должны присутствовать описания mcc кодов)."
      ]
    },
    {
      "cell_type": "code",
      "source": [
        "transactions_male = transactions.loc[(transactions['amount'] < 0) & (transactions['gender'] == 0)]\n",
        "transactions_male_gr = transactions_male.groupby('mcc_code').amount.sum()\n",
        "print(transactions_male_gr)\n",
        "\n",
        "transactions_female = transactions.loc[(transactions['amount'] < 0) & (transactions['gender'] == 1)]\n",
        "transactions_female_gr = transactions_female.groupby('mcc_code').amount.sum()\n",
        "print(transactions_female_gr)\n",
        "\n",
        "difference1 = pd.DataFrame({'mcc_code':transactions_female_gr.index, 'female_am':transactions_female_gr.values})\n",
        "difference2 = pd.DataFrame({'mcc_code':transactions_male_gr.index, 'male_am':transactions_male_gr.values})\n",
        "difference = pd.merge(difference1, difference2, how=\"inner\")\n",
        "difference = pd.merge(difference, tr_mcc_codes, how=\"inner\")\n",
        "difference['diff'] = abs(abs(difference.male_am) - abs(difference.female_am))\n",
        "print(difference.sort_values(by='diff', ascending=False).head(10)[['diff', 'mcc_code', 'mcc_description']])"
      ],
      "metadata": {
        "colab": {
          "base_uri": "https://localhost:8080/"
        },
        "id": "7Sq2YUouWTM9",
        "outputId": "19f286d6-c568-4218-f5c2-e49314672b10"
      },
      "execution_count": null,
      "outputs": [
        {
          "output_type": "stream",
          "name": "stdout",
          "text": [
            "mcc_code\n",
            "742      -386207.68\n",
            "1711     -674897.69\n",
            "1799     -261626.73\n",
            "2741      -20746.42\n",
            "3000   -74431645.27\n",
            "           ...     \n",
            "8699     -521107.48\n",
            "8999   -19432057.92\n",
            "9222     -361143.24\n",
            "9311     -406197.45\n",
            "9399    -1481389.65\n",
            "Name: amount, Length: 174, dtype: float64\n",
            "mcc_code\n",
            "742      -132277.93\n",
            "1711     -206264.90\n",
            "1731     -121542.67\n",
            "1799    -1129257.68\n",
            "2741     -221290.08\n",
            "           ...     \n",
            "8999   -28643346.63\n",
            "9222     -988205.17\n",
            "9311     -373271.22\n",
            "9399    -1810820.67\n",
            "9402       -4581.67\n",
            "Name: amount, Length: 175, dtype: float64\n",
            "             diff  mcc_code                                    mcc_description\n",
            "116  3.085862e+09      6011  Финансовые институты — снятие наличности автом...\n",
            "21   2.499153e+09      4829                                  Денежные переводы\n",
            "115  2.208580e+08      6010   Финансовые институты — снятие наличности вручную\n",
            "62   1.554326e+08      5541                            Станции техобслуживания\n",
            "59   7.352877e+07      5511  Легковой и грузовой транспорт — продажа, серви...\n",
            "85   7.037856e+07      5812             Места общественного питания, рестораны\n",
            "108  4.241762e+07      5977                                 Магазины косметики\n",
            "61   4.233808e+07      5533                          Автозапчасти и аксессуары\n",
            "148  4.079564e+07      7995                       Транзакции по азартным играм\n",
            "71   3.815470e+07      5661                                   Обувные магазины\n"
          ]
        }
      ]
    },
    {
      "cell_type": "markdown",
      "metadata": {
        "id": "aGaPkQkVSvl8"
      },
      "source": [
        "## Задание 8"
      ]
    },
    {
      "cell_type": "markdown",
      "metadata": {
        "id": "T7Ox1qAXTHQl"
      },
      "source": [
        "1. Из поля tr_datetime выделите час tr_hour, в который произошла транзакция, как первые 2 цифры до \":\". (\\**)\n",
        "2. Посчитайте количество транзакций с amount<0 в ночное время для мужчин и женщин. Ночное время - это примерно 00-06 часов. "
      ]
    }
  ]
}