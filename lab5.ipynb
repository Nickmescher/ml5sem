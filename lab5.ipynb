{
  "nbformat": 4,
  "nbformat_minor": 0,
  "metadata": {
    "kernelspec": {
      "display_name": "Python 3",
      "language": "python",
      "name": "python3"
    },
    "language_info": {
      "codemirror_mode": {
        "name": "ipython",
        "version": 3
      },
      "file_extension": ".py",
      "mimetype": "text/x-python",
      "name": "python",
      "nbconvert_exporter": "python",
      "pygments_lexer": "ipython3",
      "version": "3.5.2"
    },
    "colab": {
      "provenance": [],
      "include_colab_link": true
    }
  },
  "cells": [
    {
      "cell_type": "markdown",
      "metadata": {
        "id": "view-in-github",
        "colab_type": "text"
      },
      "source": [
        "<a href=\"https://colab.research.google.com/github/Nickmescher/ml5sem/blob/main/lab5.ipynb\" target=\"_parent\"><img src=\"https://colab.research.google.com/assets/colab-badge.svg\" alt=\"Open In Colab\"/></a>"
      ]
    },
    {
      "cell_type": "markdown",
      "metadata": {
        "id": "UHX9p5jfTySS"
      },
      "source": [
        "## Задание 5.1"
      ]
    },
    {
      "cell_type": "markdown",
      "metadata": {
        "id": "0EnHNZtbXlH0"
      },
      "source": [
        "Набор данных тут: https://github.com/sismetanin/rureviews, также есть в папке [Data](https://drive.google.com/drive/folders/1YAMe7MiTxA-RSSd8Ex2p-L0Dspe6Gs4L). Те, кто предпочитает работать с английским языком, могут использовать набор данных `sms_spam`."
      ]
    },
    {
      "cell_type": "markdown",
      "metadata": {
        "id": "bJox-LoonoPx"
      },
      "source": [
        "Применим полученные навыки и решим задачу анализа тональности отзывов. \n",
        "\n",
        "Нужно повторить весь пайплайн от сырых текстов до получения обученной модели.\n",
        "\n",
        "Обязательные шаги предобработки:\n",
        "1. токенизация\n",
        "2. приведение к нижнему регистру\n",
        "3. удаление стоп-слов\n",
        "4. лемматизация\n",
        "5. векторизация (с настройкой гиперпараметров)\n",
        "6. построение модели\n",
        "7. оценка качества модели\n",
        "\n",
        "Обязательно использование векторайзеров:\n",
        "1. мешок n-грамм (диапазон для n подбирайте самостоятельно, запрещено использовать только униграммы).\n",
        "2. tf-idf ((диапазон для n подбирайте самостоятельно, также нужно подбирать гиперпараметры max_df, min_df, max_features)\n",
        "3. символьные n-граммы (диапазон для n подбирайте самостоятельно)\n",
        "\n",
        "В качестве классификатора нужно использовать наивный байесовский классификатор. \n",
        "\n",
        "Для сравнения векторайзеров между собой используйте precision, recall, f1-score и accuracy. Для этого сформируйте датафрейм, в котором в строках будут разные векторайзеры, а в столбцах разные метрики качества, а в  ячейках будут значения этих метрик для соответсвующих векторайзеров."
      ]
    },
    {
      "cell_type": "code",
      "source": [
        "from google.colab import drive\n",
        "drive.mount('/content/drive')"
      ],
      "metadata": {
        "colab": {
          "base_uri": "https://localhost:8080/"
        },
        "id": "A2j8ICJHVmvd",
        "outputId": "1c0cf8e6-ecda-4ad7-b518-906a91cf3f2d"
      },
      "execution_count": null,
      "outputs": [
        {
          "output_type": "stream",
          "name": "stdout",
          "text": [
            "Mounted at /content/drive\n"
          ]
        }
      ]
    },
    {
      "cell_type": "code",
      "source": [
        "import warnings\n",
        "warnings.filterwarnings('ignore')"
      ],
      "metadata": {
        "id": "d_RqWgtFiTmv"
      },
      "execution_count": null,
      "outputs": []
    },
    {
      "cell_type": "code",
      "source": [
        "import pandas as pd\n",
        "import numpy as np"
      ],
      "metadata": {
        "id": "9bQqxclZV0KS"
      },
      "execution_count": null,
      "outputs": []
    },
    {
      "cell_type": "code",
      "source": [
        "sms_spam_df = pd.read_csv('/content/drive/MyDrive/Colab Notebooks/sms_spam.csv')\n",
        "sms_spam_df.sample(10)"
      ],
      "metadata": {
        "colab": {
          "base_uri": "https://localhost:8080/",
          "height": 363
        },
        "id": "QAd01keZVstZ",
        "outputId": "4a262366-fc1d-4338-e061-7fdb89c1bef2"
      },
      "execution_count": null,
      "outputs": [
        {
          "output_type": "execute_result",
          "data": {
            "text/plain": [
              "      type                                               text\n",
              "1116   ham                           Eh u send wrongly lar...\n",
              "715    ham  Hi im having the most relaxing time ever! we h...\n",
              "2363   ham                       I dont want to hear anything\n",
              "3319   ham  It's Ã© only $140 ard...Ã‰ rest all ard $180 a...\n",
              "3961   ham           Well you told others you'd marry them...\n",
              "177    ham        Oh thanks a lot..i already bought 2 eggs ..\n",
              "432    ham  How to Make a girl Happy? It's not at all diff...\n",
              "2613   ham  Havent still waitin as usual... u come back sc...\n",
              "2035  spam  Dear Matthew please call 09063440451 from a la...\n",
              "2463   ham                 Aight, I'll text you when I'm back"
            ],
            "text/html": [
              "\n",
              "  <div id=\"df-e2385bd2-4e1c-46c3-908e-48422e00c30c\">\n",
              "    <div class=\"colab-df-container\">\n",
              "      <div>\n",
              "<style scoped>\n",
              "    .dataframe tbody tr th:only-of-type {\n",
              "        vertical-align: middle;\n",
              "    }\n",
              "\n",
              "    .dataframe tbody tr th {\n",
              "        vertical-align: top;\n",
              "    }\n",
              "\n",
              "    .dataframe thead th {\n",
              "        text-align: right;\n",
              "    }\n",
              "</style>\n",
              "<table border=\"1\" class=\"dataframe\">\n",
              "  <thead>\n",
              "    <tr style=\"text-align: right;\">\n",
              "      <th></th>\n",
              "      <th>type</th>\n",
              "      <th>text</th>\n",
              "    </tr>\n",
              "  </thead>\n",
              "  <tbody>\n",
              "    <tr>\n",
              "      <th>1116</th>\n",
              "      <td>ham</td>\n",
              "      <td>Eh u send wrongly lar...</td>\n",
              "    </tr>\n",
              "    <tr>\n",
              "      <th>715</th>\n",
              "      <td>ham</td>\n",
              "      <td>Hi im having the most relaxing time ever! we h...</td>\n",
              "    </tr>\n",
              "    <tr>\n",
              "      <th>2363</th>\n",
              "      <td>ham</td>\n",
              "      <td>I dont want to hear anything</td>\n",
              "    </tr>\n",
              "    <tr>\n",
              "      <th>3319</th>\n",
              "      <td>ham</td>\n",
              "      <td>It's Ã© only $140 ard...Ã‰ rest all ard $180 a...</td>\n",
              "    </tr>\n",
              "    <tr>\n",
              "      <th>3961</th>\n",
              "      <td>ham</td>\n",
              "      <td>Well you told others you'd marry them...</td>\n",
              "    </tr>\n",
              "    <tr>\n",
              "      <th>177</th>\n",
              "      <td>ham</td>\n",
              "      <td>Oh thanks a lot..i already bought 2 eggs ..</td>\n",
              "    </tr>\n",
              "    <tr>\n",
              "      <th>432</th>\n",
              "      <td>ham</td>\n",
              "      <td>How to Make a girl Happy? It's not at all diff...</td>\n",
              "    </tr>\n",
              "    <tr>\n",
              "      <th>2613</th>\n",
              "      <td>ham</td>\n",
              "      <td>Havent still waitin as usual... u come back sc...</td>\n",
              "    </tr>\n",
              "    <tr>\n",
              "      <th>2035</th>\n",
              "      <td>spam</td>\n",
              "      <td>Dear Matthew please call 09063440451 from a la...</td>\n",
              "    </tr>\n",
              "    <tr>\n",
              "      <th>2463</th>\n",
              "      <td>ham</td>\n",
              "      <td>Aight, I'll text you when I'm back</td>\n",
              "    </tr>\n",
              "  </tbody>\n",
              "</table>\n",
              "</div>\n",
              "      <button class=\"colab-df-convert\" onclick=\"convertToInteractive('df-e2385bd2-4e1c-46c3-908e-48422e00c30c')\"\n",
              "              title=\"Convert this dataframe to an interactive table.\"\n",
              "              style=\"display:none;\">\n",
              "        \n",
              "  <svg xmlns=\"http://www.w3.org/2000/svg\" height=\"24px\"viewBox=\"0 0 24 24\"\n",
              "       width=\"24px\">\n",
              "    <path d=\"M0 0h24v24H0V0z\" fill=\"none\"/>\n",
              "    <path d=\"M18.56 5.44l.94 2.06.94-2.06 2.06-.94-2.06-.94-.94-2.06-.94 2.06-2.06.94zm-11 1L8.5 8.5l.94-2.06 2.06-.94-2.06-.94L8.5 2.5l-.94 2.06-2.06.94zm10 10l.94 2.06.94-2.06 2.06-.94-2.06-.94-.94-2.06-.94 2.06-2.06.94z\"/><path d=\"M17.41 7.96l-1.37-1.37c-.4-.4-.92-.59-1.43-.59-.52 0-1.04.2-1.43.59L10.3 9.45l-7.72 7.72c-.78.78-.78 2.05 0 2.83L4 21.41c.39.39.9.59 1.41.59.51 0 1.02-.2 1.41-.59l7.78-7.78 2.81-2.81c.8-.78.8-2.07 0-2.86zM5.41 20L4 18.59l7.72-7.72 1.47 1.35L5.41 20z\"/>\n",
              "  </svg>\n",
              "      </button>\n",
              "      \n",
              "  <style>\n",
              "    .colab-df-container {\n",
              "      display:flex;\n",
              "      flex-wrap:wrap;\n",
              "      gap: 12px;\n",
              "    }\n",
              "\n",
              "    .colab-df-convert {\n",
              "      background-color: #E8F0FE;\n",
              "      border: none;\n",
              "      border-radius: 50%;\n",
              "      cursor: pointer;\n",
              "      display: none;\n",
              "      fill: #1967D2;\n",
              "      height: 32px;\n",
              "      padding: 0 0 0 0;\n",
              "      width: 32px;\n",
              "    }\n",
              "\n",
              "    .colab-df-convert:hover {\n",
              "      background-color: #E2EBFA;\n",
              "      box-shadow: 0px 1px 2px rgba(60, 64, 67, 0.3), 0px 1px 3px 1px rgba(60, 64, 67, 0.15);\n",
              "      fill: #174EA6;\n",
              "    }\n",
              "\n",
              "    [theme=dark] .colab-df-convert {\n",
              "      background-color: #3B4455;\n",
              "      fill: #D2E3FC;\n",
              "    }\n",
              "\n",
              "    [theme=dark] .colab-df-convert:hover {\n",
              "      background-color: #434B5C;\n",
              "      box-shadow: 0px 1px 3px 1px rgba(0, 0, 0, 0.15);\n",
              "      filter: drop-shadow(0px 1px 2px rgba(0, 0, 0, 0.3));\n",
              "      fill: #FFFFFF;\n",
              "    }\n",
              "  </style>\n",
              "\n",
              "      <script>\n",
              "        const buttonEl =\n",
              "          document.querySelector('#df-e2385bd2-4e1c-46c3-908e-48422e00c30c button.colab-df-convert');\n",
              "        buttonEl.style.display =\n",
              "          google.colab.kernel.accessAllowed ? 'block' : 'none';\n",
              "\n",
              "        async function convertToInteractive(key) {\n",
              "          const element = document.querySelector('#df-e2385bd2-4e1c-46c3-908e-48422e00c30c');\n",
              "          const dataTable =\n",
              "            await google.colab.kernel.invokeFunction('convertToInteractive',\n",
              "                                                     [key], {});\n",
              "          if (!dataTable) return;\n",
              "\n",
              "          const docLinkHtml = 'Like what you see? Visit the ' +\n",
              "            '<a target=\"_blank\" href=https://colab.research.google.com/notebooks/data_table.ipynb>data table notebook</a>'\n",
              "            + ' to learn more about interactive tables.';\n",
              "          element.innerHTML = '';\n",
              "          dataTable['output_type'] = 'display_data';\n",
              "          await google.colab.output.renderOutput(dataTable, element);\n",
              "          const docLink = document.createElement('div');\n",
              "          docLink.innerHTML = docLinkHtml;\n",
              "          element.appendChild(docLink);\n",
              "        }\n",
              "      </script>\n",
              "    </div>\n",
              "  </div>\n",
              "  "
            ]
          },
          "metadata": {},
          "execution_count": 61
        }
      ]
    },
    {
      "cell_type": "code",
      "source": [
        "print('Missing values: ', sms_spam_df.isnull().values.any())\n",
        "print('Duplicates: ', sms_spam_df.duplicated().any())"
      ],
      "metadata": {
        "colab": {
          "base_uri": "https://localhost:8080/"
        },
        "id": "z1H-aQpyWJAo",
        "outputId": "2f596153-dd9d-40e9-9a81-de0cb369f9d1"
      },
      "execution_count": null,
      "outputs": [
        {
          "output_type": "stream",
          "name": "stdout",
          "text": [
            "Missing values:  False\n",
            "Duplicates:  True\n"
          ]
        }
      ]
    },
    {
      "cell_type": "code",
      "source": [
        "sms_spam_df.drop_duplicates(inplace=True)"
      ],
      "metadata": {
        "id": "NAqcG4NoWQZL"
      },
      "execution_count": null,
      "outputs": []
    },
    {
      "cell_type": "code",
      "source": [
        "# приведение к нижнему регистру\n",
        "sms_spam_df.text = sms_spam_df.text.str.lower()"
      ],
      "metadata": {
        "id": "76nz7NwlWS9y"
      },
      "execution_count": null,
      "outputs": []
    },
    {
      "cell_type": "code",
      "source": [
        "# токенизация\n",
        "\n",
        "import nltk \n",
        "from nltk.tokenize import word_tokenize \n",
        "from nltk.corpus import stopwords"
      ],
      "metadata": {
        "id": "e5baiWImW2V_"
      },
      "execution_count": null,
      "outputs": []
    },
    {
      "cell_type": "code",
      "source": [
        "nltk.download('stopwords')\n",
        "nltk.download('punkt')"
      ],
      "metadata": {
        "colab": {
          "base_uri": "https://localhost:8080/"
        },
        "id": "_W8spDykW7Zn",
        "outputId": "2f3c26c5-a98a-42ef-8729-63ad26ba25fd"
      },
      "execution_count": null,
      "outputs": [
        {
          "output_type": "stream",
          "name": "stderr",
          "text": [
            "[nltk_data] Downloading package stopwords to /root/nltk_data...\n",
            "[nltk_data]   Unzipping corpora/stopwords.zip.\n",
            "[nltk_data] Downloading package punkt to /root/nltk_data...\n",
            "[nltk_data]   Unzipping tokenizers/punkt.zip.\n"
          ]
        },
        {
          "output_type": "execute_result",
          "data": {
            "text/plain": [
              "True"
            ]
          },
          "metadata": {},
          "execution_count": 27
        }
      ]
    },
    {
      "cell_type": "code",
      "source": [
        "from nltk.tokenize import TweetTokenizer\n",
        "tweet_tokenizer = TweetTokenizer()\n",
        "\n",
        "stop_words = stopwords.words(\"english\")\n",
        "\n",
        "\n",
        "sms_spam_df.text = sms_spam_df.text.apply(lambda text: ' '.join([word\n",
        "                                                                 for word in tweet_tokenizer.tokenize(text)]))"
      ],
      "metadata": {
        "id": "o-bGm1W9Wa03"
      },
      "execution_count": null,
      "outputs": []
    },
    {
      "cell_type": "code",
      "source": [
        "# удаление пунктуации\n",
        "\n",
        "import string\n",
        "string.punctuation"
      ],
      "metadata": {
        "colab": {
          "base_uri": "https://localhost:8080/",
          "height": 35
        },
        "id": "-lyANePYXvAi",
        "outputId": "dbb14b19-e867-4190-a253-93f411871863"
      },
      "execution_count": null,
      "outputs": [
        {
          "output_type": "execute_result",
          "data": {
            "text/plain": [
              "'!\"#$%&\\'()*+,-./:;<=>?@[\\\\]^_`{|}~'"
            ],
            "application/vnd.google.colaboratory.intrinsic+json": {
              "type": "string"
            }
          },
          "metadata": {},
          "execution_count": 29
        }
      ]
    },
    {
      "cell_type": "code",
      "source": [
        "sms_spam_df.text = sms_spam_df.text.str.translate(str.maketrans('', '', string.punctuation)) \\\n",
        "                                   .str.strip(' ') \\\n",
        "                                   .str.replace(r' +', ' ')"
      ],
      "metadata": {
        "id": "33gIsqvqXTu8"
      },
      "execution_count": null,
      "outputs": []
    },
    {
      "cell_type": "code",
      "source": [
        "# лемматизация"
      ],
      "metadata": {
        "id": "2FXvRGJiYpX1"
      },
      "execution_count": null,
      "outputs": []
    },
    {
      "cell_type": "code",
      "source": [
        "import spacy\n",
        "nlp = spacy.load('en_core_web_sm', disable=['parser', 'ner'])\n",
        "sms_spam_df.text = sms_spam_df.text.apply(lambda text: ' '.join([str(token.lemma_)\n",
        "                                                                 if token.lemma_ != '-PRON-'\n",
        "                                                                 else str(token)\n",
        "                                                                 for token in nlp(text)]))"
      ],
      "metadata": {
        "id": "cPCnNzrYXz60"
      },
      "execution_count": null,
      "outputs": []
    },
    {
      "cell_type": "code",
      "source": [
        "# удаление стоп слов"
      ],
      "metadata": {
        "id": "Jiv0Y15s8rRP"
      },
      "execution_count": null,
      "outputs": []
    },
    {
      "cell_type": "code",
      "source": [
        "sms_spam_df.text = sms_spam_df.text.apply(lambda text: ' '.join([word\n",
        "                                                                 for word in tweet_tokenizer.tokenize(text)\n",
        "                                                                 if word not in stop_words]))"
      ],
      "metadata": {
        "id": "o2usmnEMn5sk"
      },
      "execution_count": null,
      "outputs": []
    },
    {
      "cell_type": "code",
      "source": [
        "# векторизация\n",
        "\n",
        "from sklearn.metrics import * \n",
        "from sklearn.model_selection import train_test_split "
      ],
      "metadata": {
        "id": "csghrIwdYx9f"
      },
      "execution_count": null,
      "outputs": []
    },
    {
      "cell_type": "code",
      "source": [
        "x_train, x_test, y_train, y_test = train_test_split(sms_spam_df.text,\n",
        "                                                    sms_spam_df.type,\n",
        "                                                    train_size = 0.7)"
      ],
      "metadata": {
        "id": "O7l9LgaVYsgr"
      },
      "execution_count": null,
      "outputs": []
    },
    {
      "cell_type": "code",
      "source": [
        "assessments = {'precision': [],\n",
        "               'recall': [],\n",
        "               'f1-score': [],\n",
        "               'accuracy': []}"
      ],
      "metadata": {
        "id": "55pZAacfY-BS"
      },
      "execution_count": null,
      "outputs": []
    },
    {
      "cell_type": "code",
      "source": [
        "from sklearn.tree import DecisionTreeClassifier \n",
        "from sklearn.naive_bayes import MultinomialNB \n",
        "from sklearn.feature_extraction.text import CountVectorizer "
      ],
      "metadata": {
        "id": "3n0_9N8RZ1a_"
      },
      "execution_count": null,
      "outputs": []
    },
    {
      "cell_type": "code",
      "source": [
        "multinomial_nb_model = MultinomialNB()"
      ],
      "metadata": {
        "id": "P7ZYmfIpZoZS"
      },
      "execution_count": null,
      "outputs": []
    },
    {
      "cell_type": "code",
      "source": [
        "# мешок n-грамм"
      ],
      "metadata": {
        "id": "kSd3EBbBZ7S4"
      },
      "execution_count": null,
      "outputs": []
    },
    {
      "cell_type": "code",
      "source": [
        "from sklearn.pipeline import Pipeline\n",
        "from sklearn.model_selection import GridSearchCV\n",
        "\n",
        "count_vectorizer = CountVectorizer()\n",
        "bag_of_ngrams_pipeline = Pipeline([('count_vectorizer', count_vectorizer),\n",
        "                                   ('multinomial_nb', multinomial_nb_model)])\n",
        "\n",
        "param_grid = {'count_vectorizer__ngram_range': [(1, 2), (2, 2), \n",
        "                                                (2, 3), (3, 3), \n",
        "                                                (3, 4), (4, 4), \n",
        "                                                (1, 3), (1, 4)],\n",
        "              'multinomial_nb__alpha': [0, 0.01, 0.1, 0.5, 1]}\n",
        "gridsearch_cv = GridSearchCV(estimator=bag_of_ngrams_pipeline,\n",
        "                             param_grid=param_grid,\n",
        "                             n_jobs=-1,\n",
        "                             cv=5)\n",
        "gridsearch_cv.fit(x_train, y_train)\n",
        "print(f'Best params: {gridsearch_cv.best_params_}')\n",
        "\n",
        "metrics = classification_report(y_test,\n",
        "                                gridsearch_cv.predict(x_test),\n",
        "                                output_dict=True)\n",
        "\n",
        "assessments['precision'].append(metrics['macro avg']['precision'])\n",
        "assessments['recall'].append(metrics['macro avg']['recall'])\n",
        "assessments['f1-score'].append(metrics['macro avg']['f1-score'])\n",
        "assessments['accuracy'].append(metrics['accuracy'])"
      ],
      "metadata": {
        "colab": {
          "base_uri": "https://localhost:8080/"
        },
        "id": "knkzxTLPaFRd",
        "outputId": "f7d900f9-d380-469b-9b28-ba314d6fdd77"
      },
      "execution_count": null,
      "outputs": [
        {
          "output_type": "stream",
          "name": "stdout",
          "text": [
            "Best params: {'count_vectorizer__ngram_range': (1, 4), 'multinomial_nb__alpha': 0.5}\n"
          ]
        }
      ]
    },
    {
      "cell_type": "code",
      "source": [
        "# TF-IDF\n",
        "\n",
        "from sklearn.feature_extraction.text import TfidfVectorizer"
      ],
      "metadata": {
        "id": "ey7P9xUJaWBD"
      },
      "execution_count": null,
      "outputs": []
    },
    {
      "cell_type": "code",
      "source": [
        "tfidf_vectorizer = TfidfVectorizer()\n",
        "tfidf_pipeline = Pipeline([('tfidf', tfidf_vectorizer),\n",
        "                           ('multinomial_nb', multinomial_nb_model)])\n",
        "\n",
        "param_grid = {'tfidf__ngram_range': [(1, 2), (2, 2), \n",
        "                                     (2, 3), (3, 3), \n",
        "                                     (3, 4), (4, 4), \n",
        "                                     (1, 3), (1, 4)],\n",
        "              'tfidf__max_df': np.linspace(0.01, 0.5, num = 5),\n",
        "              'tfidf__min_df': np.linspace(0, 0.5, num = 5),\n",
        "              'tfidf__max_features': [6000, 12000, 20000, 30000],\n",
        "              'multinomial_nb__alpha': [0, 0.01, 0.1, 0.5, 1]}\n",
        "gridsearch_cv = GridSearchCV(estimator=tfidf_pipeline,\n",
        "                             param_grid=param_grid,\n",
        "                             n_jobs=-1,\n",
        "                             cv=5)\n",
        "gridsearch_cv.fit(x_train, y_train)\n",
        "print(f'Best params: {gridsearch_cv.best_params_}')\n",
        "\n",
        "metrics = classification_report(y_test,\n",
        "                                gridsearch_cv.predict(x_test),\n",
        "                                output_dict=True)\n",
        "\n",
        "assessments['precision'].append(metrics['macro avg']['precision'])\n",
        "assessments['recall'].append(metrics['macro avg']['recall'])\n",
        "assessments['f1-score'].append(metrics['macro avg']['f1-score'])\n",
        "assessments['accuracy'].append(metrics['accuracy'])"
      ],
      "metadata": {
        "colab": {
          "base_uri": "https://localhost:8080/"
        },
        "id": "1UK8BieBaW_s",
        "outputId": "d55077ca-91df-41ed-9258-bd40663f11e0"
      },
      "execution_count": null,
      "outputs": [
        {
          "output_type": "stream",
          "name": "stdout",
          "text": [
            "Best params: {'multinomial_nb__alpha': 0.01, 'tfidf__max_df': 0.1325, 'tfidf__max_features': 6000, 'tfidf__min_df': 0.0, 'tfidf__ngram_range': (1, 2)}\n"
          ]
        }
      ]
    },
    {
      "cell_type": "code",
      "source": [
        "# Символьные n-граммы"
      ],
      "metadata": {
        "id": "bgkCRjRIas5L"
      },
      "execution_count": null,
      "outputs": []
    },
    {
      "cell_type": "code",
      "source": [
        "char_vectorizer = CountVectorizer(analyzer='char')\n",
        "\n",
        "char_pipeline = Pipeline([('char_vectorizer', char_vectorizer),\n",
        "                          ('multinomial_nb', multinomial_nb_model)])\n",
        "\n",
        "param_grid = {'char_vectorizer__ngram_range': [(1, 2), (2, 2), \n",
        "                                               (2, 3), (3, 3), \n",
        "                                               (3, 4), (4, 4), \n",
        "                                               (1, 3), (1, 4)],\n",
        "              'multinomial_nb__alpha': [0, 0.001, 0.01, 0.1, 1]}\n",
        "gridsearch_cv = GridSearchCV(estimator=char_pipeline,\n",
        "                             param_grid=param_grid,\n",
        "                             n_jobs=-1,\n",
        "                             cv=5)\n",
        "gridsearch_cv.fit(x_train, y_train)\n",
        "print(f'Best params: {gridsearch_cv.best_params_}')\n",
        "\n",
        "metrics = classification_report(y_test,\n",
        "                                gridsearch_cv.predict(x_test),\n",
        "                                output_dict=True)\n",
        "\n",
        "assessments['precision'].append(metrics['macro avg']['precision'])\n",
        "assessments['recall'].append(metrics['macro avg']['recall'])\n",
        "assessments['f1-score'].append(metrics['macro avg']['f1-score'])\n",
        "assessments['accuracy'].append(metrics['accuracy'])"
      ],
      "metadata": {
        "colab": {
          "base_uri": "https://localhost:8080/"
        },
        "id": "wJz-adpHauFl",
        "outputId": "b069e92e-aa3c-4023-b18c-3e63f6603465"
      },
      "execution_count": null,
      "outputs": [
        {
          "output_type": "stream",
          "name": "stdout",
          "text": [
            "Best params: {'char_vectorizer__ngram_range': (2, 3), 'multinomial_nb__alpha': 0.1}\n"
          ]
        }
      ]
    },
    {
      "cell_type": "code",
      "source": [
        "assessments = pd.DataFrame(assessments, index =['Bag of N-grams',\n",
        "                                                'TF-IDF',\n",
        "                                                'Symbol N-grams',])\n",
        "\n",
        "assessments"
      ],
      "metadata": {
        "colab": {
          "base_uri": "https://localhost:8080/",
          "height": 143
        },
        "id": "AWid7IvAaxi6",
        "outputId": "44c5cff3-4928-48bf-aa2e-4cd1b13f37a7"
      },
      "execution_count": null,
      "outputs": [
        {
          "output_type": "execute_result",
          "data": {
            "text/plain": [
              "                precision    recall  f1-score  accuracy\n",
              "Bag of N-grams   0.971571  0.971571  0.971571  0.988365\n",
              "TF-IDF           0.970055  0.963191  0.966589  0.986425\n",
              "Symbol N-grams   0.948787  0.957474  0.953073  0.980608"
            ],
            "text/html": [
              "\n",
              "  <div id=\"df-e865c62d-d445-4a06-8398-58bac12e3f8d\">\n",
              "    <div class=\"colab-df-container\">\n",
              "      <div>\n",
              "<style scoped>\n",
              "    .dataframe tbody tr th:only-of-type {\n",
              "        vertical-align: middle;\n",
              "    }\n",
              "\n",
              "    .dataframe tbody tr th {\n",
              "        vertical-align: top;\n",
              "    }\n",
              "\n",
              "    .dataframe thead th {\n",
              "        text-align: right;\n",
              "    }\n",
              "</style>\n",
              "<table border=\"1\" class=\"dataframe\">\n",
              "  <thead>\n",
              "    <tr style=\"text-align: right;\">\n",
              "      <th></th>\n",
              "      <th>precision</th>\n",
              "      <th>recall</th>\n",
              "      <th>f1-score</th>\n",
              "      <th>accuracy</th>\n",
              "    </tr>\n",
              "  </thead>\n",
              "  <tbody>\n",
              "    <tr>\n",
              "      <th>Bag of N-grams</th>\n",
              "      <td>0.971571</td>\n",
              "      <td>0.971571</td>\n",
              "      <td>0.971571</td>\n",
              "      <td>0.988365</td>\n",
              "    </tr>\n",
              "    <tr>\n",
              "      <th>TF-IDF</th>\n",
              "      <td>0.970055</td>\n",
              "      <td>0.963191</td>\n",
              "      <td>0.966589</td>\n",
              "      <td>0.986425</td>\n",
              "    </tr>\n",
              "    <tr>\n",
              "      <th>Symbol N-grams</th>\n",
              "      <td>0.948787</td>\n",
              "      <td>0.957474</td>\n",
              "      <td>0.953073</td>\n",
              "      <td>0.980608</td>\n",
              "    </tr>\n",
              "  </tbody>\n",
              "</table>\n",
              "</div>\n",
              "      <button class=\"colab-df-convert\" onclick=\"convertToInteractive('df-e865c62d-d445-4a06-8398-58bac12e3f8d')\"\n",
              "              title=\"Convert this dataframe to an interactive table.\"\n",
              "              style=\"display:none;\">\n",
              "        \n",
              "  <svg xmlns=\"http://www.w3.org/2000/svg\" height=\"24px\"viewBox=\"0 0 24 24\"\n",
              "       width=\"24px\">\n",
              "    <path d=\"M0 0h24v24H0V0z\" fill=\"none\"/>\n",
              "    <path d=\"M18.56 5.44l.94 2.06.94-2.06 2.06-.94-2.06-.94-.94-2.06-.94 2.06-2.06.94zm-11 1L8.5 8.5l.94-2.06 2.06-.94-2.06-.94L8.5 2.5l-.94 2.06-2.06.94zm10 10l.94 2.06.94-2.06 2.06-.94-2.06-.94-.94-2.06-.94 2.06-2.06.94z\"/><path d=\"M17.41 7.96l-1.37-1.37c-.4-.4-.92-.59-1.43-.59-.52 0-1.04.2-1.43.59L10.3 9.45l-7.72 7.72c-.78.78-.78 2.05 0 2.83L4 21.41c.39.39.9.59 1.41.59.51 0 1.02-.2 1.41-.59l7.78-7.78 2.81-2.81c.8-.78.8-2.07 0-2.86zM5.41 20L4 18.59l7.72-7.72 1.47 1.35L5.41 20z\"/>\n",
              "  </svg>\n",
              "      </button>\n",
              "      \n",
              "  <style>\n",
              "    .colab-df-container {\n",
              "      display:flex;\n",
              "      flex-wrap:wrap;\n",
              "      gap: 12px;\n",
              "    }\n",
              "\n",
              "    .colab-df-convert {\n",
              "      background-color: #E8F0FE;\n",
              "      border: none;\n",
              "      border-radius: 50%;\n",
              "      cursor: pointer;\n",
              "      display: none;\n",
              "      fill: #1967D2;\n",
              "      height: 32px;\n",
              "      padding: 0 0 0 0;\n",
              "      width: 32px;\n",
              "    }\n",
              "\n",
              "    .colab-df-convert:hover {\n",
              "      background-color: #E2EBFA;\n",
              "      box-shadow: 0px 1px 2px rgba(60, 64, 67, 0.3), 0px 1px 3px 1px rgba(60, 64, 67, 0.15);\n",
              "      fill: #174EA6;\n",
              "    }\n",
              "\n",
              "    [theme=dark] .colab-df-convert {\n",
              "      background-color: #3B4455;\n",
              "      fill: #D2E3FC;\n",
              "    }\n",
              "\n",
              "    [theme=dark] .colab-df-convert:hover {\n",
              "      background-color: #434B5C;\n",
              "      box-shadow: 0px 1px 3px 1px rgba(0, 0, 0, 0.15);\n",
              "      filter: drop-shadow(0px 1px 2px rgba(0, 0, 0, 0.3));\n",
              "      fill: #FFFFFF;\n",
              "    }\n",
              "  </style>\n",
              "\n",
              "      <script>\n",
              "        const buttonEl =\n",
              "          document.querySelector('#df-e865c62d-d445-4a06-8398-58bac12e3f8d button.colab-df-convert');\n",
              "        buttonEl.style.display =\n",
              "          google.colab.kernel.accessAllowed ? 'block' : 'none';\n",
              "\n",
              "        async function convertToInteractive(key) {\n",
              "          const element = document.querySelector('#df-e865c62d-d445-4a06-8398-58bac12e3f8d');\n",
              "          const dataTable =\n",
              "            await google.colab.kernel.invokeFunction('convertToInteractive',\n",
              "                                                     [key], {});\n",
              "          if (!dataTable) return;\n",
              "\n",
              "          const docLinkHtml = 'Like what you see? Visit the ' +\n",
              "            '<a target=\"_blank\" href=https://colab.research.google.com/notebooks/data_table.ipynb>data table notebook</a>'\n",
              "            + ' to learn more about interactive tables.';\n",
              "          element.innerHTML = '';\n",
              "          dataTable['output_type'] = 'display_data';\n",
              "          await google.colab.output.renderOutput(dataTable, element);\n",
              "          const docLink = document.createElement('div');\n",
              "          docLink.innerHTML = docLinkHtml;\n",
              "          element.appendChild(docLink);\n",
              "        }\n",
              "      </script>\n",
              "    </div>\n",
              "  </div>\n",
              "  "
            ]
          },
          "metadata": {},
          "execution_count": 89
        }
      ]
    },
    {
      "cell_type": "code",
      "source": [
        "# Из данной таблицы мы видим, что наибольшие значения метрик у векторайзера Bag of N-grams, соответственно можем сделать вывод о его\n",
        "# наибольшой эффективности, а у 'Symbol of N-grams' в свою очередь самые маленькие значения среди всех векторайзеров\n",
        "# Векторайзер 'TF-IDFs' сохраняет среднее положение между двумя остальными"
      ],
      "metadata": {
        "id": "XrTQ5N-yyANf"
      },
      "execution_count": null,
      "outputs": []
    },
    {
      "cell_type": "markdown",
      "metadata": {
        "id": "5QYTwyMtWhAZ"
      },
      "source": [
        "## Задание 5.2 Регулярные выражения\n",
        "\n",
        "Регулярные выражения - способ поиска и анализа строк. Например, можно понять, какие даты в наборе строк представлены в формате DD/MM/YYYY, а какие - в других форматах. \n",
        "\n",
        "Или бывает, например, что перед работой с текстом, надо почистить его от своеобразного мусора: упоминаний пользователей, url и так далее.\n",
        "\n",
        "Навык полезный, давайте в нём тоже потренируемся.\n",
        "\n",
        "Для работы с регулярными выражениями есть библиотека **re**"
      ]
    },
    {
      "cell_type": "code",
      "metadata": {
        "id": "VaUW5S4gWhAb"
      },
      "source": [
        "import re"
      ],
      "execution_count": null,
      "outputs": []
    },
    {
      "cell_type": "markdown",
      "metadata": {
        "id": "D6aYh7Osl8xr"
      },
      "source": [
        "В регулярных выражениях, кроме привычных символов-букв, есть специальные символы:\n",
        "* **а?** - ноль или один символ **а**\n",
        "* **а+** - один или более символов **а**\n",
        "* **а\\*** - ноль или более символов **а** (не путать с +)\n",
        "* **.** - любое количество любого символа\n"
      ]
    },
    {
      "cell_type": "code",
      "source": [
        "result = re.findall('a?b.', 'aabbсabbcbb') \n",
        "print(result)"
      ],
      "metadata": {
        "colab": {
          "base_uri": "https://localhost:8080/"
        },
        "id": "o0Wh4EZcUVWB",
        "outputId": "eb3baf5e-4bf5-4e32-e9c0-b08fab66ba7c"
      },
      "execution_count": null,
      "outputs": [
        {
          "output_type": "stream",
          "name": "stdout",
          "text": [
            "['abb', 'abb', 'bb']\n"
          ]
        }
      ]
    },
    {
      "cell_type": "code",
      "source": [
        "result = re.findall('a*b.', 'aabbсabbcbb') \n",
        "print(result)"
      ],
      "metadata": {
        "colab": {
          "base_uri": "https://localhost:8080/"
        },
        "id": "ZgN7gjUwWGON",
        "outputId": "4c7da339-1c1d-464d-e958-18f091f3c1b0"
      },
      "execution_count": null,
      "outputs": [
        {
          "output_type": "stream",
          "name": "stdout",
          "text": [
            "['aabb', 'abb', 'bb']\n"
          ]
        }
      ]
    },
    {
      "cell_type": "code",
      "source": [
        "result = re.findall('a+b.', 'aabbсabbcbb') \n",
        "print(result)"
      ],
      "metadata": {
        "id": "izXJKMwJWKyY",
        "outputId": "358233f6-4a73-4e40-b797-b2d4aed3acd1",
        "colab": {
          "base_uri": "https://localhost:8080/"
        }
      },
      "execution_count": null,
      "outputs": [
        {
          "output_type": "stream",
          "name": "stdout",
          "text": [
            "['aabb', 'abb']\n"
          ]
        }
      ]
    },
    {
      "cell_type": "markdown",
      "metadata": {
        "id": "q7zOFFA3l_KQ"
      },
      "source": [
        "Рассмотрим подробно несколько наиболее полезных функций:"
      ]
    },
    {
      "cell_type": "markdown",
      "metadata": {
        "id": "DbJrUpARWhAd"
      },
      "source": [
        "### findall\n",
        "возвращает список всех найденных непересекающихся совпадений.\n",
        "\n",
        "Регулярное выражение **ab+c.**: \n",
        "* **a** - просто символ **a**\n",
        "* **b+** - один или более символов **b**\n",
        "* **c** - просто символ **c**\n",
        "* **.** - любой символ\n"
      ]
    },
    {
      "cell_type": "code",
      "metadata": {
        "id": "2athHzKuWhAd",
        "colab": {
          "base_uri": "https://localhost:8080/"
        },
        "outputId": "cafee36f-540d-4206-a320-d98ae94c4c47"
      },
      "source": [
        "result = re.findall('ab+c.', 'abcdefghijkabcabcxabc') \n",
        "print(result)"
      ],
      "execution_count": null,
      "outputs": [
        {
          "output_type": "stream",
          "name": "stdout",
          "text": [
            "['abcd', 'abca']\n"
          ]
        }
      ]
    },
    {
      "cell_type": "markdown",
      "metadata": {
        "id": "A9FpIw5RWhAf"
      },
      "source": [
        "Вопрос на внимательность: почему нет abcx?"
      ]
    },
    {
      "cell_type": "code",
      "source": [
        "# Потому что пересекается с ранее найденным совпадением"
      ],
      "metadata": {
        "id": "HWhPFgsq0zoH"
      },
      "execution_count": null,
      "outputs": []
    },
    {
      "cell_type": "markdown",
      "metadata": {
        "id": "B5ttzoxEWhAg"
      },
      "source": [
        "**Задание**: вернуть список первых двух букв каждого слова в строке, состоящей из нескольких слов."
      ]
    },
    {
      "cell_type": "code",
      "metadata": {
        "id": "7ZR2AEq3WhAg",
        "colab": {
          "base_uri": "https://localhost:8080/"
        },
        "outputId": "cd3956bb-958d-46f8-d82f-1eb672bcae49"
      },
      "source": [
        "re.findall(r'\\b[А-ЯЁа-яё][А-ЯЁа-яё]', 'Поставьте, пожалуйста, максимум баллов')"
      ],
      "execution_count": null,
      "outputs": [
        {
          "output_type": "execute_result",
          "data": {
            "text/plain": [
              "['По', 'по', 'ма', 'ба']"
            ]
          },
          "metadata": {},
          "execution_count": 5
        }
      ]
    },
    {
      "cell_type": "markdown",
      "metadata": {
        "id": "MI18l-l9WhAk"
      },
      "source": [
        "### split\n",
        "разделяет строку по заданному шаблону\n"
      ]
    },
    {
      "cell_type": "code",
      "metadata": {
        "id": "sVKdRoc1WhAl",
        "colab": {
          "base_uri": "https://localhost:8080/"
        },
        "outputId": "78b5d289-8e8c-4621-fe3c-34aa130c727c"
      },
      "source": [
        "result = re.split(',', 'itsy, bitsy, teenie, weenie') \n",
        "print(result)"
      ],
      "execution_count": null,
      "outputs": [
        {
          "output_type": "stream",
          "text": [
            "['itsy', ' bitsy', ' teenie', ' weenie']\n"
          ],
          "name": "stdout"
        }
      ]
    },
    {
      "cell_type": "markdown",
      "metadata": {
        "id": "10u5efuSWhAm"
      },
      "source": [
        "можно указать максимальное количество разбиений"
      ]
    },
    {
      "cell_type": "code",
      "metadata": {
        "id": "9U9EQZMwWhAn",
        "colab": {
          "base_uri": "https://localhost:8080/"
        },
        "outputId": "45699604-9950-4185-cd4f-0e3ad6655629"
      },
      "source": [
        "result = re.split(',', 'itsy, bitsy, teenie, weenie', maxsplit=2) \n",
        "print(result)"
      ],
      "execution_count": null,
      "outputs": [
        {
          "output_type": "stream",
          "text": [
            "['itsy', ' bitsy', ' teenie, weenie']\n"
          ],
          "name": "stdout"
        }
      ]
    },
    {
      "cell_type": "markdown",
      "metadata": {
        "id": "0EMcMyflWhAp"
      },
      "source": [
        "**Задание**: разбейте строку, состоящую из нескольких предложений, по точкам, но не более чем на 3 предложения."
      ]
    },
    {
      "cell_type": "code",
      "metadata": {
        "id": "dVgPSjEOWhAp",
        "colab": {
          "base_uri": "https://localhost:8080/"
        },
        "outputId": "6fb01e66-271c-453c-cfe5-4d9b9ae03047"
      },
      "source": [
        "result = re.split(r'(?<=\\w[.!?])', 'Очень? Сильно! Люблю... Машинное. Обучение. И всё. Что с ним. Связано.', maxsplit=2)\n",
        "print(result)"
      ],
      "execution_count": null,
      "outputs": [
        {
          "output_type": "stream",
          "name": "stdout",
          "text": [
            "['Очень?', ' Сильно!', ' Люблю... Машинное. Обучение. И всё. Что с ним. Связано.']\n"
          ]
        }
      ]
    },
    {
      "cell_type": "markdown",
      "metadata": {
        "id": "1wrEGqBSWhAr"
      },
      "source": [
        "### sub\n",
        "ищет шаблон в строке и заменяет все совпадения на указанную подстроку\n",
        "\n",
        "параметры: (pattern, repl, string)"
      ]
    },
    {
      "cell_type": "code",
      "metadata": {
        "id": "az3KxKWwWhAr",
        "colab": {
          "base_uri": "https://localhost:8080/"
        },
        "outputId": "93f260be-ce79-405c-b21a-5ca8345ff4b7"
      },
      "source": [
        "result = re.sub('a', 'b', 'abcabc')\n",
        "print (result)"
      ],
      "execution_count": null,
      "outputs": [
        {
          "output_type": "stream",
          "text": [
            "bbcbbc\n"
          ],
          "name": "stdout"
        }
      ]
    },
    {
      "cell_type": "markdown",
      "metadata": {
        "id": "qD0n7_HPWhAt"
      },
      "source": [
        "**Задание**: напишите регулярное выражение, которое позволит заменить все цифры в строке на \"DIG\"."
      ]
    },
    {
      "cell_type": "code",
      "metadata": {
        "id": "s_Sdu7xlWhAu",
        "colab": {
          "base_uri": "https://localhost:8080/"
        },
        "outputId": "66fc0238-95ec-46b8-bd53-6ed499ce46b9"
      },
      "source": [
        "result = re.sub(r'\\d', 'DIG', 'Мой номер телефона легко запомнить 8-923-123-09-89')\n",
        "print(result)"
      ],
      "execution_count": null,
      "outputs": [
        {
          "output_type": "stream",
          "name": "stdout",
          "text": [
            "Мой номер телефона легко запомнить DIG-DIGDIGDIG-DIGDIGDIG-DIGDIG-DIGDIG\n"
          ]
        }
      ]
    },
    {
      "cell_type": "markdown",
      "metadata": {
        "id": "b8__oi1PWhAv"
      },
      "source": [
        "**Задание**: напишите  регулярное выражение, которое позволит убрать url из строки."
      ]
    },
    {
      "cell_type": "code",
      "metadata": {
        "id": "KwNS9zt4WhAv",
        "colab": {
          "base_uri": "https://localhost:8080/"
        },
        "outputId": "ddb4b4e0-f5f3-4c87-ba13-6c980394bb19"
      },
      "source": [
        "result = re.sub(r'http[s]?://[\\w.:?/=]+', '', 'Ссылка на этот коллаб https://colab.research.google.com/drive/1NclA5kXO4snol50lz3zMGPf_SgbhEzjd?usp=sharing')\n",
        "print(result)"
      ],
      "execution_count": null,
      "outputs": [
        {
          "output_type": "stream",
          "name": "stdout",
          "text": [
            "Ссылка на этот коллаб \n"
          ]
        }
      ]
    },
    {
      "cell_type": "markdown",
      "metadata": {
        "id": "gStgBJy2WhAx"
      },
      "source": [
        "### compile\n",
        "компилирует регулярное выражение в отдельный объект"
      ]
    },
    {
      "cell_type": "code",
      "metadata": {
        "id": "JstTupisWhAy",
        "colab": {
          "base_uri": "https://localhost:8080/"
        },
        "outputId": "f60e13a6-9d93-46e5-f329-620f6072715f"
      },
      "source": [
        "# Пример: построение списка всех слов строки:\n",
        "prog = re.compile('[А-Яа-яё\\-]+')\n",
        "prog.findall(\"Слова? Да, больше, ещё больше слов! Что-то ещё.\")"
      ],
      "execution_count": null,
      "outputs": [
        {
          "output_type": "execute_result",
          "data": {
            "text/plain": [
              "['Слова', 'Да', 'больше', 'ещё', 'больше', 'слов', 'Что-то', 'ещё']"
            ]
          },
          "metadata": {
            "tags": []
          },
          "execution_count": 147
        }
      ]
    },
    {
      "cell_type": "markdown",
      "metadata": {
        "id": "WXEXc3G0WhA2"
      },
      "source": [
        "**Задание**: для выбранной строки постройте список слов, которые длиннее трех символов."
      ]
    },
    {
      "cell_type": "code",
      "metadata": {
        "id": "nFvnIWbUWhA2",
        "colab": {
          "base_uri": "https://localhost:8080/"
        },
        "outputId": "2622d750-ec95-4483-ac8d-12af105ac67f"
      },
      "source": [
        "prog = re.compile(r'\\w{4,}')\n",
        "prog.findall(\"Мне одному кажется, что эта работа заслуживает 12 баллов?\")"
      ],
      "execution_count": null,
      "outputs": [
        {
          "output_type": "execute_result",
          "data": {
            "text/plain": [
              "['одному', 'кажется', 'работа', 'заслуживает', 'баллов']"
            ]
          },
          "metadata": {},
          "execution_count": 66
        }
      ]
    },
    {
      "cell_type": "markdown",
      "metadata": {
        "id": "SQDNZ3HQWhA3"
      },
      "source": [
        "**Задание**: вернуть список доменов (@gmail.com) из списка адресов электронной почты:\n",
        "\n",
        "```\n",
        "abc.test@gmail.com, xyz@test.in, test.first@analyticsvidhya.com, first.test@rest.biz\n",
        "```"
      ]
    },
    {
      "cell_type": "code",
      "source": [
        "prog = re.compile(r\"@[A-Za-z0-9.-]+\\.[A-Z|a-z]{2,}\\b\")\n",
        "prog.findall('abc.test@gmail.com, xyz@te-st.in, test.first@analyticsvidhya.com, first.test@rest.biz')"
      ],
      "metadata": {
        "colab": {
          "base_uri": "https://localhost:8080/"
        },
        "id": "BCPflLxZ5C9S",
        "outputId": "6cf33b0e-2e77-43d0-adcc-631f044c5da7"
      },
      "execution_count": null,
      "outputs": [
        {
          "output_type": "execute_result",
          "data": {
            "text/plain": [
              "['@gmail.com', '@te-st.in', '@analyticsvidhya.com', '@rest.biz']"
            ]
          },
          "metadata": {},
          "execution_count": 101
        }
      ]
    }
  ]
}